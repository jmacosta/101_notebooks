{
 "cells": [
  {
   "attachments": {},
   "cell_type": "markdown",
   "metadata": {},
   "source": [
    "# Matrices\n",
    "\n",
    "----------------------"
   ]
  },
  {
   "attachments": {},
   "cell_type": "markdown",
   "metadata": {},
   "source": [
    "Una *matriz* es un lol de `int|float` cuyas listas tienen siempre la misma longitud.\n",
    "\n",
    "Veamos algunos ejemplos:\n",
    "\n",
    "```\n",
    "[\n",
    "    [1,2,3.4]\n",
    "]\n",
    "```\n",
    "\n",
    "```\n",
    "[\n",
    "    [3, 4.89, 8.99],\n",
    "    [2,3,4]\n",
    "]\n",
    "```\n",
    "\n",
    "```\n",
    "[] # matriz vacia\n",
    "```\n",
    "\n",
    "```\n",
    "[\n",
    "    [1,1],\n",
    "    [0,1]\n",
    "]\n",
    "```\n",
    "\n",
    "No son matrices:\n",
    "\n",
    "```\n",
    "[\n",
    "    [1,2,3,],\n",
    "    [4,5]\n",
    "]\n",
    "```\n",
    "\n",
    "```\n",
    "[\n",
    "    [None, \"00\"],\n",
    "    [3, 5]\n",
    "]\n",
    "```\n",
    "\n"
   ]
  },
  {
   "attachments": {},
   "cell_type": "markdown",
   "metadata": {},
   "source": [
    "#### Filas y Columnas: tanto monta commo monta tanto\n",
    "\n",
    "Las matrices son listas de listas de `int|float` y podemos pensar que son listsa de *columnas* de números.\n",
    "\n",
    "Aunque no están represnetadas directamente en nuestro lol, también podemos decir que tienen *filas* de números.\n",
    "\n",
    "Por ejemplo, la siguiente matriz:\n",
    "\n",
    "```\n",
    "[[1, 2],[0, 4]]\n",
    "```\n",
    "\n",
    "Tiene dos *columnas* de números (`[1,2]` y `[0,4]`), pero también podemos decir que tiene las siguientes *filas* de números:`[1,0]` y `[2, 4]`.\n",
    "\n"
   ]
  },
  {
   "attachments": {},
   "cell_type": "markdown",
   "metadata": {},
   "source": [
    "#### Matrices cuadradas\n",
    "\n",
    "Son aquellas cuyo número de columnas sea igual a la longitud de las mismas.\n",
    "\n",
    "\n",
    "* `[]` es una matriz cuadrada\n",
    "* `[[1,2], [4, 7]]` es una matriz cuadrada\n",
    "* `[[1,2,3,4,5]]` *no* es una matriz cuadrada\n",
    "* `[[1,2,3], [9,7]]` *no* es una matriz, es tan sólo un lol\n",
    "\n",
    "\n"
   ]
  }
 ],
 "metadata": {
  "language_info": {
   "name": "python"
  },
  "orig_nbformat": 4
 },
 "nbformat": 4,
 "nbformat_minor": 2
}
