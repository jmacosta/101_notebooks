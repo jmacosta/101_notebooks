{
 "cells": [
  {
   "attachments": {},
   "cell_type": "markdown",
   "metadata": {},
   "source": [
    "# Iteración Anidada\n",
    "\n",
    "---------------------"
   ]
  },
  {
   "attachments": {},
   "cell_type": "markdown",
   "metadata": {},
   "source": [
    "```Python\n",
    "def inception()->None:\n",
    "    \"\"\"\n",
    "    Sigue la pista de cada personaje en Inception\n",
    "    en todos los distintos niveles.\n",
    "    \"\"\"\n",
    "    for character in reality:\n",
    "        for character in van_chase:\n",
    "            for character in hotel:\n",
    "                for character in snow_fortress:\n",
    "                    for character in limbo:\n",
    "                        find_kick()\n",
    "```\n",
    "\n",
    "\n",
    "\n",
    "\n",
    "![](https://i.visual.ly/images/the-5-levels-of-inception_50290b4ce277a_w1500.jpg)"
   ]
  },
  {
   "attachments": {},
   "cell_type": "markdown",
   "metadata": {},
   "source": [
    "Aunque suene un poco estrafalario, es una técnica muy común y útil. Normalmente no vamos a anidar tanto como en la película de Nolan.\n",
    "\n",
    "Lo habitual es anidar dos niveles: un bucle dentro de otro y nada más.\n",
    "\n",
    "No obstante, eso a veces es suficiente para perderse.\n",
    "\n",
    "Vamos a poner en práctica algunas técnicas para no perdernos y terminar en el limbo como Saito.\n",
    "\n"
   ]
  }
 ],
 "metadata": {
  "language_info": {
   "name": "python"
  },
  "orig_nbformat": 4
 },
 "nbformat": 4,
 "nbformat_minor": 2
}
