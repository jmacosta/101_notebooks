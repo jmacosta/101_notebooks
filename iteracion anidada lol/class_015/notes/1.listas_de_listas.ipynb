{
 "cells": [
  {
   "attachments": {},
   "cell_type": "markdown",
   "metadata": {},
   "source": [
    "# Listas de Listas\n",
    "\n",
    "---------------"
   ]
  },
  {
   "attachments": {},
   "cell_type": "markdown",
   "metadata": {},
   "source": [
    "Llamamos a una lista cuyos elementos son a su vez todos ellos listas, una *lista de listas*.\n",
    "\n",
    "Como *lista de listas* es un nombre muy largo y necesitamos algo más corto, a una *lista de listas* (**L**ist **O**f **L**ists en Inglés), le llamaremos un *lol* 😂.\n",
    "\n"
   ]
  },
  {
   "attachments": {},
   "cell_type": "markdown",
   "metadata": {},
   "source": [
    "### Ejemplos de lol\n",
    "\n",
    "* `[]` El lol vacío\n",
    "* `[[]]` No es el lol vacío. Es un lol con 1 elemento\n",
    "* `[[1,2], ['a', []]` Un lol con dos elementos\n",
    "* `[[],[],[],[]]` Un lol con 4 elementos\n",
    "* `[[], [1,2], [True, False, True, True]]` Un lol de 3 elementos. Los elementos de un lol ¡*no tienen que tener el mismo tamaño*!\n",
    "* `[[], 8]` No es un lol, porque su segundo elemento no es una lista.\n",
    "\n",
    "\n"
   ]
  },
  {
   "attachments": {},
   "cell_type": "markdown",
   "metadata": {},
   "source": [
    "### Propiedades de un lol\n",
    "\n",
    "* Todo lol tiene una *longitud* (el número de elementos)\n",
    "* El lol vacío tiene longitud cero.\n",
    "* El *tamaño* de un lol es el número de elementos que hay en sus sub listas.\n",
    "  * El tamaño del lol vacío es 0\n",
    "  * El tamaño de `[[1,2], ['a', [3, 4]] ]` es 4 (1,2, 'a' y [3, 4])\n",
    "  \n"
   ]
  },
  {
   "attachments": {},
   "cell_type": "markdown",
   "metadata": {},
   "source": [
    "### Procesamiento de un lol\n",
    "\n",
    "Si las listas simples se procesaban con un bucle (ya sea `for` o `while`), los lol se procesan con dos bucles anidados.\n",
    "\n"
   ]
  }
 ],
 "metadata": {
  "language_info": {
   "name": "python"
  },
  "orig_nbformat": 4
 },
 "nbformat": 4,
 "nbformat_minor": 2
}
