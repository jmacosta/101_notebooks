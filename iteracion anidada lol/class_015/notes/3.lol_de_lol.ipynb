{
 "cells": [
  {
   "attachments": {},
   "cell_type": "markdown",
   "metadata": {},
   "source": [
    "# ¿Rizamos el rizo?\n",
    "\n",
    "--------------------\n",
    "\n"
   ]
  },
  {
   "attachments": {},
   "cell_type": "markdown",
   "metadata": {},
   "source": [
    "Ya hemos visto que un *lol* es una lista de listas. ¿No podríamos crear un *lol* cuyos elementos, en vez de listas planas, sean a su vez *lols*. Algo así como un *lolol* 🤦\n",
    "\n",
    "Podríamos, pero **no** lo haremos.\n",
    "\n",
    "\n",
    "\n"
   ]
  },
  {
   "attachments": {},
   "cell_type": "markdown",
   "metadata": {},
   "source": [
    "## ¿Lol de lol? ¡Cachoporoll!\n",
    "\n",
    "![](cachopo.png)\n",
    "\n",
    "Sólo porque puedes hacer algo, no quiere decir que debas hacerlo.\n",
    "\n",
    "\n",
    "No vamos a crear estructras de dtaos más anidadas por varias razones:\n",
    "\n",
    "1. Es *demasiado complejo* y hay *formas mejores de representar* esas cosas.\n",
    "2. Es *ineficiente*. Los bucels anidados son fuentes comunes de cuellos de botella.\n",
    "\n",
    "Es cierto que hay cosas que son inherentemente muy anidadas, como los árboles, que los encontramos en varias estructuras de datos,\n",
    " en sistemas de ficheros, en blockchains y muchos sitios más. Sin embargo, suele haber mejores formas de representarlos (lo veremos cuando lleguemos a las clases).\n",
    "\n"
   ]
  },
  {
   "attachments": {},
   "cell_type": "markdown",
   "metadata": {},
   "source": [
    "## El Zen de Python\n",
    "\n",
    "Este e sun bune momento para presentarte un \"eastern egg\" (huevo de Pascua) de Python.\n",
    "\n",
    "UN *Huevo de Pascua* es un detalle oculto en un programa, dejado ahí como broma de los programadores. Un ejemplo entretenido es unao que está en el cliente *desktop* de Spotify (Windows, Mac o Linux): reproduz cualquier canción que tenga algo que ver con *Star Wars* y mira cómo cambia el indicador de progreso. 🤓\n",
    "\n",
    "Pues bien Python también tiene uno, que imprime una serie de recomendaciones para escribir buen código de Python.\n",
    "\n",
    "En realidad, son recomendacione suniversales para cualquier lenguaje, y harías bien en imprimirlas y guardarlas junto a los *9 Pilares*\n",
    "\n",
    "Para verlos, sólo tienes que evaluar lo siguiente:"
   ]
  },
  {
   "cell_type": "code",
   "execution_count": null,
   "metadata": {},
   "outputs": [],
   "source": [
    "import this"
   ]
  },
  {
   "attachments": {},
   "cell_type": "markdown",
   "metadata": {},
   "source": [
    "### The Zen of Python, by Tim Peters\n",
    "\n",
    "```\n",
    "Beautiful is better than ugly.\n",
    "Explicit is better than implicit.\n",
    "Simple is better than complex.\n",
    "Complex is better than complicated.\n",
    "Flat is better than nested.\n",
    "Sparse is better than dense.\n",
    "Readability counts.\n",
    "Special cases aren't special enough to break the rules.\n",
    "Although practicality beats purity.\n",
    "Errors should never pass silently.\n",
    "Unless explicitly silenced.\n",
    "In the face of ambiguity, refuse the temptation to guess.\n",
    "There should be one-- and preferably only one --obvious way to do it.\n",
    "Although that way may not be obvious at first unless you're Dutch.\n",
    "Now is better than never.\n",
    "Although never is often better than *right* now.\n",
    "If the implementation is hard to explain, it's a bad idea.\n",
    "If the implementation is easy to explain, it may be a good idea.\n",
    "Namespaces are one honking great idea -- let's do more of those!\n",
    "```\n",
    "\n",
    "Fíjate sobre todo en los 8 primeros.\n",
    "\n",
    "¿Lol de lol? No gracias.\n"
   ]
  }
 ],
 "metadata": {
  "language_info": {
   "name": "python"
  },
  "orig_nbformat": 4
 },
 "nbformat": 4,
 "nbformat_minor": 2
}
