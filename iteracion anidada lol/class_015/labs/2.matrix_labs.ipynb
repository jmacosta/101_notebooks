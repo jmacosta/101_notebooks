{
 "cells": [
  {
   "attachments": {},
   "cell_type": "markdown",
   "metadata": {},
   "source": [
    "# Matrices\n",
    "\n",
    "\n",
    "------------------------------------------"
   ]
  },
  {
   "attachments": {},
   "cell_type": "markdown",
   "metadata": {},
   "source": [
    "#### (0) make_list\n",
    "\n",
    "Crea la función `make_list(size:int, value: int | float, index: int, fill: int| float)`. Recibe tres parámetros:\n",
    "\n",
    "* `size`: el tamaño o longitude de la lista que se va a crear.\n",
    "* `value`: Un entero o float que se va a meter en una cierta posición de la lista.\n",
    "* `index`: la posición donde se va a meter `value`\n",
    "* `fill`: El valor que vamos a meter en las demás posiciones\n",
    "\n",
    "Por ejemplo, \n",
    "\n",
    "`make_list(4, 1, 2, 0) == [0,0,2,0]`\n",
    "\n",
    "Si `index` tienen un valor imposible, lanza una excepción `ValueError`.\n",
    "\n",
    "1. Una función que crea un tipo (por ejemplo  una lista, un lol, una matriz) se le llamam un *constructor*.\n",
    "2. Añade la información de tipos a los parámetros y valor de retorno.\n",
    "   "
   ]
  },
  {
   "cell_type": "code",
   "execution_count": null,
   "metadata": {},
   "outputs": [],
   "source": []
  },
  {
   "attachments": {},
   "cell_type": "markdown",
   "metadata": {},
   "source": [
    "#### (1) is_matrix\n",
    "\n",
    "Crea el predicado `is_matrix` que devuelve true si un lol es una matriz. Repasa los requisitos para que un lol sea una matriz"
   ]
  },
  {
   "cell_type": "code",
   "execution_count": null,
   "metadata": {},
   "outputs": [],
   "source": []
  },
  {
   "attachments": {},
   "cell_type": "markdown",
   "metadata": {},
   "source": [
    "#### (2) num_of_columns\n",
    "\n",
    "Crea una función que recibe una matrix y devuelve el número de *columnas*.\n"
   ]
  },
  {
   "cell_type": "code",
   "execution_count": null,
   "metadata": {},
   "outputs": [],
   "source": []
  },
  {
   "attachments": {},
   "cell_type": "markdown",
   "metadata": {},
   "source": [
    "#### (3) num_of_rows\n",
    "\n",
    "Crea una función que recibe una matrix y devuelve el número de *filas*."
   ]
  },
  {
   "cell_type": "code",
   "execution_count": null,
   "metadata": {},
   "outputs": [],
   "source": []
  },
  {
   "attachments": {},
   "cell_type": "markdown",
   "metadata": {},
   "source": [
    "#### (4) is_square_matrix\n",
    "\n",
    "Crea el predicado que recibe un lol y devuelve si es una matriz cuadrada. ¿Puedes reaprovechar algunas de las funciones que ya has creado?\n",
    "\n"
   ]
  },
  {
   "cell_type": "code",
   "execution_count": null,
   "metadata": {},
   "outputs": [],
   "source": []
  },
  {
   "attachments": {},
   "cell_type": "markdown",
   "metadata": {},
   "source": [
    "#### (5) make_zero_matrix\n",
    "\n",
    "Una matriz-cero es aquella cuyos elementos son todos `0`. Crea la función que recibe 2 parámetros:\n",
    "\n",
    "* número de columnas\n",
    "* número de filas\n",
    "\n",
    "Devuelve la matriz cero del tamaño que se ha pedido"
   ]
  },
  {
   "cell_type": "code",
   "execution_count": null,
   "metadata": {},
   "outputs": [],
   "source": []
  },
  {
   "attachments": {},
   "cell_type": "markdown",
   "metadata": {},
   "source": [
    "#### (6) make_identity_matrix\n",
    "\n",
    "Una matriz identidad es aquella cuyos elementos son todos `1`. Crea la función que recibe 2 parámetros:\n",
    "\n",
    "* número de columnas\n",
    "* número de filas\n",
    "\n",
    "Devuelve la matriz identidad del tamaño que se ha pedido"
   ]
  },
  {
   "cell_type": "code",
   "execution_count": null,
   "metadata": {},
   "outputs": [],
   "source": []
  },
  {
   "attachments": {},
   "cell_type": "markdown",
   "metadata": {},
   "source": [
    "#### (7) make_constant_matrix\n",
    "\n",
    "Las dos funciones anteriores son demasiado parecidas. Crea la función `make_constant_matrix` que recibe 3 parámetros:\n",
    "\n",
    "* número de columnas\n",
    "* número de filas\n",
    "* valor de todos los elementos\n",
    "\n",
    "Además, re-escribe `make-zero-matriz` y `make-identity-matrix` en base a la que acabase de crear.\n",
    "\n",
    "1. ¿Qué tipo de función son?"
   ]
  },
  {
   "cell_type": "code",
   "execution_count": null,
   "metadata": {},
   "outputs": [],
   "source": []
  },
  {
   "attachments": {},
   "cell_type": "markdown",
   "metadata": {},
   "source": [
    "#### (8) Información de tipo de una matriz\n",
    "\n",
    "La información de tipo de un lol de `int|float`, sería la siguiente:\n",
    "`list[list[int|float]]`.\n",
    "\n",
    "¿Cual sería el tipo de una matriz?\n",
    "\n",
    "**Explicación**\n",
    "\n",
    "Podemos indicar que se trata de una lista de listas de `int|float`, pero cómo indicamos que todas las listas (columnas) han de tener la misma longitud?\n",
    "\n",
    "Sólo con los tipos no podemos. Nos falta un `predicado` que indique la limitación del tamaño de las columnas.\n",
    "\n",
    "> Ni en Python, ni en ningún lenguaje normal se puede representar eso con los tipos.\n",
    "\n",
    "Un tipo compuesto por un *tipo normal* y uin predicado, se llama un **Tipo Dependiente** y es algo que muy pocos lenguajes tienen.\n",
    "\n",
    "UN ejemplo de lenguaje con tipos dependientes es [Idris](https://www.idris-lang.org/) pero es un lenguaje académico, usado para la investigación en lenguajes de programación.\n",
    "\n",
    "Esto nos permitiría representar con l ainfromación de tipos, cosas cómo:\n",
    "\n",
    "* listas que siempre están ordenadas\n",
    "* cadenas que siempre están en mayúsculas\n",
    "* listas de números que son siemrpre positivos\n",
    "* matrices que jamás tienen un `None`\n",
    "* etc...\n",
    "\n",
    "Es posible que en algunos años algunos lenguajes de uso común, empiecen a tener **Tipos Dependientes**. De momento, toca esperar.\n"
   ]
  },
  {
   "cell_type": "code",
   "execution_count": null,
   "metadata": {},
   "outputs": [],
   "source": []
  },
  {
   "attachments": {},
   "cell_type": "markdown",
   "metadata": {},
   "source": [
    "#### (9) make_diagonal_matrix\n",
    "\n",
    "Una matriz diagonal es una *matriz cuadrada* que sólo tienen valores no nulos en la diagonal principal. Todos los demás tienen que ser ceros.\n",
    "\n",
    "Por ejemplo:\n",
    "\n",
    "\\begin{bmatrix}\n",
    "1 & 0 & 0 \\\\\n",
    "0 & 5 & 0 \\\\\n",
    "0 & 0 & -5\n",
    "\\end{bmatrix}\n",
    "\n",
    "Crea la función `make_diagonal_matrix` que recibe 2 parámetros:\n",
    "\n",
    "1. Tamaño\n",
    "2. Lista con los valores que irán en la diagonal principal.\n",
    "   \n",
    "**Ayuda**\n",
    "\n",
    "1. ¿Qué tamaño debe de tener la lista de la diagonal principal? Es decir, si tienes una matriz cuadrada de tamaño 6, cual será la longitud de la diagonal principal?\n",
    "2. Si la lista de valores de la diagonal principal está fuera del rango adecuado, lanza una excepción. Averigua en la documentación de Python cual es la más adecuada para dicho error.\n",
    "1. ¿Cómo dividirías el problema? ¿Podría romperlo en crear cada una de las listas que represnetan las columnas y luego combinar esa en una matriz?\n",
    "2. ¿Qué parámtros debería de recibir la función para crear las columnas? ¿Crees que podrías aprovechar alguna función que ya hasyas creado?\n",
    "\n",
    "DIVIDE & VENCERÁS\n",
    "LOS PROBLEMAS SE ROMPEN, LAS SOLUCIONES SE COMBINAN\n",
    "\n",
    "\n"
   ]
  },
  {
   "cell_type": "code",
   "execution_count": null,
   "metadata": {},
   "outputs": [],
   "source": []
  },
  {
   "attachments": {},
   "cell_type": "markdown",
   "metadata": {},
   "source": [
    "#### (10) make_scalar_matrix\n",
    "\n",
    "Una matriz escalar es parecida a la matriz diagonal, con una limitación extra: todos los elementos de la diagonal principal han de ser iguales:\n",
    "\n",
    "\n",
    "\\begin{bmatrix}\n",
    "10 & 0 & 0 \\\\\n",
    "0 & 10 & 0 \\\\\n",
    "0 & 0 & 10\n",
    "\\end{bmatrix}\n",
    "\n",
    "\n",
    "Crea la función `make_scalar_matrix` que recibe dos parámetros:\n",
    "\n",
    "1. El tamaño\n",
    "2. El valor que irá en la diagonal principal\n",
    "\n",
    "¿Crees que podrías reaprovechar algo de lo que ya tienes? \n",
    "\n",
    "DRY\n"
   ]
  },
  {
   "cell_type": "code",
   "execution_count": null,
   "metadata": {},
   "outputs": [],
   "source": []
  },
  {
   "attachments": {},
   "cell_type": "markdown",
   "metadata": {},
   "source": [
    "#### (11) scalar_product\n",
    "\n",
    "Se llama *producto escalar* cuando multiplicas un número por una matriz (cuadrada o no).\n",
    "\n",
    "El procedimiento es multiplicar cada uno de los elementos de la matriz por el número.\n",
    "\n",
    "Crea la función correspondiente. Si recibe suna matriz nula (`[]`), devuelve la `[]`.\n",
    "\n"
   ]
  },
  {
   "cell_type": "code",
   "execution_count": null,
   "metadata": {},
   "outputs": [],
   "source": []
  },
  {
   "attachments": {},
   "cell_type": "markdown",
   "metadata": {},
   "source": [
    "#### (12) transpose\n",
    "\n",
    "Una operación muy común con matrices se llama transposición. Consiste en cambiar filas por columnas. Veamos un ejemplo:\n",
    "\n",
    "Una matriz escalar es parecida a la matriz diagonal, con una limitación extra: todos los elementos de la diagonal principal han de ser iguales:\n",
    "\n",
    "Matriz original:\n",
    "\n",
    "\\begin{bmatrix}\n",
    "0 & 2 & 6 \\\\\n",
    "1 & 3 & 7 \\\\\n",
    "\\end{bmatrix}\n",
    "\n",
    "Matriz transpuesta:\n",
    "\n",
    "\\begin{bmatrix}\n",
    "0 & 1 \\\\\n",
    "2 & 3 \\\\\n",
    "6 & 7\n",
    "\\end{bmatrix}\n",
    "\n",
    "**Lo que antes eran filas ahora son columnas**\n",
    "\n",
    "Esta e suna operación que se usa mucho en efectos gráficos, 3D, tratamiento de datos y procesamiento de imágnes, además de en IA y Deep Learning.\n",
    "\n",
    "\n",
    "\n",
    "1. Crea la función `transpose` que recibe una matriz (no tiene por qué ser cuadrada) y devuelve su transpuesta.\n",
    "\n",
    "\n",
    "**Ayuda**\n",
    "\n",
    "Parece chungo. El *Divide & Vencerás*, no parece que ayude mucho aquí, porque lo natural sería hacerlo por columnas, pero en cada paso hay que usar datos de todas las columnas. Parece que pinchamos en hueso. \n",
    "\n",
    "Cuando *Divide y Vencerás* falla, tiramos de su primo hermano: *Transforma y Vencerás*. Vamos a transformar el problema de algo que no sabemos resolver (*cambiar filas por columnas*) a otro que podamos meter mano.\n",
    "\n",
    "\n",
    "\n",
    "Para ello, vamos a mirar de nuevo las dos matrices (la original y la transpuesta) con otros ojos e intentar [\"pensar diferente\"](https://www.youtube.com/watch?v=nmginVTDYgc)\n",
    "\n",
    "\n",
    "1. La *primera* columna de la transpuesta, está compuesta por los *primeros* elementos de las columnas de la original.\n",
    "2. La *segunda* columna de la transpuesta, está compuesta por los *segundos* elementos de las columnas de la original.\n",
    "3. y así sucesivamente\n",
    "\n",
    "![](smart_guy.jpg)\n",
    "\n",
    "Ahora lo tengo. Viéndolo de esta nueva froma, ya puedo aplicar Divide & Vencerás:\n",
    "\n",
    "1. Cada nueva columna es una lista que se crea a partir la matriz original, extrayendo los elementos del índice correspondiente: primero el 0, luego el 1, luego el 2, etc...\n",
    "2. Juraría que tengo una función que hace precisamente eso. Se llamaba `get_nths`. DRY\n",
    "\n",
    "**Resumen**\n",
    "\n",
    "1. Intentamos aplicar *Divide & Vencerás*, y nos fue como el 🍑\n",
    "2. Aplicamos *Transforma & Vencerás*, rompimos la resistencia del enemigo,\n",
    "   1. Le metimos un *Divide & Vencerás* por donde no llega el sol\n",
    "   2. Aplicamos un DRY para no repetir código\n",
    "   3. Combinamos las soluciones parciales\n",
    "4. Salimos victoriosos cual programador con pelo en el pecho, auténticos Giga Chads del Código.\n",
    "\n",
    "![](giga_chad.jpeg)\n",
    "\n",
    "Con un par, sí señor.\n",
    "\n"
   ]
  },
  {
   "attachments": {},
   "cell_type": "markdown",
   "metadata": {},
   "source": [
    "#### (13) print_matrix\n",
    "\n",
    "Vamos a hacer algo muy sencillo, que tal vez tendríamos que haber hecho antes: una función que imprime una matriz.\n",
    "\n",
    "Si recibes esta matriz,\n",
    "\n",
    "\\begin{bmatrix}\n",
    "0 & 2 & 6 \\\\\n",
    "1 & 3 & 7 \\\\\n",
    "\\end{bmatrix}\n",
    "\n",
    "deberás, usando la función `print` de Python , imprimirla con esta pinta:\n",
    "\n",
    "```\n",
    "|0  2   6|\n",
    "|1  3   7|\n",
    "\n",
    "```\n",
    "\n",
    "1. Para aplicar Divide & Vencerás lo tienes chungo, porque lo que te da la matriz son las columnas, y tú necesitas las filas para ir imprimiéndolas una por linea.\n",
    "2. Si supieses de alguna forma de transformar la matriz para tener las antiguas filas como columnas, igual era más fácil...\n",
    "\n",
    "1. Mira la documentación de la función `print` para ver cómo puedes hacer que quede más bonito y alineado (mira `\\t` a ver qué significa).\n",
    "2. Escribe la información de tipo de la función. ¿Qué devuelve? "
   ]
  },
  {
   "cell_type": "code",
   "execution_count": null,
   "metadata": {},
   "outputs": [],
   "source": []
  },
  {
   "attachments": {},
   "cell_type": "markdown",
   "metadata": {},
   "source": [
    "### RESUMEN\n",
    "\n",
    "![](transforma_divide.jpeg)\n",
    "\n",
    "1. Aplica *Divide & Vencerás* si el problema es chungo. Divide hasta que llegues a un subproblema que sea trivial de resolver. \n",
    "2. Resuelve los subproblemas\n",
    "3. Combina las soluciones de los sobproblemas hasta tener la solución total: *Los problemas se rompen, las soluciones se combinan*.\n",
    "4. Si el problema original no se puede Dividir fácilmente, ¡haz trampa! *Transforma* el problema en uno que ya tengas resuelto o en uno que puedas subdividir: *Transforma & Vencerás*.\n",
    "5. Aplica *DRY* a lo largo de todo el proceso.\n",
    "\n",
    "> Armado con los *Pilares de la Ciberkinesis*, ningún problema (informático o no) se te resistirá.\n",
    "\n"
   ]
  },
  {
   "cell_type": "code",
   "execution_count": null,
   "metadata": {},
   "outputs": [],
   "source": []
  }
 ],
 "metadata": {
  "language_info": {
   "name": "python"
  },
  "orig_nbformat": 4
 },
 "nbformat": 4,
 "nbformat_minor": 2
}
