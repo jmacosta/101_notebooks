{
 "cells": [
  {
   "attachments": {},
   "cell_type": "markdown",
   "metadata": {},
   "source": [
    "# Matrices\n",
    "\n",
    "\n",
    "------------------------------------------"
   ]
  },
  {
   "attachments": {},
   "cell_type": "markdown",
   "metadata": {},
   "source": [
    "#### (0) make_list\n",
    "\n",
    "Crea la función `make_list(size:int, value: int | float, index: int, fill: int| float)`. Recibe tres parámetros:\n",
    "\n",
    "* `size`: el tamaño o longitude de la lista que se va a crear.\n",
    "* `value`: Un entero o float que se va a meter en una cierta posición de la lista.\n",
    "* `index`: la posición donde se va a meter `value`\n",
    "* `fill`: El valor que vamos a meter en las demás posiciones\n",
    "\n",
    "Por ejemplo, \n",
    "\n",
    "`make_list(4, 1, 2, 0) == [0,0,2,0]`\n",
    "\n",
    "Si `index` tienen un valor imposible, lanza una excepción `ValueError`.\n",
    "\n",
    "1. Una función que crea un tipo (por ejemplo  una lista, un lol, una matriz) se le llamam un *constructor*.\n",
    "2. Añade la información de tipos a los parámetros y valor de retorno.\n",
    "   "
   ]
  },
  {
   "cell_type": "code",
   "execution_count": 18,
   "metadata": {},
   "outputs": [],
   "source": [
    "def make_list(size:int, value: int | float, index: int, fill: int| float)->list[int|float]:\n",
    "    \"\"\" \n",
    "    Recibe tres parámetros:\n",
    "\n",
    "* `size`: el tamaño o longitude de la lista que se va a crear.\n",
    "* `value`: Un entero o float que se va a meter en una cierta posición de la lista.\n",
    "* `index`: la posición donde se va a meter `value`\n",
    "* `fill`: El valor que vamos a meter en las demás posiciones\n",
    "\"\"\"\n",
    "    if index <0 or index >= size:\n",
    "        raise ValueError \n",
    "    result=[]\n",
    "    for element in range(size):\n",
    "        if element == index: \n",
    "            result.append(value)\n",
    "        else: \n",
    "            result.append(fill)\n",
    "    return result    \n",
    "        \n"
   ]
  },
  {
   "cell_type": "code",
   "execution_count": 16,
   "metadata": {},
   "outputs": [
    {
     "data": {
      "text/plain": [
       "[0, 0, 0, 1]"
      ]
     },
     "execution_count": 16,
     "metadata": {},
     "output_type": "execute_result"
    }
   ],
   "source": [
    "make_list(4, 1, 3, 0)"
   ]
  },
  {
   "attachments": {},
   "cell_type": "markdown",
   "metadata": {},
   "source": [
    "#### (1) is_matrix\n",
    "\n",
    "Crea el predicado `is_matrix` que devuelve true si un lol es una matriz. Repasa los requisitos para que un lol sea una matriz"
   ]
  },
  {
   "cell_type": "code",
   "execution_count": 13,
   "metadata": {},
   "outputs": [],
   "source": [
    "lol_type =list[int|float]\n",
    "\n",
    "def is_lol(lol:lol_type):\n",
    "    \"\"\" \n",
    "    determina si recibe un lol\n",
    "    \"\"\"\n",
    "    result = True\n",
    "    for element in lol:\n",
    "        if type(element) != list: \n",
    "            result = False\n",
    "            break\n",
    "    return result\n",
    "\n",
    "def is_loltype(lol:lol_type):\n",
    "    \"\"\" \n",
    "    Determina si lo que recibe cumple con los tipos validos para una matrix int |float\n",
    "    \"\"\"\n",
    "    result = True\n",
    "    for element_list in lol:\n",
    "        for element in element_list:\n",
    "            if type(element) != int and type(element) != float:\n",
    "                result= False\n",
    "                break\n",
    "\n",
    "    return result\n",
    "\n",
    "def is_same_length(lol:lol_type):\n",
    "    \"\"\" \n",
    "    determina si todos los list del lol tienen la misma longitud\n",
    "    \"\"\"\n",
    "    result = True\n",
    "    for element in lol:\n",
    "        if element != lol[0]:\n",
    "            result = False\n",
    "            break\n",
    "    return result\n",
    "\n",
    "\n",
    "def is_matrix(lol:lol_type)->bool:\n",
    "    \"\"\" \n",
    "    recibe un lol y determina si es una matrix\n",
    "    \"\"\"\n",
    "    return is_lol(lol) and is_loltype(lol) and is_same_length(lol)\n",
    "    "
   ]
  },
  {
   "cell_type": "code",
   "execution_count": 19,
   "metadata": {},
   "outputs": [
    {
     "data": {
      "text/plain": [
       "False"
      ]
     },
     "execution_count": 19,
     "metadata": {},
     "output_type": "execute_result"
    }
   ],
   "source": [
    "is_matrix([[1,1,1,1],[1,1,1]])"
   ]
  },
  {
   "cell_type": "code",
   "execution_count": 18,
   "metadata": {},
   "outputs": [
    {
     "data": {
      "text/plain": [
       "False"
      ]
     },
     "execution_count": 18,
     "metadata": {},
     "output_type": "execute_result"
    }
   ],
   "source": [
    "is_matrix([[1,1,1,1],[1,1,1,'1']])"
   ]
  },
  {
   "cell_type": "code",
   "execution_count": 17,
   "metadata": {},
   "outputs": [
    {
     "data": {
      "text/plain": [
       "True"
      ]
     },
     "execution_count": 17,
     "metadata": {},
     "output_type": "execute_result"
    }
   ],
   "source": [
    "is_matrix([[1,1,1,1],[1,1,1,1]])"
   ]
  },
  {
   "cell_type": "code",
   "execution_count": 16,
   "metadata": {},
   "outputs": [
    {
     "data": {
      "text/plain": [
       "False"
      ]
     },
     "execution_count": 16,
     "metadata": {},
     "output_type": "execute_result"
    }
   ],
   "source": [
    "is_matrix([[1,1,1,1],[1,1,1,1],5])"
   ]
  },
  {
   "cell_type": "code",
   "execution_count": 20,
   "metadata": {},
   "outputs": [
    {
     "data": {
      "text/plain": [
       "True"
      ]
     },
     "execution_count": 20,
     "metadata": {},
     "output_type": "execute_result"
    }
   ],
   "source": [
    "is_matrix([])"
   ]
  },
  {
   "attachments": {},
   "cell_type": "markdown",
   "metadata": {},
   "source": [
    "#### (2) num_of_columns\n",
    "\n",
    "Crea una función que recibe una matrix y devuelve el número de *columnas*.\n"
   ]
  },
  {
   "cell_type": "code",
   "execution_count": 21,
   "metadata": {},
   "outputs": [],
   "source": [
    "def num_of_columns(lol:list[int|float]):\n",
    "    \"\"\" \n",
    "    Recibe una matrix y determina el numero de columnas \n",
    "    \"\"\"\n",
    "    result =0\n",
    "    for list_element in lol:\n",
    "        result += 1\n",
    "    return result"
   ]
  },
  {
   "cell_type": "code",
   "execution_count": 22,
   "metadata": {},
   "outputs": [
    {
     "data": {
      "text/plain": [
       "2"
      ]
     },
     "execution_count": 22,
     "metadata": {},
     "output_type": "execute_result"
    }
   ],
   "source": [
    "num_of_columns([[1,2,3],[1,2,3]])"
   ]
  },
  {
   "cell_type": "code",
   "execution_count": 23,
   "metadata": {},
   "outputs": [
    {
     "data": {
      "text/plain": [
       "0"
      ]
     },
     "execution_count": 23,
     "metadata": {},
     "output_type": "execute_result"
    }
   ],
   "source": [
    "num_of_columns([])"
   ]
  },
  {
   "attachments": {},
   "cell_type": "markdown",
   "metadata": {},
   "source": [
    "#### (3) num_of_rows\n",
    "\n",
    "Crea una función que recibe una matrix y devuelve el número de *filas*."
   ]
  },
  {
   "cell_type": "code",
   "execution_count": 28,
   "metadata": {},
   "outputs": [],
   "source": [
    "def num_of_rows(lol:list[int|float]):\n",
    "    \"\"\" \n",
    "    Recibe una matrix y determina el numero de filas\n",
    "    \"\"\"\n",
    "    result =0\n",
    "    for list_element in lol[0]:\n",
    "            result +=1\n",
    "    return result"
   ]
  },
  {
   "cell_type": "code",
   "execution_count": 29,
   "metadata": {},
   "outputs": [
    {
     "data": {
      "text/plain": [
       "3"
      ]
     },
     "execution_count": 29,
     "metadata": {},
     "output_type": "execute_result"
    }
   ],
   "source": [
    "num_of_rows([[1,2,3],[1,2,3]])"
   ]
  },
  {
   "attachments": {},
   "cell_type": "markdown",
   "metadata": {},
   "source": [
    "#### (4) is_square_matrix\n",
    "\n",
    "Crea el predicado que recibe un lol y devuelve si es una matriz cuadrada. ¿Puedes reaprovechar algunas de las funciones que ya has creado?\n",
    "\n"
   ]
  },
  {
   "cell_type": "code",
   "execution_count": 30,
   "metadata": {},
   "outputs": [],
   "source": [
    "def is_square_matrix(lol:list[int|float]):\n",
    "    \"\"\" \n",
    "    Recibe una matrix y determina si es cuadrada\n",
    "    \"\"\"\n",
    "    return num_of_columns(lol) == num_of_rows(lol)"
   ]
  },
  {
   "cell_type": "code",
   "execution_count": 32,
   "metadata": {},
   "outputs": [
    {
     "data": {
      "text/plain": [
       "True"
      ]
     },
     "execution_count": 32,
     "metadata": {},
     "output_type": "execute_result"
    }
   ],
   "source": [
    "is_square_matrix([[1,2],[1,2]])"
   ]
  },
  {
   "attachments": {},
   "cell_type": "markdown",
   "metadata": {},
   "source": [
    "#### (5) make_zero_matrix\n",
    "\n",
    "Una matriz-cero es aquella cuyos elementos son todos `0`. Crea la función que recibe 2 parámetros:\n",
    "\n",
    "* número de columnas\n",
    "* número de filas\n",
    "\n",
    "Devuelve la matriz cero del tamaño que se ha pedido"
   ]
  },
  {
   "cell_type": "code",
   "execution_count": 58,
   "metadata": {},
   "outputs": [],
   "source": [
    "def make_zero_matrix(column:int, row:int, constant=0)->list[int]:\n",
    "    \"\"\" \n",
    "    Crea la función que recibe 2 parámetros:\n",
    "número de columnas\n",
    "número de filas y los rellena todos a 0\n",
    "    \"\"\"\n",
    "    if column <=0 and row <=0:\n",
    "        raise ValueError \n",
    "    result= []\n",
    "    for element_column in range(column):\n",
    "        result.append([])\n",
    "        for element_row in range(row):\n",
    "            result[element_column].append(constant)\n",
    "    return result"
   ]
  },
  {
   "cell_type": "code",
   "execution_count": 59,
   "metadata": {},
   "outputs": [
    {
     "data": {
      "text/plain": [
       "[[0, 0, 0, 0], [0, 0, 0, 0], [0, 0, 0, 0], [0, 0, 0, 0], [0, 0, 0, 0]]"
      ]
     },
     "execution_count": 59,
     "metadata": {},
     "output_type": "execute_result"
    }
   ],
   "source": [
    "make_zero_matrix(5, 4)"
   ]
  },
  {
   "attachments": {},
   "cell_type": "markdown",
   "metadata": {},
   "source": [
    "#### (6) make_identity_matrix\n",
    "\n",
    "Una matriz identidad es aquella cuyos elementos son todos `1`. Crea la función que recibe 2 parámetros:\n",
    "\n",
    "* número de columnas\n",
    "* número de filas\n",
    "\n",
    "Devuelve la matriz identidad del tamaño que se ha pedido"
   ]
  },
  {
   "cell_type": "code",
   "execution_count": 60,
   "metadata": {},
   "outputs": [],
   "source": [
    "def make_identity_matrix(column:int, row:int, constant=1)->list[int]:\n",
    "    \"\"\" \n",
    "    Crea la función que recibe 2 parámetros:\n",
    "número de columnas\n",
    "número de filas y los rellena todos a 1\n",
    "    \"\"\"\n",
    "    if column <=0 and row <=0:\n",
    "        raise ValueError \n",
    "    result= []\n",
    "    for element_column in range(column):\n",
    "        result.append([])\n",
    "        for element_row in range(row):\n",
    "            result[element_column].append(constant)\n",
    "    return result"
   ]
  },
  {
   "cell_type": "code",
   "execution_count": 61,
   "metadata": {},
   "outputs": [
    {
     "data": {
      "text/plain": [
       "[[1, 1, 1, 1], [1, 1, 1, 1], [1, 1, 1, 1], [1, 1, 1, 1], [1, 1, 1, 1]]"
      ]
     },
     "execution_count": 61,
     "metadata": {},
     "output_type": "execute_result"
    }
   ],
   "source": [
    "make_identity_matrix(5, 4)"
   ]
  },
  {
   "attachments": {},
   "cell_type": "markdown",
   "metadata": {},
   "source": [
    "#### (7) make_constant_matrix\n",
    "\n",
    "Las dos funciones anteriores son demasiado parecidas. Crea la función `make_constant_matrix` que recibe 3 parámetros:\n",
    "\n",
    "* número de columnas\n",
    "* número de filas\n",
    "* valor de todos los elementos\n",
    "\n",
    "Además, re-escribe `make-zero-matriz` y `make-identity-matrix` en base a la que acabase de crear.\n",
    "\n",
    "1. ¿Qué tipo de función son?"
   ]
  },
  {
   "cell_type": "code",
   "execution_count": 62,
   "metadata": {},
   "outputs": [],
   "source": [
    "def make_constant_matrix(column:int, row:int, constant)->list[int]:\n",
    "    \"\"\" \n",
    "    Crea la función que recibe 2 parámetros:\n",
    "número de columnas\n",
    "número de filas y los rellena todos a n\n",
    "    \"\"\"\n",
    "    if column <=0 and row <=0:\n",
    "        raise ValueError \n",
    "    result= []\n",
    "    for element_column in range(column):\n",
    "        result.append([])\n",
    "        for element_row in range(row):\n",
    "            result[element_column].append(constant)\n",
    "    return result"
   ]
  },
  {
   "attachments": {},
   "cell_type": "markdown",
   "metadata": {},
   "source": [
    "#### (8) Información de tipo de una matriz\n",
    "\n",
    "La información de tipo de un lol de `int|float`, sería la siguiente:\n",
    "`list[list[int|float]]`.\n",
    "\n",
    "¿Cual sería el tipo de una matriz?\n",
    "\n",
    "**Explicación**\n",
    "\n",
    "Podemos indicar que se trata de una lista de listas de `int|float`, pero cómo indicamos que todas las listas (columnas) han de tener la misma longitud?\n",
    "\n",
    "Sólo con los tipos no podemos. Nos falta un `predicado` que indique la limitación del tamaño de las columnas.\n",
    "\n",
    "> Ni en Python, ni en ningún lenguaje normal se puede representar eso con los tipos.\n",
    "\n",
    "Un tipo compuesto por un *tipo normal* y uin predicado, se llama un **Tipo Dependiente** y es algo que muy pocos lenguajes tienen.\n",
    "\n",
    "UN ejemplo de lenguaje con tipos dependientes es [Idris](https://www.idris-lang.org/) pero es un lenguaje académico, usado para la investigación en lenguajes de programación.\n",
    "\n",
    "Esto nos permitiría representar con l ainfromación de tipos, cosas cómo:\n",
    "\n",
    "* listas que siempre están ordenadas\n",
    "* cadenas que siempre están en mayúsculas\n",
    "* listas de números que son siemrpre positivos\n",
    "* matrices que jamás tienen un `None`\n",
    "* etc...\n",
    "\n",
    "Es posible que en algunos años algunos lenguajes de uso común, empiecen a tener **Tipos Dependientes**. De momento, toca esperar.\n"
   ]
  },
  {
   "cell_type": "code",
   "execution_count": null,
   "metadata": {},
   "outputs": [],
   "source": []
  },
  {
   "attachments": {},
   "cell_type": "markdown",
   "metadata": {},
   "source": [
    "#### (9) make_diagonal_matrix\n",
    "\n",
    "Una matriz diagonal es una *matriz cuadrada* que sólo tienen valores no nulos en la diagonal principal. Todos los demás tienen que ser ceros.\n",
    "\n",
    "Por ejemplo:\n",
    "\n",
    "\\begin{bmatrix}\n",
    "1 & 0 & 0 \\\\\n",
    "0 & 5 & 0 \\\\\n",
    "0 & 0 & -5\n",
    "\\end{bmatrix}\n",
    "\n",
    "Crea la función `make_diagonal_matrix` que recibe 2 parámetros:\n",
    "\n",
    "1. Tamaño\n",
    "2. Lista con los valores que irán en la diagonal principal.\n",
    "   \n",
    "**Ayuda**\n",
    "\n",
    "1. ¿Qué tamaño debe de tener la lista de la diagonal principal? Es decir, si tienes una matriz cuadrada de tamaño 6, cual será la longitud de la diagonal principal?\n",
    "2. Si la lista de valores de la diagonal principal está fuera del rango adecuado, lanza una excepción. Averigua en la documentación de Python cual es la más adecuada para dicho error.\n",
    "1. ¿Cómo dividirías el problema? ¿Podría romperlo en crear cada una de las listas que represnetan las columnas y luego combinar esa en una matriz?\n",
    "2. ¿Qué parámtros debería de recibir la función para crear las columnas? ¿Crees que podrías aprovechar alguna función que ya hasyas creado?\n",
    "\n",
    "DIVIDE & VENCERÁS\n",
    "LOS PROBLEMAS SE ROMPEN, LAS SOLUCIONES SE COMBINAN\n",
    "\n",
    "\n"
   ]
  },
  {
   "cell_type": "code",
   "execution_count": 65,
   "metadata": {},
   "outputs": [],
   "source": [
    "def make_matrix(size):\n",
    "    result= []\n",
    "    for element_list in range(size): \n",
    "        result.append([])\n",
    "        for element in range(size):\n",
    "            result[element_list].append(0) \n",
    "    return result  \n",
    "\n",
    "def make_diagonal_matrix(size, diagonal_numbers):\n",
    "    if size <0 and size != len (diagonal_numbers) : \n",
    "        raise IndexError\n",
    "    result = make_matrix(size)\n",
    "    for i in range(size):\n",
    "        for j in range (size):\n",
    "            if i == j: \n",
    "                result [i][j] = diagonal_numbers[j]\n",
    "    return result"
   ]
  },
  {
   "cell_type": "code",
   "execution_count": 44,
   "metadata": {},
   "outputs": [
    {
     "data": {
      "text/plain": [
       "[[1, 0, 0], [0, 2, 0], [0, 0, 3]]"
      ]
     },
     "execution_count": 44,
     "metadata": {},
     "output_type": "execute_result"
    }
   ],
   "source": [
    "make_diagonal_matrix(3,[1,2,3])"
   ]
  },
  {
   "attachments": {},
   "cell_type": "markdown",
   "metadata": {},
   "source": [
    "#### (10) make_scalar_matrix\n",
    "\n",
    "Una matriz escalar es parecida a la matriz diagonal, con una limitación extra: todos los elementos de la diagonal principal han de ser iguales:\n",
    "\n",
    "\n",
    "\\begin{bmatrix}\n",
    "10 & 0 & 0 \\\\\n",
    "0 & 10 & 0 \\\\\n",
    "0 & 0 & 10\n",
    "\\end{bmatrix}\n",
    "\n",
    "\n",
    "Crea la función `make_scalar_matrix` que recibe dos parámetros:\n",
    "\n",
    "1. El tamaño\n",
    "2. El valor que irá en la diagonal principal\n",
    "\n",
    "¿Crees que podrías reaprovechar algo de lo que ya tienes? \n",
    "\n",
    "DRY\n"
   ]
  },
  {
   "cell_type": "code",
   "execution_count": 66,
   "metadata": {},
   "outputs": [],
   "source": [
    "def make_scalar_matrix(size:int, diagonal_number:int|float)->list[int|float]:\n",
    "    \"\"\" \n",
    "    recibe el tamaño y el valor que ira en la diagonal principal\n",
    "    \"\"\"\n",
    "    diagonal_list =[]\n",
    "    for index in range(diagonal_number):\n",
    "        diagonal_list.append(diagonal_number)\n",
    "    return make_diagonal_matrix(size,diagonal_list)"
   ]
  },
  {
   "cell_type": "code",
   "execution_count": 67,
   "metadata": {},
   "outputs": [
    {
     "data": {
      "text/plain": [
       "[[4, 0, 0], [0, 4, 0], [0, 0, 4]]"
      ]
     },
     "execution_count": 67,
     "metadata": {},
     "output_type": "execute_result"
    }
   ],
   "source": [
    "make_scalar_matrix(3,4)"
   ]
  },
  {
   "attachments": {},
   "cell_type": "markdown",
   "metadata": {},
   "source": [
    "#### (11) scalar_product\n",
    "\n",
    "Se llama *producto escalar* cuando multiplicas un número por una matriz (cuadrada o no).\n",
    "\n",
    "El procedimiento es multiplicar cada uno de los elementos de la matriz por el número.\n",
    "\n",
    "Crea la función correspondiente. Si recibe suna matriz nula (`[]`), devuelve la `[]`.\n",
    "\n"
   ]
  },
  {
   "cell_type": "code",
   "execution_count": 7,
   "metadata": {},
   "outputs": [],
   "source": [
    "def scalar_product(number:int, matrix:int|float)->list[int|float]:\n",
    "    \"\"\" \n",
    "    recibe un numero  y lo multiplica por todos los numeros de la matriz\n",
    "    \"\"\"\n",
    "    scalar_matrix =[]\n",
    "    for index_matrix in range(len(matrix)):\n",
    "        scalar_matrix.append([])\n",
    "        for element in (matrix[index_matrix]):\n",
    "            scalar_matrix[index_matrix].append(number*element)\n",
    "    return scalar_matrix\n"
   ]
  },
  {
   "cell_type": "code",
   "execution_count": 5,
   "metadata": {},
   "outputs": [
    {
     "data": {
      "text/plain": [
       "[[2, 4, 6], [8, 10, 12]]"
      ]
     },
     "execution_count": 5,
     "metadata": {},
     "output_type": "execute_result"
    }
   ],
   "source": [
    "scalar_product(2,[[1,2,3],[4,5,6]])"
   ]
  },
  {
   "attachments": {},
   "cell_type": "markdown",
   "metadata": {},
   "source": [
    "#### (12) transpose\n",
    "\n",
    "Una operación muy común con matrices se llama transposición. Consiste en cambiar filas por columnas. Veamos un ejemplo:\n",
    "\n",
    "Una matriz escalar es parecida a la matriz diagonal, con una limitación extra: todos los elementos de la diagonal principal han de ser iguales:\n",
    "\n",
    "Matriz original:\n",
    "\n",
    "\\begin{bmatrix}\n",
    "0 & 2 & 6 \\\\\n",
    "1 & 3 & 7 \\\\\n",
    "\\end{bmatrix}\n",
    "\n",
    "Matriz transpuesta:\n",
    "\n",
    "\\begin{bmatrix}\n",
    "0 & 1 \\\\\n",
    "2 & 3 \\\\\n",
    "6 & 7\n",
    "\\end{bmatrix}\n",
    "\n",
    "**Lo que antes eran filas ahora son columnas**\n",
    "\n",
    "Esta es una operación que se usa mucho en efectos gráficos, 3D, tratamiento de datos y procesamiento de imágnes, además de en IA y Deep Learning.\n",
    "\n",
    "\n",
    "\n",
    "1. Crea la función `transpose` que recibe una matriz (no tiene por qué ser cuadrada) y devuelve su transpuesta.\n",
    "\n",
    "\n",
    "**Ayuda**\n",
    "\n",
    "Parece chungo. El *Divide & Vencerás*, no parece que ayude mucho aquí, porque lo natural sería hacerlo por columnas, pero en cada paso hay que usar datos de todas las columnas. Parece que pinchamos en hueso. \n",
    "\n",
    "Cuando *Divide y Vencerás* falla, tiramos de su primo hermano: *Transforma y Vencerás*. Vamos a transformar el problema de algo que no sabemos resolver (*cambiar filas por columnas*) a otro que podamos meter mano.\n",
    "\n",
    "\n",
    "\n",
    "Para ello, vamos a mirar de nuevo las dos matrices (la original y la transpuesta) con otros ojos e intentar [\"pensar diferente\"](https://www.youtube.com/watch?v=nmginVTDYgc)\n",
    "\n",
    "\n",
    "1. La *primera* columna de la transpuesta, está compuesta por los *primeros* elementos de las columnas de la original.\n",
    "2. La *segunda* columna de la transpuesta, está compuesta por los *segundos* elementos de las columnas de la original.\n",
    "3. y así sucesivamente\n",
    "\n",
    "![](smart_guy.jpg)\n",
    "\n",
    "Ahora lo tengo. Viéndolo de esta nueva froma, ya puedo aplicar Divide & Vencerás:\n",
    "\n",
    "1. Cada nueva columna es una lista que se crea a partir la matriz original, extrayendo los elementos del índice correspondiente: primero el 0, luego el 1, luego el 2, etc...\n",
    "2. Juraría que tengo una función que hace precisamente eso. Se llamaba `get_nths`. DRY\n",
    "\n",
    "**Resumen**\n",
    "\n",
    "1. Intentamos aplicar *Divide & Vencerás*, y nos fue como el 🍑\n",
    "2. Aplicamos *Transforma & Vencerás*, rompimos la resistencia del enemigo,\n",
    "   1. Le metimos un *Divide & Vencerás* por donde no llega el sol\n",
    "   2. Aplicamos un DRY para no repetir código\n",
    "   3. Combinamos las soluciones parciales\n",
    "4. Salimos victoriosos cual programador con pelo en el pecho, auténticos Giga Chads del Código.\n",
    "\n",
    "![](giga_chad.jpeg)\n",
    "\n",
    "Con un par, sí señor.\n",
    "\n"
   ]
  },
  {
   "cell_type": "code",
   "execution_count": 5,
   "metadata": {},
   "outputs": [],
   "source": [
    "num = int|float\n",
    "def get_nths(lol: list[int|float], order:int)-> list[None|num]: \n",
    "    \"\"\" \n",
    "    Recibe un lol de números (`int` o `float`) y devuelve lista de números o `None` (`int`, `float`, `None`) \n",
    "    con los primeros elementos de cada una de la sublistas del lol.\n",
    "    \"\"\"\n",
    "    result = []\n",
    "    if lol != []: \n",
    "        for element in lol:\n",
    "                result.append(element[order])\n",
    "    return result\n",
    "\n",
    "def transpose_matrix(lol:list[num])->list[num]:\n",
    "    \"\"\" \n",
    "    Recibe una matriz y devuelve una matriz transpuesta\n",
    "    \"\"\"\n",
    "    result=[]\n",
    "    index =0\n",
    "    for list_element in lol:\n",
    "        result.append(get_nths(lol,index))\n",
    "        index += 1\n",
    "    return result"
   ]
  },
  {
   "cell_type": "code",
   "execution_count": 18,
   "metadata": {},
   "outputs": [
    {
     "data": {
      "text/plain": [
       "[[2, 5, 6], [3, 4, 7]]"
      ]
     },
     "execution_count": 18,
     "metadata": {},
     "output_type": "execute_result"
    }
   ],
   "source": [
    "transpose_matrix([[2,3],[5,4],[6,7]] )"
   ]
  },
  {
   "attachments": {},
   "cell_type": "markdown",
   "metadata": {},
   "source": [
    "#### (13) print_matrix\n",
    "\n",
    "Vamos a hacer algo muy sencillo, que tal vez tendríamos que haber hecho antes: una función que imprime una matriz.\n",
    "\n",
    "Si recibes esta matriz,\n",
    "\n",
    "\\begin{bmatrix}\n",
    "0 & 2 & 6 \\\\\n",
    "1 & 3 & 7 \\\\\n",
    "\\end{bmatrix}\n",
    "\n",
    "deberás, usando la función `print` de Python , imprimirla con esta pinta:\n",
    "\n",
    "```\n",
    "|0  2   6|\n",
    "|1  3   7|\n",
    "\n",
    "```\n",
    "\n",
    "1. Para aplicar Divide & Vencerás lo tienes chungo, porque lo que te da la matriz son las columnas, y tú necesitas las filas para ir imprimiéndolas una por linea.\n",
    "2. Si supieses de alguna forma de transformar la matriz para tener las antiguas filas como columnas, igual era más fácil...\n",
    "\n",
    "1. Mira la documentación de la función `print` para ver cómo puedes hacer que quede más bonito y alineado (mira `\\t` a ver qué significa).\n",
    "2. Escribe la información de tipo de la función. ¿Qué devuelve? "
   ]
  },
  {
   "cell_type": "code",
   "execution_count": 23,
   "metadata": {},
   "outputs": [],
   "source": [
    "num = int|float\n",
    "def get_nths(lol: list[int|float], order:int)-> list[None|num]: \n",
    "    \"\"\" \n",
    "    Recibe un lol de números (`int` o `float`) y devuelve lista de números o `None` (`int`, `float`, `None`) \n",
    "    con los primeros elementos de cada una de la sublistas del lol.\n",
    "    \"\"\"\n",
    "    result = []\n",
    "    if lol != []: \n",
    "        for element in lol:\n",
    "                result.append(element[order])\n",
    "    return result\n",
    "\n",
    "def transpose_matrix(lol:list[num])->list[num]:\n",
    "    \"\"\" \n",
    "    Recibe una matriz y devuelve una matriz transpuesta\n",
    "    \"\"\"\n",
    "    result=[]\n",
    "    index =0\n",
    "    for index in range(len(lol[0])):\n",
    "        result.append(get_nths(lol,index))\n",
    "        index += 1\n",
    "    return result\n",
    "\n",
    "def print_matrix(lol:list[num]):\n",
    "    matrix_transpose_for_print = transpose_matrix(lol)\n",
    "    for list_elements in matrix_transpose_for_print:\n",
    "        string_print='| '\n",
    "        for element in list_elements:\n",
    "            string_print += str(element)+'\\t'\n",
    "        string_print= string_print[:-1]\n",
    "        string_print+= ' |'\n",
    "        print(string_print)\n"
   ]
  },
  {
   "cell_type": "code",
   "execution_count": 24,
   "metadata": {},
   "outputs": [
    {
     "name": "stdout",
     "output_type": "stream",
     "text": [
      "| 2\t2\t2 |\n",
      "| 3\t3\t3 |\n"
     ]
    }
   ],
   "source": [
    "print_matrix([[2,3],[2,3],[2,3]])"
   ]
  },
  {
   "attachments": {},
   "cell_type": "markdown",
   "metadata": {},
   "source": [
    "### RESUMEN\n",
    "\n",
    "![](transforma_divide.jpeg)\n",
    "\n",
    "1. Aplica *Divide & Vencerás* si el problema es chungo. Divide hasta que llegues a un subproblema que sea trivial de resolver. \n",
    "2. Resuelve los subproblemas\n",
    "3. Combina las soluciones de los sobproblemas hasta tener la solución total: *Los problemas se rompen, las soluciones se combinan*.\n",
    "4. Si el problema original no se puede Dividir fácilmente, ¡haz trampa! *Transforma* el problema en uno que ya tengas resuelto o en uno que puedas subdividir: *Transforma & Vencerás*.\n",
    "5. Aplica *DRY* a lo largo de todo el proceso.\n",
    "\n",
    "> Armado con los *Pilares de la Ciberkinesis*, ningún problema (informático o no) se te resistirá.\n",
    "\n"
   ]
  }
 ],
 "metadata": {
  "kernelspec": {
   "display_name": "Python 3",
   "language": "python",
   "name": "python3"
  },
  "language_info": {
   "codemirror_mode": {
    "name": "ipython",
    "version": 3
   },
   "file_extension": ".py",
   "mimetype": "text/x-python",
   "name": "python",
   "nbconvert_exporter": "python",
   "pygments_lexer": "ipython3",
   "version": "3.10.10"
  },
  "orig_nbformat": 4
 },
 "nbformat": 4,
 "nbformat_minor": 2
}
