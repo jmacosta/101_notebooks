{
 "cells": [
  {
   "attachments": {},
   "cell_type": "markdown",
   "metadata": {},
   "source": [
    "# Ejercicios de lol\n",
    "\n",
    "\n",
    "---------------------------\n"
   ]
  },
  {
   "attachments": {},
   "cell_type": "markdown",
   "metadata": {},
   "source": [
    "\n",
    "#### (0) Función `is_lol`\n",
    "\n",
    "Crea la función `is_lol` que recibe una lista y devuelve `True` si se trata de un lol (una lista de listas) y `False` en caso contrario.\n",
    "\n",
    "En este ejercício no necesitas dos bucles, te basta con uno. Usa for o while, lo que prefieras.\n",
    "\n",
    "1. ¿Qué tipo de función es?\n",
    "2. Re-escríbela con la indicación de tipo de su retorno\n"
   ]
  },
  {
   "attachments": {},
   "cell_type": "markdown",
   "metadata": {},
   "source": [
    "#### (1) Indicación de tipo\n",
    "\n",
    "Si la indicación de tipo para una lista cualquiera es `list`, \n",
    "\n",
    "1. ¿Cual sería la de un lol?\n",
    "2. ¿Y un lol de enteros?"
   ]
  },
  {
   "attachments": {},
   "cell_type": "markdown",
   "metadata": {},
   "source": [
    "#### (2) ¿Qué hace esta función?\n",
    "\n",
    "Explica lo que hace y rellena lo que falta.\n",
    "\n",
    "\n",
    "```Python\n",
    "def mistery(lol):\n",
    "    accum = ???\n",
    "    for element in lol:\n",
    "        accum = accum + len(???)\n",
    "    return accum\n",
    "```\n",
    "\n",
    "1. Dale un mejor nombre\n",
    "2. Pon su información de tipo en parámetro y retorno"
   ]
  },
  {
   "attachments": {},
   "cell_type": "markdown",
   "metadata": {},
   "source": [
    "#### (2) sum_lol\n",
    "\n",
    "\n",
    "Crea la función `sum_lol` que recibe un lol de números y devuelve un número con la suma de todos los números en él.\n",
    "\n",
    "1. Cuando la tengas, añade la indiciación de tipo a parámetro y retorno. Supón que acepta y devuelve tanto `int` como `float`.\n",
    "2. ¿Qué tipo de función es?"
   ]
  },
  {
   "attachments": {},
   "cell_type": "markdown",
   "metadata": {},
   "source": [
    "#### (3) power_lol\n",
    "\n",
    "Crea la función `power_lol` que recibe un lol de números y devuelve un número con el producto de todos los números en él.\n",
    "\n",
    "1. Cuando la tengas, añade la indiciación de tipo a parámetro y retorno. Supón que acepta y devuelve tanto `int` como `float`.\n",
    "2. ¿Qué tipo de función es?"
   ]
  },
  {
   "attachments": {},
   "cell_type": "markdown",
   "metadata": {},
   "source": [
    "#### (4) power_lol y  sum_lol\n",
    "\n",
    "1. ¿En qué se parecen a las versiones de dichas funciones para listas planas?\n",
    "2. ¿Se podrían implementar en base a la versión para lista plana?"
   ]
  },
  {
   "attachments": {},
   "cell_type": "markdown",
   "metadata": {},
   "source": [
    "#### (5) longitud y tamaño\n",
    "\n",
    "1. ¿Cual es la diferencia entre el tamaño y la longitud de un lol?\n",
    "2. ¿Cómo calcularías el *tamaño* de un lol?"
   ]
  },
  {
   "attachments": {},
   "cell_type": "markdown",
   "metadata": {},
   "source": [
    "#### (6) lol_size\n",
    "\n",
    "Crea la función `lol_size` que recibe un lol, de cualquier tipo de elemento, y devuelve un entero con el tamaño del lol.\n",
    "\n",
    "1. ¿Qué tipo de función es?\n",
    "2. Añade la indicación de tipos tanto al retorno como al parámetro.\n",
    "   "
   ]
  },
  {
   "attachments": {},
   "cell_type": "markdown",
   "metadata": {},
   "source": [
    "#### (7) has_equal_lengths\n",
    "\n",
    "Crea la función `has_equal_lengths` que recibe un lol y devuelve un booleano indicando si todos los elementos (las sublistas del lol) tienen el mismo tamaño.\n",
    "\n",
    "1. ¿Qué tipo de función es?\n",
    "2. Añade la indicación de tipos tanto al retorno como al parámetro.\n",
    "   "
   ]
  },
  {
   "attachments": {},
   "cell_type": "markdown",
   "metadata": {},
   "source": [
    "#### (8) has_longer_than\n",
    "\n",
    "Crea la función `has_longer_than` que recibe un lol y un entero `max_len`. Devuelve un booleano si el lol tiene al menos un elemento con una longitud mayor que `max_len`.\n",
    "\n",
    "1. ¿Qué tipo de función es?\n",
    "2. Añade la indicación de tipos tanto al retorno como al parámetro.\n",
    "   "
   ]
  },
  {
   "attachments": {},
   "cell_type": "markdown",
   "metadata": {},
   "source": [
    "#### (9) lol_contains\n",
    "\n",
    "Crea la función `lol_contains` que recibe un lol y otro parámetro (de cualquier tipo) llamado `needle`. Devuelve un booleano si el lol contiene a `needle` en alguno de sus sublistas. No iteres más de lo debido.\n",
    "\n",
    "1. ¿Qué tipo de función es?\n",
    "2. Añade la indicación de tipos tanto al retorno como al parámetro.\n",
    "   "
   ]
  },
  {
   "attachments": {},
   "cell_type": "markdown",
   "metadata": {},
   "source": [
    "#### (10) lol_sum_even\n",
    "\n",
    "Crea la función `lol_sum_even` que recibe un lol de enteros y devuelve la suma de todos los números pares.\n",
    "\n",
    "1. ¿Qué tipo de función es?\n",
    "2. Añade la indicación de tipos tanto al retorno como al parámetro.\n",
    "3. Crea la función `lol_sum_odd` que suma los números *impares*, haciendo la menor cantidad de cambios posibles."
   ]
  },
  {
   "attachments": {},
   "cell_type": "markdown",
   "metadata": {},
   "source": [
    "#### (10) lol_prod_odd\n",
    "\n",
    "Crea la función `lol_prod_odd` que recibe un lol de enteros y devuelve el producto de todos los números impares.\n",
    "\n",
    "1. ¿Qué tipo de función es?\n",
    "2. Añade la indicación de tipos tanto al retorno como al parámetro.\n",
    "3. Crea la función `lol_prod_even` que suma los números *pares*, haciendo la menor cantidad de cambios posibles.\n"
   ]
  },
  {
   "attachments": {},
   "cell_type": "markdown",
   "metadata": {},
   "source": [
    "#### (11) Patrones\n",
    "\n",
    "1. Comprueba si ves algún patrón común en estas funciones\n",
    "2. Compara con los patrones (compresor, selector y transformador) que hemso visto anteriormente para listas planas\n",
    "3. ¿Crees que sería posible implementar la versión lol de un compresor (por ejemplo) usando la versión de la lista plana?\n",
    "\n"
   ]
  },
  {
   "attachments": {},
   "cell_type": "markdown",
   "metadata": {},
   "source": [
    "#### (12) lol_contains_any\n",
    "\n",
    "Crea la función que recibe un lol y una lista llamada `needles` y devuelve un booleano. La función devolverá True si en alguna de las sublistas del lol, aparece alguno de los elementos que están en la lista `needles`.\n",
    "\n",
    "1. Recuerda Divide y Vencerás: cómo romperías el problema\n",
    "2. Añade la indicación de tipo a la función\n",
    "3. ¿Qué tipo de función es?\n",
    "\n"
   ]
  },
  {
   "attachments": {},
   "cell_type": "markdown",
   "metadata": {},
   "source": [
    "#### (13) lol_contains_all\n",
    "\n",
    "Crea la función que recibe un lol y una lista llamada `needles` y devuelve un booleano. La función devolverá True si entre los elementos de las sublistas, aparecen *todos*  los elementos que están en la lista `needles`.\n",
    "\n",
    "No importa en orden en el que aparecezcan ni la sublista. No tienen que estar todos en la misma sublista.\n",
    "\n",
    "1. Recuerda Divide y Vencerás: cómo romperías el problema\n",
    "2. Añade la indicación de tipo a la función\n",
    "3. ¿Qué tipo de función es?\n",
    "4. ¿En qué se parece al problema anterior?\n",
    "5. ¿En qué se distingue?\n"
   ]
  },
  {
   "attachments": {},
   "cell_type": "markdown",
   "metadata": {},
   "source": [
    "#### (14) larger_than\n",
    "\n",
    "Función que recibe un lol de números (`int` o `float`) y un número (`int` o `float`). Devuelve otro lol con las mismas dimensiones que el anterior, pero compuetso de listas de booleanos. \n",
    "\n",
    "Los booleanos serán True o False dependiendo de si el elemento de la sublista es mayor que el parámetro numérico.\n",
    "\n",
    "1. ¿Qué tipo de función es?\n",
    "2. Añade la indicación de tipos"
   ]
  },
  {
   "attachments": {},
   "cell_type": "markdown",
   "metadata": {},
   "source": [
    "#### (15) has_same_dimensions\n",
    "\n",
    "La función recibe dos lols y devuelve True si tienen las mismas dimensiones: mismo número de sublistas, y las sublistas en uno y otro tienen la misma longitud.\n",
    "\n",
    "1. ¿Qué tipo de función es?\n",
    "2. Añade la info de tipo\n",
    "3. Usala para comprobar que la función anteriro realmente devuelve lols de dimensiones iguales\n"
   ]
  },
  {
   "attachments": {},
   "cell_type": "markdown",
   "metadata": {},
   "source": [
    "#### (16) add_to_lol\n",
    "\n",
    "La función recibe un lol de números (`int` o `float`) y un número (`int` o `float`). Devuelve otro lol con las mismas dimensiones que el anterior, pero cada elemento individual de las sublistas sumado a el número recibido como parámetro.\n",
    "\n",
    "```\n",
    "add_to_lol([[1,2,3],[-1, 0],[0]], 42) ---> [[43, 44, 47], [40, 42], [42]]\n",
    "```\n",
    "\n",
    "1. ¿Se te ocurre cómo romper el problema?\n",
    "2. Comprueba que el lol de salida tiene las mismas dimensiones que el de entrada\n",
    "3. Si una de las listas de lol de entrada es la lista vacía, lanza una excepción `ValueError`\n",
    "4. Añade la info de tipos a la función\n",
    "5. ¿Qué tipo de función es?\n"
   ]
  },
  {
   "attachments": {},
   "cell_type": "markdown",
   "metadata": {},
   "source": [
    "#### (17) add_to_each_in_lol\n",
    "\n",
    "Similar al anterior. El cambio principal, es que el segundo parámetro no es un número, sino una lista de números. \n",
    "\n",
    "Debes de añadir a todos los elementos del lol (las sublistas) el valor correspiente de la lista de entrada:\n",
    "\n",
    "1. A la primera lista, añado a todos sus elementos el primer valor de la lista de parametros\n",
    "2. A la segunda lista, añado a todos sus elementos el segudo valor de la lista de parametros\n",
    "3. Etc...\n",
    "\n",
    "**Comprobaciones**\n",
    "\n",
    "1. El lol debe de tener la misma longitud que la lista\n",
    "2. Si no es así, lanza una excepción `ValueError`\n",
    "3. Si la lista de parámetros es la lista vacía, se devuelve el lol tal y como estaba (no se hace nada)\n",
    "4. Si el lol es el lol vacío, se devuelve un lol que contiene los elementos de la lista en el orden en que estaba:\n",
    "\n",
    "```\n",
    "add_to_each_in_lol([[],[],[]], [1,2,3]) ---> [[1],[2],[3]]\n",
    "```\n",
    "\n",
    "1. ¿Cómo romperías el problema?\n",
    "2. Qué tipo de función es?\n",
    "3. Añade la info de tipos\n",
    "   "
   ]
  },
  {
   "attachments": {},
   "cell_type": "markdown",
   "metadata": {},
   "source": [
    "#### (18) get_firsts\n",
    "\n",
    "Recibe un lol de números (`int` o `float`) y devuelve lista de números o `None` (`int`, `float`, `None`) con los primeros elementos de cada una de la sublistas del lol.\n",
    "\n",
    "**Casos especiales**\n",
    "\n",
    "1. Si el lol es el lol vacío, se devuelve la lista vacía (no se hace nada)\n",
    "2. Si alguno de los elementos del lol es una lista vacía, se devuele `None`. Es decir, consideramso que el primer elemento de una lista vacía es `None`.\n",
    "\n",
    "get_firsts([[1,2], [3,4], [6, 7, 8], []]) ---> [1,3,6, None]\n",
    "\n",
    "1. Añade la información de tipos.\n",
    "   1. Define un alias para `int` o `float` llamado `num`\n",
    "   2. ¿Cómo se llama el tipo de salida (algo que puede ser `num` o `None`)?\n"
   ]
  },
  {
   "attachments": {},
   "cell_type": "markdown",
   "metadata": {},
   "source": [
    "#### (18) get_seconds\n",
    "\n",
    "Similar a la anterior, pero pillando el segundo elemento. Al igual que antes, si no existe un segundo elemento, se devuelve `None`.\n",
    "\n",
    "```\n",
    "get_seconds([[1,2], [3,4], [6, 7, 8], [2]]) ---> [2,4,7, None]\n",
    "```\n",
    "\n",
    "1. Añade la info de tipos\n",
    "2. ¿Qué tipo de función es?\n",
    "   "
   ]
  },
  {
   "attachments": {},
   "cell_type": "markdown",
   "metadata": {},
   "source": [
    "#### (19) get_nths\n",
    "\n",
    "Generaliza la solución anterior para tener una función que recibe un lol de números (`int` o `float`) y devuelve una lista de números o `None` (`int`, `float`, `None`).\n",
    "\n",
    "1. Describe los tipos\n",
    "2. Comprueba su resultado con lols que tienen elementos de distintas longitudes"
   ]
  },
  {
   "attachments": {},
   "cell_type": "markdown",
   "metadata": {},
   "source": [
    "#### (20) flat_sum\n",
    "\n",
    "Suponiendo que existe el alias:\n",
    "\n",
    "```\n",
    "num = int | float\n",
    "```\n",
    "\n",
    "Crea la función `flat_sum(lol)` que recorre un lol de números opcionales (`num | None`) y devuelve un `num` con la suma de todos los números. **Los `None` son ignorados**.\n",
    "\n",
    "Si recibe el lol vacío, devuelve `0`.\n",
    "\n"
   ]
  },
  {
   "attachments": {},
   "cell_type": "markdown",
   "metadata": {},
   "source": [
    "#### (21) flat_product\n",
    "\n",
    "Crea ahora la función que recibe un lol de `num | None` y devuelve el producto de los `num` . **Los `None` son ignorados**.\n",
    "\n",
    "Si recibe el lol vacío, devuelve `1`.\n"
   ]
  },
  {
   "attachments": {},
   "cell_type": "markdown",
   "metadata": {},
   "source": [
    "#### (21) stringify_lol\n",
    "\n",
    "La función `stringify_lol` recibe un lol de cualquier cosa y devuelve una lista de cadenas. `stringify_lol` convierte cada uno de las listas de lol en una cadena, convirtiendo a cadenas cada uno de sus companonentes y concatenándolos todos.\n",
    "\n",
    "```\n",
    "stringify_lol([[1,2,3, \"@\"],[3.34, None, []],[]]) == [\"123@\",\"3.34None[]\",\"[]\"]\n",
    "```\n",
    "\n",
    "Si recibe el lol vacío, devuelve la cadena vacía.\n",
    "\n",
    "1. ¿Cómo romperías el problema?\n",
    "2. ¿Qué tipo de función es?\n",
    "3. Añade la información de tipo\n",
    "4. ¿A cuales de las que ya has creado se parece?"
   ]
  },
  {
   "attachments": {},
   "cell_type": "markdown",
   "metadata": {},
   "source": [
    "#### (22) stringify_lol v 2.0\n",
    "\n",
    "Vas a modificar `stringify_lol` para que reciba un segundo parámetro de `str` llamado `separator` que se va a concatenar entre cada elemento de las listas del lol. Tendrá por defecto el valor de la cadena vacía, para que funcione como la versión original.\n",
    "\n",
    "**OJO**\n",
    "\n",
    "Las cadenas resultantes no pueden empezer ni terminar ni empezar por el separador.\n",
    "\n",
    "Por ejemplo:\n",
    "\n",
    "```\n",
    "stringify_lol([[1,2,3, \"@\"],[3.34, None, []],[]], separator=\";\") == [\"1;2;3;@\", \"3.34;None;[]\", \"[]\"]\n",
    "```\n",
    "\n",
    "\n",
    "1. Pregúntale a chatGPT lo que es un CSV y para qué sirve."
   ]
  },
  {
   "attachments": {},
   "cell_type": "markdown",
   "metadata": {},
   "source": [
    "#### (23) flat_stringify_lol\n",
    "\n",
    "Hace lo mismo que `stringyfy_lol` pero **ignora los `None`**\n"
   ]
  },
  {
   "attachments": {},
   "cell_type": "markdown",
   "metadata": {},
   "source": [
    "#### (23) Funciones `flatXXX`\n",
    "\n",
    "Son muy comunes en procesamiento de datos y en gestión de interfaces complejas (tanto en iOS, Androd y Web). Se caratcerizan por procesar una lista, ignorando los `None`.  Pudes er compresores, selectores o transformadores.\n",
    "\n",
    "Los verás muy a menudo en el futuro. En vez de lanzar una excepción cunado se encuentran con algo inválido, simplemente lo ignoran y tiran palante.\n"
   ]
  },
  {
   "attachments": {},
   "cell_type": "markdown",
   "metadata": {},
   "source": [
    "#### (24) list_to_lol\n",
    "\n",
    "La función `list_to_lol` recibe una lista de cadenas `list[str]` y devuelve un lol de cadenas. \n",
    "\n",
    "Cada una de las cadenas de la lista original, se convierte en una `list[str]`:\n",
    "\n",
    "```\n",
    "# una cadena dentro de la lista original\n",
    "\"Hola Mundo\" --> [\"H\", \"o\", \"l\", \"a\", \" \", \"M\", \"u\", \"n\", \"d\", \"o\"]\n",
    "```\n",
    "\n",
    "Por lo  tanto,\n",
    "\n",
    "```\n",
    "list_to_lol([\"abc\", \"def\"]) = [[\"a\", \"b\", \"c\"], [\"d\",\"e\", \"f\"]]\n",
    "```\n",
    "\n",
    "Si recibes la lista vacía, devuelve el lol vacío.\n",
    "Si una de las cadenas es la cadena vacía, ésta se convierte en la lista vacía.\n",
    "\n",
    "1. ¿Cómo romperías el problema?\n",
    "2. ¿Recuerdas haber creado una función llamada `explode`? ¿Podría servir aquí?\n",
    "\n",
    "\n"
   ]
  },
  {
   "attachments": {},
   "cell_type": "markdown",
   "metadata": {},
   "source": [
    "#### (24) lol_to_list\n",
    "\n",
    "Dice un pasodoble famoso:\n",
    "\n",
    "> Si vas por Calatuyud,\n",
    "> pregunta por [la Dolores](https://www.hoyaragon.es/cultura-aragon/hospederia-la-dolores-calatayud-pasodoble/)\n",
    "> que es muy amiga de hacer favores.\n",
    "\n",
    "Hay otra versión que dice así:\n",
    "\n",
    "> Si vas por Calatayud, \n",
    "> pregunta por el Marqués:\n",
    "> Hace los mismos favores,\n",
    "> solo que del revés.\n",
    "\n",
    "Ahora vas a crear la función `lol_to_list`, que hace lo mismo que `list_to_lol`, sólo que del revés.\n",
    "\n",
    "Recibe lol de lista de cadenas y devuelve una `list[str]`. Es justo la inversa de `list_to_lol`\n",
    "\n",
    "Comprueba que `list_to_lol(lol_to_list(X)) == X` donde `X` es una `list[str]`.\n",
    "\n"
   ]
  },
  {
   "attachments": {},
   "cell_type": "markdown",
   "metadata": {},
   "source": [
    "#### (25) Limpieza de datos chorras\n",
    "\n",
    "Trabajas en un red social frecuentada por niños y también adolescentes. Es una necesidad imperiosa que el entorno sea seguro para los niños, pero los adolescentes consiguen colar guarrerías de las formas más insospechadas.\n",
    "\n",
    "Recientemente, se ha visto que uno envió el siguiente mensaje:\n",
    "\n",
    "\"Te voy a invitar a un 🌭 y dos 🍳\"\n",
    "\n",
    "Hay que poner fin a esto, y se van a limpiar los mensajes de emojis con segundas.\n",
    "\n",
    "Vas a crear la función `clean_messages` que recibe un lol de listas de cadenas. Cada lista del lol es una secuencia de mensajes. Además, recibes una cadena de emojis prohibidos (recuerda que las cadenas son secuencias que pueden ser buscadas con un `in` y también interadas.\n",
    "\n",
    "La cadena de emojis prohibidos tiene este valor por defecto: \"🍳🌭🍆🍑💦\". Cada ocurrencia de dicho caracter debe de ser sustituído por una cadena vacía, es decir, debe de desaparecer sin dejar rastro.\n"
   ]
  },
  {
   "attachments": {},
   "cell_type": "markdown",
   "metadata": {},
   "source": [
    "#### (26) Limpieza de datos chorras V2.0\n",
    "\n",
    "Todo funcionaba a la perfección, pero algunos usuarios, al darse cuenta de la censura, lograron burlarla de la siguiente manera.\n",
    "\n",
    "1. La función sólo actúa sobre carcateres en concreto.\n",
    "2. Los usuarios han pasado a usar secuencias de caracteres, cada uno de ellos considerado inofensivo.\n",
    "3. Las secuencias detectadas son:\n",
    "   1. 👉👌\n",
    "   2. 🍌🍩\n",
    "   3. 🥖🍯\n",
    "\n",
    "1. ¿Cómo modificarías la función para que siga eliminando los emojis individuales, pero también las combinaciones nuevas?\n",
    "\n",
    "PD Esto está basado en un caso real. No hay peor trabajo que vigilar adolescentes. 💩"
   ]
  },
  {
   "attachments": {},
   "cell_type": "markdown",
   "metadata": {},
   "source": [
    "## Resumen\n",
    "\n",
    "Todos estos ejercicios tienen como objetivo practicar 2 cosas:\n",
    "\n",
    "1. El romper problemas antes de enfrentarlos.\n",
    "2. Ponerse \"ojeras\" mentales cuando estás reoslviendo una parte del problema, para no pensar en el problema global (que puede ser confuso).\n",
    "3. Practicar al iteración anidada (lo de menos)"
   ]
  }
 ],
 "metadata": {
  "language_info": {
   "name": "python"
  },
  "orig_nbformat": 4
 },
 "nbformat": 4,
 "nbformat_minor": 2
}
