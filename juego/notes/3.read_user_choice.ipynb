{
 "cells": [
  {
   "attachments": {},
   "cell_type": "markdown",
   "metadata": {},
   "source": [
    "# Implementación del Juego\n",
    "\n",
    "--------------------------"
   ]
  },
  {
   "attachments": {},
   "cell_type": "markdown",
   "metadata": {},
   "source": [
    "\n",
    "Vamos a ir implementando las siguientes funciones de nuestro juego:\n",
    "\n",
    "1. `read_user_choice`\n",
    "2. `is_exit`\n",
    "3. `generate_user_choice`\n",
    "4. `evaluate_move`\n",
    "5. `print_result`\n",
    "   "
   ]
  },
  {
   "attachments": {},
   "cell_type": "markdown",
   "metadata": {},
   "source": [
    "### read_user_choice\n",
    "\n",
    "Hay que definir constantes para las opciones del menú, una de ellas la salida del juego.\n",
    "\n"
   ]
  },
  {
   "cell_type": "code",
   "execution_count": null,
   "metadata": {},
   "outputs": [],
   "source": [
    "# User choices\n",
    "PAPER = 0\n",
    "ROCK = 1\n",
    "SCISSORS = 2\n",
    "QUIT = 3"
   ]
  },
  {
   "cell_type": "code",
   "execution_count": null,
   "metadata": {},
   "outputs": [],
   "source": [
    "def read_user_choice():\n",
    "    \"\"\"\n",
    "    Imprime un menu de instrucciones y lee la respuesta del usuario\n",
    "    mediante una llamada a `input`.\n",
    "    Devuelve lo que haya elegido el usario, como una cadena\n",
    "    \"\"\"\n",
    "\n",
    "    print('Select one number:')\n",
    "    print(f'{PAPER}. Paper')\n",
    "    print(f'{ROCK}. Rock')\n",
    "    print(f'{SCISSORS}. Scissors')\n",
    "    print('-------------------')\n",
    "    print(f'{QUIT}. Quit the game')\n",
    "    user_choice = int(input('Enter your choice:'))\n",
    "    return user_choice "
   ]
  },
  {
   "attachments": {},
   "cell_type": "markdown",
   "metadata": {},
   "source": [
    "#### Pegas\n",
    "\n",
    "El usuario puede escribir lo que le salga del cipote y encima lo devolvemos como una cadena.\n",
    "\n",
    "1. La función sólo debe de devolver un número dentro del rango aceptado\n",
    "2. Mientras el usuario no pase por el aro, lñe seguimos preguntando (como el Cuento de la Buena Pipa)\n",
    "\n"
   ]
  },
  {
   "attachments": {},
   "cell_type": "markdown",
   "metadata": {},
   "source": [
    "Mientras no conteste lo que quiero, le sigo preguntando:"
   ]
  },
  {
   "cell_type": "code",
   "execution_count": null,
   "metadata": {},
   "outputs": [],
   "source": [
    "# User choices\n",
    "INVALID_CHOICE = -1\n",
    "PAPER = 0\n",
    "ROCK = 1\n",
    "SCISSORS = 2\n",
    "QUIT = 3\n",
    "\n",
    "\n",
    "def read_user_choice():\n",
    "    \"\"\"\n",
    "    Imprime un menu de instrucciones y lee la respuesta del usuario\n",
    "    mediante una llamada a `input`.\n",
    "    Devuelve lo que haya elegido el usario, como una cadena\n",
    "    \"\"\"\n",
    "    user_choice = INVALID_CHOICE\n",
    "\n",
    "    while user_choice == INVALID_CHOICE:\n",
    "        print('Select one number:')\n",
    "        print(f'{PAPER}. Paper')\n",
    "        print(f'{ROCK}. Rock')\n",
    "        print(f'{SCISSORS}. Scissors')\n",
    "        print('-------------------')\n",
    "        print(f'{QUIT}. Quit the game')\n",
    "        \n",
    "        user_choice = int(input('Enter your choice:'))\n",
    "\n",
    "        # validamos lo que haya escrito\n",
    "        if user_choice in range(PAPER, QUIT + 1):\n",
    "            break   # OK, nos vamos\n",
    "        else:\n",
    "            user_choice = INVALID_CHOICE    # antes te cansarás tú\n",
    "    \n",
    "    return user_choice "
   ]
  },
  {
   "attachments": {},
   "cell_type": "markdown",
   "metadata": {},
   "source": [
    "#### Pegas\n",
    "\n",
    "Como el usuario escriba algo que no se pueda convertir a un entero, nos jode vivos.\n",
    "\n",
    "Tenemos que mejorar la validación de los datos que nos da el usuario.\n",
    "\n",
    "> Desconfía siempre de todo lo que venga de fuera de tu programa. "
   ]
  },
  {
   "attachments": {},
   "cell_type": "markdown",
   "metadata": {},
   "source": [
    "## Gestión de Errores\n",
    "\n",
    "Hemos visto muchos casos de funciones que son *funciones parciales*: hay valores para sus parámetros que no son aceptables y hasta ahora no sabíamos qué hacer.\n",
    "\n",
    "Se trata de algo tan sumamente importante, que se merece una lección propia.\n",
    "\n",
    "Vamos a 4.gestion_de_errores\n"
   ]
  }
 ],
 "metadata": {
  "language_info": {
   "name": "python"
  },
  "orig_nbformat": 4
 },
 "nbformat": 4,
 "nbformat_minor": 2
}
