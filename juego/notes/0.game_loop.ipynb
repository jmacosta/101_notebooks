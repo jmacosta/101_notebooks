{
 "cells": [
  {
   "attachments": {},
   "cell_type": "markdown",
   "metadata": {},
   "source": [
    "# Piedra, Papel, Tijera\n",
    "\n",
    "--------------------"
   ]
  },
  {
   "attachments": {},
   "cell_type": "markdown",
   "metadata": {},
   "source": [
    "\n",
    "Vamos a crear una carpeta para el proyecto y dentro de ella, un fichero Python llamamdo `game.py`.\n",
    "\n",
    "Tendremos que hacer lo siguiente para poder jugar:\n",
    "\n",
    "1. Leer la jugada del humano\n",
    "2. Generar una jugada del ordenador (aleatoria para que no haya trampa)\n",
    "3. Evaluar el resultado de comparar una jugada con la otra\n",
    "4. Imprimir el resultado\n",
    "5. Reiniciar el bucle\n",
    "\n",
    "\n",
    "Si te fijas, sigue el patrón del REPL, al igual que tú sigues el patrón del Viaje del Heroe."
   ]
  },
  {
   "attachments": {},
   "cell_type": "markdown",
   "metadata": {},
   "source": [
    "### La Carta a los Reyes Magos\n",
    "\n",
    "Vamos a aplicar dicha técnica en la cual escribimos lo que nos gustaría que existiese y luego rellenamos los huecos, pero ya con la visión general del juego muy clara.\n",
    "\n",
    "Siguiendo el patrón del bucle de eventos, el nucleo es un bucle `while` potencialmente infinito.\n",
    "\n",
    "\n",
    "```Python\n",
    "while True:\n",
    "    # Leo la selección del usuario (piedra, papel, tijera o parar el juego)\n",
    "    user_choice = read_user_choice()\n",
    "    # Siempre y cuando no quiera parar\n",
    "    if not is_exit(user_choice):\n",
    "        # genero una jugada del ordenador\n",
    "        comp_choice = generate_computer_choice()\n",
    "        # evalúo la jugada\n",
    "        result = evaluate_move(user_choice, comp_choice)\n",
    "        # muestro el ganador en pantalla y vuelta al principio\n",
    "        print_result(result)\n",
    "    else:\n",
    "        # el humano es un gallina: salgo\n",
    "        break\n",
    "```\n",
    "\n"
   ]
  },
  {
   "attachments": {},
   "cell_type": "markdown",
   "metadata": {},
   "source": [
    "1. Crea una función `game_loop` y pon ese codigo dentro\n",
    "2. Implementa las demás funciones que aún no existen."
   ]
  },
  {
   "attachments": {},
   "cell_type": "markdown",
   "metadata": {},
   "source": [
    "#### game_loop\n",
    "\n",
    "La función quedaría así:\n",
    "\n",
    "```Python\n",
    "def game_loop():\n",
    "    \"\"\"\n",
    "    Arranca el bucle principal del juego\n",
    "    \"\"\"\n",
    "    while True:\n",
    "        # Leo la selección del usuario (piedra, papel, tijera o parar el juego)\n",
    "        user_choice = read_user_choice()\n",
    "        # Siempre y cunado no quiera parar\n",
    "        if not is_exit(user_choice):\n",
    "            # genero una jugada del ordenador\n",
    "            comp_choice = generate_computer_choice()\n",
    "            # evalúo la jugada\n",
    "            result = evaluate_move(user_choice, comp_choice)\n",
    "            # muestro el ganador en pantalla y vuelta al principio\n",
    "            print_result(result)\n",
    "        else:\n",
    "            # el humano es un gallina: salgo\n",
    "            break\n",
    "```\n",
    "\n",
    "Tenemos la estructura general del juego clara. Sin embargo el compilador chilla como un gorrino porque ninguna de las otras funciones está definida. Vamos a hacer que se calle, definiendo las funciones y haciendo que devuelvan cualquier cosa. \n",
    "\n",
    "Es sólo un sí para que calles y no es la implementación definitiva de ninguna de ellas.\n"
   ]
  },
  {
   "cell_type": "code",
   "execution_count": null,
   "metadata": {},
   "outputs": [],
   "source": [
    "def read_user_choice():\n",
    "    \"\"\"\n",
    "    Imprime un menu de instrucciones y lee la respuesta del usuario\n",
    "    mediante una llamada a `input`.\n",
    "    Devuelve lo que haya elegido el usario\n",
    "    \"\"\"\n",
    "    return None # un \"sí para que calles\"\n"
   ]
  },
  {
   "cell_type": "code",
   "execution_count": null,
   "metadata": {},
   "outputs": [],
   "source": [
    "def is_exit(user_choice):\n",
    "    \"\"\"\n",
    "    Predicado que recibe la respuesta del usuario y devuelve `True` si\n",
    "    ha pedido salir del juego\n",
    "    \"\"\"\n",
    "    return True # sí para que calles"
   ]
  },
  {
   "cell_type": "code",
   "execution_count": null,
   "metadata": {},
   "outputs": [],
   "source": [
    "def generate_computer_choice():\n",
    "    \"\"\"\n",
    "    Genera una jugada del ordenador de forma aleatroia. El ordenador no puede elegir\n",
    "    para el juego, solo Piedra, Papel o Tijera\n",
    "    \"\"\"\n",
    "    return None  # pa que calles"
   ]
  },
  {
   "cell_type": "code",
   "execution_count": null,
   "metadata": {},
   "outputs": [],
   "source": [
    "def evaluate_move(user_choice, computer_choice):\n",
    "    \"\"\"\n",
    "    Recibe dos jugadas, determina cual ha ganado y devuelve un mensaje con el resultado.\n",
    "    Por ejemplo: recibe Papel y Piedra, y devuelve \"Papel envuelve Piedra\"\n",
    "    \"\"\"\n",
    "    return None # sí para que calles\n",
    "\n",
    "    "
   ]
  },
  {
   "cell_type": "code",
   "execution_count": null,
   "metadata": {},
   "outputs": [],
   "source": [
    "def print_result(result):\n",
    "    \"\"\"\n",
    "    Imprime en plan bonito el resultado.\n",
    "    No devuelve nada\n",
    "    \"\"\"\n",
    "    return None # pa que te calles!"
   ]
  },
  {
   "attachments": {},
   "cell_type": "markdown",
   "metadata": {},
   "source": [
    "#### Conclusión\n",
    "\n",
    "Ya tenemos el andamio del juego completo y lo único que necesitamos es ir *rellenando* las funciones que están huecas.\n",
    "\n",
    "1. Pon la función `game_loop`   en tu fichero\n",
    "2. Pon todas esas funciones *huecas* en dicho fichero\n",
    "\n",
    "En la siguiente lección, vamos a ver cómo llamar nuestro (aunque aún incompleto) desde la linea de comandos.\n"
   ]
  },
  {
   "attachments": {},
   "cell_type": "markdown",
   "metadata": {},
   "source": [
    "Ir a  `1.if.__name__.ipynb`"
   ]
  },
  {
   "cell_type": "code",
   "execution_count": 1,
   "metadata": {},
   "outputs": [],
   "source": []
  }
 ],
 "metadata": {
  "kernelspec": {
   "display_name": "Python 3",
   "language": "python",
   "name": "python3"
  },
  "language_info": {
   "codemirror_mode": {
    "name": "ipython",
    "version": 3
   },
   "file_extension": ".py",
   "mimetype": "text/x-python",
   "name": "python",
   "nbconvert_exporter": "python",
   "pygments_lexer": "ipython3",
   "version": "3.11.3"
  },
  "orig_nbformat": 4
 },
 "nbformat": 4,
 "nbformat_minor": 2
}
