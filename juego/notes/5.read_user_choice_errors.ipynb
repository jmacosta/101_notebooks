{
 "cells": [
  {
   "attachments": {},
   "cell_type": "markdown",
   "metadata": {},
   "source": [
    "# Gestión de errores en la respuesta del usuario\n",
    "\n",
    "------------------------------------"
   ]
  },
  {
   "attachments": {},
   "cell_type": "markdown",
   "metadata": {},
   "source": [
    "Vamos a seguir convirtiendo la respuesta del usuario a un entero. Si lanza un `ValueError`, lo consideramos un *Error del Dominio*, algo que demos de tener en cuenta y aceptar con cristiana resignanción: los usuarios son idiotas y es lo que hay.\n",
    "\n",
    "Lo capturamos y simplemente convertimos en un `INVALID_CHOICE` y se le vuelve a preguntar. Antes se cansará él que nosotros."
   ]
  },
  {
   "cell_type": "code",
   "execution_count": null,
   "metadata": {},
   "outputs": [],
   "source": [
    "# User choices\n",
    "INVALID_CHOICE = -1\n",
    "PAPER = 0\n",
    "ROCK = 1\n",
    "SCISSORS = 2\n",
    "QUIT = 3\n",
    "\n",
    "def read_user_choice():\n",
    "    \"\"\"\n",
    "    Imprime un menu de instrucciones y lee la respuesta del usuario\n",
    "    mediante una llamada a `input`.\n",
    "    Devuelve lo que haya elegido el usario, como una cadena\n",
    "    \"\"\"\n",
    "    user_choice = INVALID_CHOICE\n",
    "\n",
    "    while user_choice == INVALID_CHOICE:\n",
    "        print('Select one number:')\n",
    "        print(f'{PAPER}. Paper')\n",
    "        print(f'{ROCK}. Rock')\n",
    "        print(f'{SCISSORS}. Scissors')\n",
    "        print('-------------------')\n",
    "        print(f'{QUIT}. Quit the game')\n",
    "        \n",
    "        try:\n",
    "            user_choice = int(input('Enter your choice:'))\n",
    "        except ValueError: # ha escrito algo que no se puede convertir en int\n",
    "            user_choice = INVALID_CHOICE\n",
    "        \n",
    "\n",
    "        # validamos lo que haya escrito\n",
    "        if user_choice in range(PAPER, QUIT + 1):\n",
    "            break   # OK, nos vamos\n",
    "        else:\n",
    "            user_choice = INVALID_CHOICE    # antes te cansarás tú\n",
    "    \n",
    "    return user_choice \n"
   ]
  }
 ],
 "metadata": {
  "language_info": {
   "name": "python"
  },
  "orig_nbformat": 4
 },
 "nbformat": 4,
 "nbformat_minor": 2
}
