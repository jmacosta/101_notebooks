{
 "cells": [
  {
   "attachments": {},
   "cell_type": "markdown",
   "metadata": {},
   "source": [
    "# Imprimir\n",
    "\n",
    "---------------"
   ]
  },
  {
   "attachments": {},
   "cell_type": "markdown",
   "metadata": {},
   "source": [
    "Falta un último detalle: imprimior el resultado e invitar al usuario a otra partida."
   ]
  },
  {
   "cell_type": "code",
   "execution_count": null,
   "metadata": {},
   "outputs": [],
   "source": [
    "def print_result(result):\n",
    "    \"\"\"\n",
    "    Imprime en plan bonito el resultado.\n",
    "    No devuelve nada\n",
    "    \"\"\"\n",
    "    print('\\n\\n----------------------')\n",
    "    print('Game Over!')\n",
    "    print(result)\n",
    "    print('----------------------\\n\\n')\n"
   ]
  },
  {
   "attachments": {},
   "cell_type": "markdown",
   "metadata": {},
   "source": [
    "Fíjate que la función `print_result` ¡no tiene un `return`!\n",
    "\n",
    "Puedes obviar el return cunado la función no devuelve nada. Es decir una función sin `return` es lo mismo que una función con `return None`.\n",
    "\n"
   ]
  }
 ],
 "metadata": {
  "language_info": {
   "name": "python"
  },
  "orig_nbformat": 4
 },
 "nbformat": 4,
 "nbformat_minor": 2
}
