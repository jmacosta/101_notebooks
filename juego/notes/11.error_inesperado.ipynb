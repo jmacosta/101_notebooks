{
 "cells": [
  {
   "attachments": {},
   "cell_type": "markdown",
   "metadata": {},
   "source": [
    "# Un Error Inesperado\n",
    "\n",
    "---------------------------"
   ]
  },
  {
   "attachments": {},
   "cell_type": "markdown",
   "metadata": {},
   "source": [
    "Resulta que la aserción final sobre `result` en `evaluate_move` falla. \n",
    "\n",
    "La razón es que el `user_choice` no es una instancia de `UserChoice`, sino un número.\n",
    "\n",
    "La función `read_user_choice` no devuelve el tipo adecuado. \n",
    "\n",
    "* Leemos una cadena y la convertimos en un `int`\n",
    "* Ese `int` tendría que haber sido convertido a un `UserChoice`."
   ]
  },
  {
   "cell_type": "code",
   "execution_count": 1,
   "metadata": {},
   "outputs": [],
   "source": [
    "from enum import Enum\n",
    "\n",
    "class UserChoice(Enum):\n",
    "    INVALID = -1\n",
    "    PAPER = 0\n",
    "    ROCK = 1\n",
    "    SCISSORS = 2\n",
    "    QUIT = 3\n"
   ]
  },
  {
   "cell_type": "code",
   "execution_count": null,
   "metadata": {},
   "outputs": [],
   "source": [
    "\n",
    "\n",
    "def read_user_choice():\n",
    "    \"\"\"\n",
    "    Imprime un menu de instrucciones y lee la respuesta del usuario\n",
    "    mediante una llamada a `input`.\n",
    "    Devuelve lo que haya elegido el usario, como una cadena\n",
    "    \"\"\"\n",
    "    user_choice = UserChoice.INVALID\n",
    "\n",
    "    while user_choice == UserChoice.INVALID:\n",
    "        print('Select one number:')\n",
    "        print(f'{UserChoice.PAPER.value}. Paper')\n",
    "        print(f'{UserChoice.ROCK.value}. Rock')\n",
    "        print(f'{UserChoice.SCISSORS.value}. Scissors')\n",
    "        print('-------------------')\n",
    "        print(f'{UserChoice.QUIT.value}. Quit the game')\n",
    "        \n",
    "        try:\n",
    "            user_choice = UserChoice(int(input('Enter your choice:')))\n",
    "        except ValueError: # ha escrito algo que no se puede \n",
    "                           # convertir en int o en un UserChoice\n",
    "            user_choice = UserChoice.INVALID\n",
    "        \n",
    "\n",
    "        # validamos lo que haya escrito\n",
    "        if user_choice != UserChoice.INVALID: \n",
    "            break   # OK, nos vamos\n",
    "        else:\n",
    "            user_choice = UserChoice.INVALID    # antes te cansarás tú\n",
    "    \n",
    "    return user_choice "
   ]
  }
 ],
 "metadata": {
  "kernelspec": {
   "display_name": "Python 3",
   "language": "python",
   "name": "python3"
  },
  "language_info": {
   "codemirror_mode": {
    "name": "ipython",
    "version": 3
   },
   "file_extension": ".py",
   "mimetype": "text/x-python",
   "name": "python",
   "nbconvert_exporter": "python",
   "pygments_lexer": "ipython3",
   "version": "3.11.3"
  },
  "orig_nbformat": 4
 },
 "nbformat": 4,
 "nbformat_minor": 2
}
