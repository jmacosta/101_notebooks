{
 "cells": [
  {
   "attachments": {},
   "cell_type": "markdown",
   "metadata": {},
   "source": [
    "# Las Enums\n",
    "\n",
    "\n",
    "--------------------"
   ]
  },
  {
   "attachments": {},
   "cell_type": "markdown",
   "metadata": {},
   "source": [
    "En estos momentos, usamos una serie de constantes para representar las posibles elecciones del usuario. Eso tiene un problema y es que en el fondo son `int` y nada indica que estén relacionadas.\n",
    "\n",
    "Lo segundo empeora la legibilidad del código. Lo primero no es muy deseable, sería mejor tener un tipo específico que **representa únicamente un respuesta de usuario**. Esto último es muy importante y lo entenderemos mejor más adelante.\n",
    "\n",
    "De momento, vamos a refactorizar nuestro código para usar una Enum\n",
    "\n",
    "\n"
   ]
  },
  {
   "attachments": {},
   "cell_type": "markdown",
   "metadata": {},
   "source": [
    "### Refactorizar\n",
    "\n",
    "El modificar código que funciona, para que sea más legible, más flexible o eficiente, se le llama **Refactorizar**. Es algo muy importante y todo entorno de programación tiene facilidades para los cambios más comunes.\n",
    "\n",
    "\n"
   ]
  },
  {
   "cell_type": "code",
   "execution_count": null,
   "metadata": {},
   "outputs": [],
   "source": [
    "from enum import Enum\n",
    "\n",
    "class UserChoice(Enum):\n",
    "    INVALID = -1\n",
    "    PAPER = 0\n",
    "    ROCK = 1\n",
    "    SCISSORS = 2\n",
    "    QUIT = 3\n"
   ]
  },
  {
   "cell_type": "code",
   "execution_count": null,
   "metadata": {},
   "outputs": [],
   "source": [
    "def read_user_choice():\n",
    "    \"\"\"\n",
    "    Imprime un menu de instrucciones y lee la respuesta del usuario\n",
    "    mediante una llamada a `input`.\n",
    "    Devuelve lo que haya elegido el usario, como una cadena\n",
    "    \"\"\"\n",
    "    user_choice = UserChoice.INVALID\n",
    "\n",
    "    while user_choice == UserChoice.INVALID:\n",
    "        print('Select one number:')\n",
    "        print(f'{UserChoice.PAPER.value}. Paper')\n",
    "        print(f'{UserChoice.ROCK.value}. Rock')\n",
    "        print(f'{UserChoice.SCISSORS.value}. Scissors')\n",
    "        print('-------------------')\n",
    "        print(f'{UserChoice.QUIT.value}. Quit the game')\n",
    "        \n",
    "        try:\n",
    "            user_choice = int(input('Enter your choice:'))\n",
    "        except ValueError: # ha escrito algo que no se puede convertir en int\n",
    "            user_choice = UserChoice.INVALID\n",
    "        \n",
    "\n",
    "        # validamos lo que haya escrito\n",
    "        if user_choice != UserChoice.INVALID: \n",
    "            break   # OK, nos vamos\n",
    "        else:\n",
    "            user_choice = UserChoice.INVALID    # antes te cansarás tú\n",
    "    \n",
    "    return user_choice "
   ]
  }
 ],
 "metadata": {
  "language_info": {
   "name": "python"
  },
  "orig_nbformat": 4
 },
 "nbformat": 4,
 "nbformat_minor": 2
}
