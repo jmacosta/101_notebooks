{
 "cells": [
  {
   "attachments": {},
   "cell_type": "markdown",
   "metadata": {},
   "source": [
    "# LLamar al juego desde VSCode\n",
    "\n",
    "---------------------------"
   ]
  },
  {
   "attachments": {},
   "cell_type": "markdown",
   "metadata": {},
   "source": [
    "La gran ventaja de ejecutar el código desde VSCode, es que te permite hacerlo paso a paso y viendo los valores de las variables, los retornos de las funciones, etc.\n",
    "\n",
    "Hasta ahora, lo hemos estado haciendo en la cabeza (el depurador más importante que hay). Ahora veremso cómo hacerlo con VSCode.\n"
   ]
  },
  {
   "attachments": {},
   "cell_type": "markdown",
   "metadata": {},
   "source": [
    "## Iniciar el depurador\n",
    "\n",
    "\n",
    "Vete a `Run` y selecciona `Start Debugging` o presiona `F5`.\n",
    "\n",
    "El código se empieza a ejecutar y sólo se detiene si se encuentra con un *punto de interrupción* (breakpoint en Inglés).\n"
   ]
  },
  {
   "attachments": {},
   "cell_type": "markdown",
   "metadata": {},
   "source": [
    "\n",
    "\n",
    "## Puntos de Interrupción o Breakpoints\n",
    "\n",
    "\n",
    "1. **Establecer un punto de interrupción**: Para establecer un punto de interrupción, solo tienes que hacer clic en la barra gris a la izquierda del número de línea en el archivo de código donde te gustaría que se detuviera la ejecución.\n",
    "\n",
    "2. **Iniciar una sesión de depuración**: Para iniciar la depuración, abre la vista de depuración haciendo clic en el icono de depuración en la barra lateral izquierda (parece un insecto). Luego puedes hacer clic en el botón verde \"Iniciar Depuración\" en la parte superior de la barra lateral o usar la tecla F5.\n",
    "\n",
    "3. **Inspeccionar variables**: Cuando la ejecución se detiene en un punto de interrupción, puedes pasar el cursor sobre las variables en tu código para ver sus valores actuales, o ver una lista de todas las variables y sus valores en la sección \"Variables\" de la barra lateral de depuración.\n",
    "\n",
    "4. **Controlar la ejecución**: Durante una sesión de depuración, puedes controlar la ejecución de tu código con los botones en la parte superior de la pantalla. \"Continuar\" (F5) reanuda la ejecución hasta el siguiente punto de interrupción o hasta el final del programa. \"Paso por encima\" (F10) ejecuta la línea actual y se detiene en la siguiente línea de código. \"Paso dentro\" (F11) entra en la función en la línea actual de código y \"Paso fuera\" (Shift+F11) sale de la función actual.\n",
    "\n"
   ]
  },
  {
   "attachments": {},
   "cell_type": "markdown",
   "metadata": {},
   "source": [
    "### Puntos de interrupción de excepción\n",
    "\n",
    "\n",
    "Podemos configurar puntos de interrupción que no están relacionados con una linea en concreto, sino que se activan cunado ocurre un error grave (excepción) en cualquier punto del código.\n",
    "\n",
    "No se usan tanto como los anteriores, pero cuando hacen falta, son muy útiles.\n",
    "\n",
    "Se configuran desde la propia interfaz de VSCode o también se puede crear un fichero de JSON con la configuración de deseada.\n",
    "\n",
    "\n"
   ]
  },
  {
   "attachments": {},
   "cell_type": "markdown",
   "metadata": {},
   "source": [
    "#### Fichero `launch.json`\n",
    "\n",
    "Abre la configuración de puntos de interrupción de excepciones: En la barra de menú de VS Code, haz clic en *Run* y luego en *\"*Open Configurations*. Esto abrirá el archivo `launch.json`, donde puedes configurar tu sesión de depuración.\n",
    "\n",
    "Activa los puntos de interrupción de excepciones: Dentro del archivo `launch.json`, busca la sección `exceptionBreakpoints`. \n",
    "\n",
    "Ahí, podrás especificar qué tipo de excepciones quieres que detengan la ejecución. Por ejemplo, puedes usar `all` para detener la ejecución para todas las excepciones, o `uncaught` para solo las excepciones que no se capturan con una cláusula `try/except`.\n",
    "\n",
    "Aquí tienes un ejemplo de cómo se vería esta configuración para Python:\n",
    "\n",
    "\n",
    "\n",
    "```Json\n",
    "{\n",
    "    \"version\": \"0.2.0\",\n",
    "    \"configurations\": [\n",
    "        {\n",
    "            \"name\": \"Python: Current File\",\n",
    "            \"type\": \"python\",\n",
    "            \"request\": \"launch\",\n",
    "            \"program\": \"${file}\",\n",
    "            \"console\": \"integratedTerminal\",\n",
    "            \"exceptionBreakpoints\": {\n",
    "                \"all\": true\n",
    "            }\n",
    "        }\n",
    "    ]\n",
    "}\n",
    "\n",
    "```\n",
    "\n"
   ]
  },
  {
   "attachments": {},
   "cell_type": "markdown",
   "metadata": {},
   "source": [
    "Vamos a verlo en la práctica en `game.py` y luego a la lección 3.read_user_choice\n"
   ]
  }
 ],
 "metadata": {
  "language_info": {
   "name": "python"
  },
  "orig_nbformat": 4
 },
 "nbformat": 4,
 "nbformat_minor": 2
}
