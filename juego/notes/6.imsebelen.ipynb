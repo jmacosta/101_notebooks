{
 "cells": [
  {
   "attachments": {},
   "cell_type": "markdown",
   "metadata": {},
   "source": [
    "# La último linea de defensa: los Imsebelen\n",
    "\n",
    "------------------------------------\n"
   ]
  },
  {
   "attachments": {},
   "cell_type": "markdown",
   "metadata": {},
   "source": [
    "\n",
    "\n",
    "![](imsebelen.jpeg)\n",
    "\n",
    "*El triunfo de la Santa Cruz*, cuadro de Marceliano Santa María que recrea la famosa batalla de las Navas de Tolosa.\n",
    "\n",
    "-----------------------\n"
   ]
  },
  {
   "attachments": {},
   "cell_type": "markdown",
   "metadata": {},
   "source": [
    "\n",
    "En 1212 se produjo una de esas batallas en las que parecía que todo el destino de Europa y Occidente pendía de un hilo. Al igual que en el sitio de Viena en 1529 cuando la intervención de pequeño grupo de arcabuceros españoles bajo el mando de Don Luís de Ávalos derrotaron a un ejército tuco de 100.000 soldados, o en el 480 AC, cuando 300 tíos cachas y medio en bolas derrotaron al ejército de Xerxes.\n",
    "\n",
    "En este caso se trataba de una coalición de ejércitos españoles, con unos 10.000 soldados se enfretaron al ejército de Muhamad An Nasir (Miramamolín en las crónicas cristianas) en las Navas de Tolosa en el año de 1212.\n",
    "\n",
    "Con más de 30.000 soldados y después de conquistar y unificar el Magreb y llegar hasta Senegal, había prometido invadir Europa, destruir los reinos cristianos en España, quemar Roma y abrevar su caballo en el Tíber. Casi ná.\n",
    "\n",
    "Una de las novedades que traia su ejército, era los *Imsebelen*: un grupo de soldados fanáticos que se enterraban hasta la cintura en un círculo alrededor de la tienda del Califa. Maromos gigantescos de Senegal, unidos por cadenas y armados con lanzas y espadas, eran un verdadero búnker humano que representaba la última linea de defensa.\n",
    "\n",
    "La caballería pesada de Sancho El Fuerte logró rebasar esas cadenas y desde entonces el Reino de Navarra lució dichas cadenas en su escudo.\n"
   ]
  },
  {
   "attachments": {},
   "cell_type": "markdown",
   "metadata": {},
   "source": [
    "\n",
    "##"
   ]
  },
  {
   "attachments": {},
   "cell_type": "markdown",
   "metadata": {},
   "source": [
    "## Nuestros Imsebelen\n",
    "\n",
    "Todo software debe de tener una última linea de defensa. Cuando una excepción no es capturada, sigue subiendo hasta llegar a la primera función que ha sido llamada.\n",
    "\n",
    "Normalmente dicha función se llama `main`. En nuestro caso es `game_loop`. Ahí debemos mostra nuestra última linea de defensa.\n",
    "\n",
    "Al igual que los Imsebelen originales, la nuestra también va a fracasar, pero su objetivo no es parar la excepción.\n",
    "\n",
    "Si una excepción llega hasta ahí es que se trata de un **pánico** y lo que tenemos que hacer es guardar toda la información posible y registrarla para un análisis futuro. La aplicación se va a caer, no hay nada más que se pueda hacer.\n",
    "\n",
    "> ¡Nunca olvides hacer esto! Tus Imsebelen ¡tienen que registrar el error en alguno de los servicios que hemos mencionado!"
   ]
  },
  {
   "cell_type": "code",
   "execution_count": null,
   "metadata": {},
   "outputs": [],
   "source": [
    "if __name__ == \"__main__\":\n",
    "    try:\n",
    "        game_loop()\n",
    "\n",
    "    except Exception as error: # captura cualquier cosa\n",
    "        log_error(error)       # lo mandamos a sentry o lo que sea\n",
    "\n"
   ]
  },
  {
   "attachments": {},
   "cell_type": "markdown",
   "metadata": {},
   "source": [
    "Impleméntalo en `game`"
   ]
  }
 ],
 "metadata": {
  "language_info": {
   "name": "python"
  },
  "orig_nbformat": 4
 },
 "nbformat": 4,
 "nbformat_minor": 2
}
