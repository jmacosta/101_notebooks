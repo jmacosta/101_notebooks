{
 "cells": [
  {
   "attachments": {},
   "cell_type": "markdown",
   "metadata": {},
   "source": [
    "# Reafctorizaciones\n",
    "\n",
    "----------------"
   ]
  },
  {
   "attachments": {},
   "cell_type": "markdown",
   "metadata": {},
   "source": [
    "Nuestro programa funciona, pero eso no quiere decir que no se pueda mejorar. \n",
    "\n",
    "Modificar código que funciona es algo común, y se le llama *Refactorizar*.  Todos los IDEs tienen facilidades para las modificaciones más comunes y es algo que debes de explorar.\n",
    "\n",
    "En nuestro caso, haremos ua muy sencilla: modificar elnombre de la `enum`y dejaremos que VSCode adapte todo el código al nuevo nombre.\n",
    "\n",
    "\n",
    "La `enum` se llama `UserChoice`, pero en realidad representa una elección a secas. El ordenador también hace una elección, no es sólo el usuario.\n",
    "\n",
    "Vamos a cambiarla en `game`."
   ]
  },
  {
   "attachments": {},
   "cell_type": "markdown",
   "metadata": {},
   "source": [
    "### Para saber más\n",
    "\n",
    "Un buen libro (para más adelante) es [Refactoring Code](https://www.amazon.es/Refactoring-Improving-Existing-Addison-wesley-Signature/dp/0134757599/ref=sr_1_1?keywords=refactoring+martin+fowler&qid=1685008791&sprefix=refac%2Caps%2C99&sr=8-1)  de Martin Fowler."
   ]
  }
 ],
 "metadata": {
  "language_info": {
   "name": "python"
  },
  "orig_nbformat": 4
 },
 "nbformat": 4,
 "nbformat_minor": 2
}
