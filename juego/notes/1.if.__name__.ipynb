{
 "cells": [
  {
   "attachments": {},
   "cell_type": "markdown",
   "metadata": {},
   "source": [
    "# LLamar al Juego desde la linea de comandos\n",
    "\n",
    "----------------------"
   ]
  },
  {
   "attachments": {},
   "cell_type": "markdown",
   "metadata": {},
   "source": [
    "### if \"__name__\"...\n",
    "\n",
    "\n",
    "\n",
    "El fragmento de código `if __name__ == \"__main__\":` en Python es una construcción comúnmente utilizada para asegurar que cierto código sólo se ejecute cuando el fichero se está ejecutando directamente, en lugar de ser importado como un módulo en otro programa.\n",
    "\n",
    "En Python, `__name__` es una variable especial en el ámbito de todo fichero que obtiene su valor dependiendo de cómo estás ejecutando tu fichero.\n",
    "\n",
    "Cuando ejecutas un fichero de Python directamente (por ejemplo, `python myscript.py` en la línea de comandos), la variable `__name__` se establece como `\"__main__\"`.\n",
    "\n",
    "Por otro lado, cuando importas ese mismo fichero como un módulo en otro fichero (por ejemplo, `import myscript` en otro archivo Python), la variable `__name__` se establece como el nombre del módulo que se está importando (`\"myscript\"` en este caso).\n",
    "\n",
    "Por lo tanto, el bloque de código bajo `if __name__ == \"__main__\":` sólo se ejecutará si el fichero se está ejecutando directamente, no cuando se importa. \n",
    "\n",
    "Esto es útil si tu script puede ser útil tanto en modo de ejecución como de importación, y si quieres evitar que ciertos segmentos de código se ejecuten durante la importación."
   ]
  },
  {
   "attachments": {},
   "cell_type": "markdown",
   "metadata": {},
   "source": [
    "### Tu propio `if __name__...`\n",
    "\n",
    "1. Crea un bloque `if __name__ ...` y dentro de él, llama a tu función `game_loop`\n",
    "2. Llama a tu fichero desde la linea de comandos: `python game.py`\n",
    "3. Esto llamará a tu función `game_loop`."
   ]
  },
  {
   "attachments": {},
   "cell_type": "markdown",
   "metadata": {},
   "source": []
  }
 ],
 "metadata": {
  "language_info": {
   "name": "python"
  },
  "orig_nbformat": 4
 },
 "nbformat": 4,
 "nbformat_minor": 2
}
