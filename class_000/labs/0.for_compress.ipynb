{
 "cells": [
  {
   "attachments": {},
   "cell_type": "markdown",
   "metadata": {},
   "source": [
    "# Iteración sobre secuencias mediante `for`\n",
    "\n",
    "----------------------\n"
   ]
  },
  {
   "attachments": {},
   "cell_type": "markdown",
   "metadata": {},
   "source": [
    "### Aviso a navegantes\n",
    "\n",
    "![](https://s3-us-west-1.amazonaws.com/cdn.dherbs.com/wp-content/uploads/2017/05/banana-peel-slip.jpg)\n",
    "\n",
    "En esta sección vas a crear muchas funciones que reciben una lista como parámetro.\n",
    "\n",
    "Es posible que te sientas tentado a llamar su parámetro `list`:\n",
    "\n",
    "```python\n",
    "def foo(list):\n",
    "    # cuerpo de la función\n",
    "    pass\n",
    "```\n",
    "\n",
    "¡¡No lo hagas!!\n",
    "\n",
    "`list` es el tipo de todas las listas y se puede usar para crear otras listas. Si usas ese nombre como tu parámetro, le harás sombra al `list` de Python y te meterás en un lío tarde o temprano.\n",
    "\n",
    "-------------------------------------\n",
    "\n"
   ]
  },
  {
   "attachments": {},
   "cell_type": "markdown",
   "metadata": {},
   "source": [
    "## Algoritmo Universal para Diseñar Funciones 2.0\n",
    "\n",
    "1. Di en voz alta o escribe lo siguiente:\n",
    "   1. ¿Qué devuelve esta función? *¿Un número, una cadena, una lista, un booleano?*\n",
    "   2. ¿Qué recibe esta función? *¿Uno o más parámetros? ¿De qué tipo?*\n",
    "   3. ¿Hay casos especiales? ¿Qué se hace en ese caso?\n",
    "2. Escribe la *firma de la función* (su primera linea, del def a los dos puntos) y su documentación.\n",
    "3. Declara tus variables nada más empezar.\n",
    "4. En el cuerpo de la función, pon en comentarios, todos los pasos que crees que harán falta.\n",
    "5. Cuando estés seguro de entender lo que vas a hacer, empieza a sustituir (a añadir) a cada comentario por la linea de código Python correspondiente.\n",
    "\n",
    "---------------------------------------"
   ]
  },
  {
   "attachments": {},
   "cell_type": "markdown",
   "metadata": {},
   "source": [
    "## (1)\n",
    "\n",
    "Escribe la función `sum_all` que recibe una lista de números y devuelve la suma total.\n",
    "\n",
    "En este ejercicio, veremos el proceso general que hay que seguir y los demás los harás tú sólo.\n",
    "\n",
    "Vamos a aplicar el *Algoritmo Universal*:\n",
    "\n",
    "#### Entrada y Salida\n",
    "\n",
    "* `sum_all` devolverá siempre un número\n",
    "* `sum_all` recibirá siempre una *lista de números*.\n",
    "\n",
    "#### Casos especiales\n",
    "\n",
    "Cuando trabajamos con listas siempre hay un caso especial que hay que tener en cuenta: la lista vacía.\n",
    "\n",
    "* Si `sum_all` recibe una lista vacía, deberá devolver `0`.\n",
    "\n",
    "Hay otro caso más: si recibe una lista de cosas que **no son números**.  En ese caso, no hay mucho que hacer, la función `sum_all` no tiene mucho sentido en caso de cosas que no son números. `sum_all` es una función parcila y tendremos que gestionar ese error más adelante, de momento lo dejamos.\n",
    "\n",
    "#### Firma y comentarios\n",
    "\n",
    "* La función irá recorriendo la lista y sumando el valor actual al total hasta entonces. \n",
    "* Vamos a necesitar una variable para ir almacenda ese total parcial.\n",
    "* Dicha variable tendrá que ser inicializada a un valor inicial que no altere la suma y que permita que cuando la lista sea la lista vacía, el resultado sea el correcto.\n",
    "\n",
    "```python\n",
    "def sum_all(numbers):\n",
    "    # inicializamos la variable total\n",
    "    # recorremos la lista, sumando el valor actual al total parcial\n",
    "    # cuando terminamos, devolvemos el total (que ya no será parcial)\n",
    "```\n",
    "\n",
    "En una segunda etapa, la función tendría esta pinta:\n",
    "\n",
    "```python\n",
    "def sum_all(numbers):\n",
    "    \"\"\"\n",
    "    Suma todos los elementos de una lista de numeros.\n",
    "    Si recibe la lista vacía, devuelve cero\n",
    "    \"\"\"\n",
    "    # inicializamos la variable total\n",
    "    total = ??\n",
    "    # recorremos la lista, sumando el valor actual al total parcial\n",
    "    for number in numbers:\n",
    "        ???\n",
    "    # cuando terminamos, devolvemos el total (que ya no será parcial)\n",
    "    return ??\n",
    "```\n",
    "\n",
    "1. Finiquita tú ese patrón con los datos que faltan.\n",
    "2. Comprueba que funciona tal y como dices, casos especiales incluídos"
   ]
  },
  {
   "attachments": {},
   "cell_type": "markdown",
   "metadata": {},
   "source": [
    "## (2)\n",
    "\n",
    "Siguiendo el método de arriba, crea la función `multiply_all`, que recibe una lista de números y devuelve el producto de todos ellos."
   ]
  },
  {
   "attachments": {},
   "cell_type": "markdown",
   "metadata": {},
   "source": [
    "## (3)\n",
    "\n",
    "Compara las funciones de (1) y (2):\n",
    "\n",
    "* ¿En qué se parecen?\n",
    "* ¿En qué se distinguen?\n",
    "* ¿Ves algún tipo de patrón?"
   ]
  },
  {
   "attachments": {},
   "cell_type": "markdown",
   "metadata": {},
   "source": [
    "## (4)\n",
    "\n",
    "Crea la función `sum_mult_of_3`:\n",
    "\n",
    "* Recibe una lista de números\n",
    "* Devuelve la suma de aquellos que son **múltiplos de 3**\n",
    "\n",
    "#### DIVIDE & VENCERÁS\n",
    "\n",
    "Resuelve primero el subproblema \"saber si un número es múltiplo de 3\", creando el predicado `is_multiple_3`. Recuerda el operador `%` para obtener el resto de una división.\n",
    "\n"
   ]
  },
  {
   "attachments": {},
   "cell_type": "markdown",
   "metadata": {},
   "source": [
    "## (5)\n",
    "\n",
    "Crea la función `count_str` que recibe una lista y devuelve el número de cadenas que hay en ella.\n",
    "\n",
    "Asegúrate de que funciona cuando:\n",
    "\n",
    "* solo hay cadenas\n",
    "* no hay ninguna cadena\n",
    "* la lista de entrada es la vacía\n",
    "\n",
    "1. ¿Se parece en algo a `sum_mult_of_3`?"
   ]
  },
  {
   "attachments": {},
   "cell_type": "markdown",
   "metadata": {},
   "source": [
    "## (6)\n",
    "\n",
    "Crea la función `max_value` que recibe una lista y devuelve el mayor elemento de la misma.\n",
    "\n",
    "* ¿Qué crees que debe de hacer si todos son iguales?\n",
    "* ¿Qué crees que debe de devolver en caso de recibir la lista vacía?"
   ]
  },
  {
   "attachments": {},
   "cell_type": "markdown",
   "metadata": {},
   "source": [
    "## (7)\n",
    "\n",
    "Es siempre una buena idea que las funciones sean *totales*. A veces lo podemos lograr *ampliando el valor de retorno*. De esta manera, conseguimos eliminar los casos especiales (como que la lista de entrada es la lista vacía). Esto hace que el uso de la función sea más sencillo y se reducen las posibilidades de errores.\n",
    "\n",
    "> Cerveza para todos. Elimina los casos especiales\n",
    "\n",
    "¿Cual es el valor máximo de una lista, *cuando la lista está vacía*? En Español, diríamos **ninguno**. En Python, se dice `None`.\n",
    "\n",
    "`None` es la única instancia del typo `NoneType` y se usa para indicar la nada.\n",
    "\n",
    "Entre los tipos de Python, juego el mismo papel que el 0 entre los números.\n",
    "\n",
    "1. Refactoriza tu función `max_value` para que en el caso de que la lista de entrada sea la vacía, que devuelva `None`.\n",
    "2. Crea la función `min_value` que devuelve el valor mínimo.\n",
    "3. Compara ambas. ¿Qué partes son comunes y qué partes son distintas?"
   ]
  },
  {
   "attachments": {},
   "cell_type": "markdown",
   "metadata": {},
   "source": [
    "## (8)\n",
    "\n",
    "Crea la función `concat_all`, que recibe una *lista de cadenas* y devuelve otra cadena, con todas ellas concatenadas. Asegúrate de que funciona correctamente con la lista vacía."
   ]
  },
  {
   "attachments": {},
   "cell_type": "markdown",
   "metadata": {},
   "source": [
    "## (9)\n",
    "\n",
    "Compara `concat_all` con `sum_all`. ¿En qué se parecen? ¿En qué se distinguen? ¿Ves algún patrón?\n"
   ]
  },
  {
   "attachments": {},
   "cell_type": "markdown",
   "metadata": {},
   "source": [
    "## (10)\n",
    "\n",
    "Crea la función `concat_if_u`. Recibe una lista de cadenas y devuelve la concatenación de todas aquellas que contienen una u.\n",
    "\n",
    "Recuerda dividir para vencer. ¿Hay algún sub-problema que resolver antes de meter mano al principal?"
   ]
  },
  {
   "attachments": {},
   "cell_type": "markdown",
   "metadata": {},
   "source": [
    "## (11)\n",
    "\n",
    "Compara `concat_if_u`  con `concat_all`. ¿En qué se parecen y en qué se distinguen?\n",
    "\n"
   ]
  },
  {
   "attachments": {},
   "cell_type": "markdown",
   "metadata": {},
   "source": [
    "## (12)\n",
    "\n",
    "Compara ahora `sum_mult_of_3`con `concat_if_u`. ¿En qué se parecen y en qué se distinguen?"
   ]
  },
  {
   "attachments": {},
   "cell_type": "markdown",
   "metadata": {},
   "source": [
    "## (13)\n",
    "\n",
    "Crea la función `all_equal`. Recibe una lista (de lo que sea) y devuelve `True` si *todos los elementos son iguales entre sí* y `False` en caso contrario.\n",
    "\n",
    "Por ejemplo:\n",
    "\n",
    "`all_equal([1,1,1]) -> True`\n",
    "`all_equal([\"hola\", \"Mundo\"]) -> False`\n",
    "\n",
    "1. ¿Qué tipo de función es `all_equal`\n",
    "2. ¿Qué debería de devolver cuando recibe la lista vacía?\n",
    "3. ¿Es una función total o parcial?\n",
    "4. Asegúrate que tu función no recorre elementos innecesarios de la lista"
   ]
  },
  {
   "attachments": {},
   "cell_type": "markdown",
   "metadata": {},
   "source": [
    "## (14)\n",
    "\n",
    "¿En qué se parece `all_equal` a por ejemplo `sum_mult_of_3`?\n",
    "\n",
    "¿En qué se distinguen?"
   ]
  },
  {
   "attachments": {},
   "cell_type": "markdown",
   "metadata": {},
   "source": [
    "## (15)\n",
    "\n",
    "Crea la función `all_mult_of_3`. Recibe una lista de números y devuelve `True` *si todos son múltiplos de 3*.\n",
    "\n",
    "1. ¿Qué tipo de función es `all_equal`\n",
    "2. ¿Qué debería de devolver cuando recibe la lista vacía?\n",
    "3. ¿Es una función total o parcial?\n",
    "4. Asegúrate que tu función no recorre elementos innecesarios de la lista"
   ]
  },
  {
   "attachments": {},
   "cell_type": "markdown",
   "metadata": {},
   "source": [
    "## (16)\n",
    "\n",
    "Crea la función `any_mult_of_3`. Recibe una lista de números y devuelve `True` *si al menos uno es múltiplo de 3*.\n",
    "\n",
    "1. ¿Qué tipo de función es `any_mult_of_3`\n",
    "2. ¿Qué debería de devolver cuando recibe la lista vacía?\n",
    "3. ¿Es una función total o parcial?\n",
    "4. Asegúrate que tu función no recorre elementos innecesarios de la lista"
   ]
  },
  {
   "attachments": {},
   "cell_type": "markdown",
   "metadata": {},
   "source": [
    "## (17)\n",
    "\n",
    "Compara `all_mult_of_3` y `all_mult_of_3`.\n",
    "\n",
    "* ¿En qué se parecen?\n",
    "* ¿En qué se distinguen?"
   ]
  },
  {
   "attachments": {},
   "cell_type": "markdown",
   "metadata": {},
   "source": [
    "## (18)\n",
    "\n",
    "Crea la función `all_equal_chars`. Recibe una cadena (una secuencia de caracteres) y devuelve `True` si todos los caracteres son iguales. Por ejemplo:\n",
    "\n",
    "`all_equal_chars('aaaaaaaaaaaa')` devuelve `True`\n",
    "`all_equal_chars('aaaaaaxaaaaaa')` devuelve `False`\n",
    "\n",
    "* ¿Cual es el caso extremo y qué debe de devolver?\n",
    "* Función total o parcial?\n",
    "* ¿Qué tipo de función es?"
   ]
  },
  {
   "attachments": {},
   "cell_type": "markdown",
   "metadata": {},
   "source": [
    "## (19)\n",
    "\n",
    "Compara `all_equal` con `all_equal_chars`.\n",
    "\n",
    "¿Cómo lo explicas?"
   ]
  },
  {
   "attachments": {},
   "cell_type": "markdown",
   "metadata": {},
   "source": [
    "## (20)\n",
    "\n",
    "Crea la función `implode`. Recibe una lista de cadenas y la convierte en una cadena, concatenando todo y respetando el orden.\n",
    "\n",
    "1. ¿`implode` es una función reversible?"
   ]
  },
  {
   "attachments": {},
   "cell_type": "markdown",
   "metadata": {},
   "source": [
    "## (21)\n",
    "\n",
    "Crea la función `is_sum_seq`. Recibe una lista de números y devuelve `True` si cada elemento es la suma de todos los anteriores.\n",
    "\n",
    "1. La lista tienen que tener al menos 3 elementos (para que el tercero sea la suma de los anteriores). En caso contrario, debe de devolver `False`\n",
    "2. La función no debe de recorrer más elementos de la lista de los necesarios.\n",
    "3. El primer elemento que se debe de inspeccionar es el tercero. \n",
    "\n"
   ]
  },
  {
   "attachments": {},
   "cell_type": "markdown",
   "metadata": {},
   "source": [
    "-------------------------"
   ]
  },
  {
   "attachments": {},
   "cell_type": "markdown",
   "metadata": {},
   "source": [
    "## Repaso y Conclusiones\n",
    "\n",
    "\n",
    "**NO LEAS ESTO ANTES DE HACER LOS EJERCICIOS**\n",
    "\n",
    "Describe con tus palabras aquello que has visto de común que tienen todas estas funciones.\n",
    "\n",
    "**NO SIGAS ANTES DE HACER ESO**\n",
    "\n",
    "\n",
    "\n",
    "[Aquí tienes una pista](https://www.youtube.com/watch?v=q9BtYEnrkg4)\n",
    "\n",
    "\n",
    "\n",
    "\n"
   ]
  },
  {
   "attachments": {},
   "cell_type": "markdown",
   "metadata": {},
   "source": [
    "\n",
    "\n",
    "\n",
    "\n",
    "\n",
    "\n",
    "### Compresores\n",
    "\n",
    "Todas estas funciones tienen una cosa en común *reciben una lista de elementos* y devuelven un solo elemento. \n",
    "\n",
    "*Reciben una lista* y la **comprimen** a un sólo elemento. Dicho elemento se obtiene *combinando mediante alguna operación* a los elementos de la lista.\n",
    "\n",
    "Para la operación de compresión, a veces usamos todos los elementos y otras veces solo algunos **seleccionados**. \n",
    "\n",
    "Para seleccionar, usamos un **predicado**.\n",
    "\n",
    "Para ir construyendo el valor comprimido, usamos una variable donde vamos *acumulando* los resultados temporales. A esa variable le llamamos el **acumulador**. \n",
    "\n",
    "Cuando llegamos al final,  tenemos el *valor comprimido final* dentro del *acumulador*, y lo devolvemos.\n",
    "\n",
    "El patrón general de un **compresor** es:\n",
    "\n",
    "\n",
    "```python\n",
    "\n",
    "def compress(elements):\n",
    "\n",
    "    # Acumulador con valor inicial\n",
    "    accum = <initial>\n",
    "\n",
    "    # iteramos\n",
    "    for element in elements:\n",
    "        # combinamos. La operación de combinación\n",
    "        # puede incluir un predicado que seleccione\n",
    "        # o no el valor actual para la combinación\n",
    "        accum = <combine>(element, accum)\n",
    "\n",
    "    # Tenemos en accum el valor comprimido\n",
    "    return accum\n",
    "```\n",
    "\n",
    "\n",
    "\n",
    "\n",
    "\n"
   ]
  },
  {
   "attachments": {},
   "cell_type": "markdown",
   "metadata": {},
   "source": [
    "### Compresores totales\n",
    "\n",
    "Podemos forzar a que una función sea total ampliando un poco su tipo de retorno. En concreto, hemos hecho que algunos compresores parciales se convirtiesen en totales al devolver `None` en ciertos casos especiales.\n",
    "\n",
    "> Cerveza para todos\n",
    "\n"
   ]
  },
  {
   "attachments": {},
   "cell_type": "markdown",
   "metadata": {},
   "source": [
    "### Esqueleto común y partes específicas\n",
    "\n",
    "Más arriba hemvos sito el esqueleto común a todo compresor. Lo que es específico de cada uno está entre <>:\n",
    "\n",
    "* el valor inicial del acumulador\n",
    "* la operación de combinación (que puede incluir un predicado)\n",
    "\n",
    "> DRY: Do not repeat yourself\n",
    "\n",
    "Estamos cometiendo un grave pecado contra el principio DRY y deberíamos bscar una solución.\n",
    "\n",
    "¿Qué solución se te ocurre a tí?\n",
    "\n",
    "Más adelante resolveremos esto."
   ]
  },
  {
   "attachments": {},
   "cell_type": "markdown",
   "metadata": {},
   "source": [
    "### ¿Reversible?\n",
    "\n",
    "1. En tu opinión, ¿los compresores suelen ser funciones *reversibles*?\n",
    "2. Si tuviesemos muchos casos de input (listas) y output (valor comprimido), ¿crees que algunos compresores serían *irreversibles estimables*?"
   ]
  },
  {
   "attachments": {},
   "cell_type": "markdown",
   "metadata": {},
   "source": [
    "### Destrucción\n",
    "\n",
    "Ninguna de estas funciones altera o destruye sus parámetros. Por ejemplo, la lista de entrada queda tal cual después de llamar a la función.\n",
    "\n",
    "> Las funciones que alteran sus parámetros se llaman destructivas.\n",
    "> Son más peligrosas que una piraña en un bidé\n",
    "\n",
    "*Nunca implementes funciones destructivas* a no ser que sea absolutamente indispensable. Si lo haces, documéntalo muy bien.\n",
    "\n",
    "\n",
    "\n"
   ]
  }
 ],
 "metadata": {
  "language_info": {
   "name": "python"
  },
  "orig_nbformat": 4
 },
 "nbformat": 4,
 "nbformat_minor": 2
}
