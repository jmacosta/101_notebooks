{
 "cells": [
  {
   "attachments": {},
   "cell_type": "markdown",
   "metadata": {},
   "source": [
    "# Los Power Rangers del Código\n",
    "\n",
    "--------------------------"
   ]
  },
  {
   "attachments": {},
   "cell_type": "markdown",
   "metadata": {},
   "source": [
    "Ya conocemos 4 tipos de funciones sumamente útiles:\n",
    "\n",
    "1. **Predicado**: devuelve un `booleano`. Sirve como un test que se aplica al parámetro.\n",
    "2. **Compresor**: comprime una secuencia de valores a uno solo\n",
    "3. **Selector**: selecciona algunos de los elementos de una secuencia, mediante un *predicado*.\n",
    "4. **Transformador**:transforma los valores de una secuencia en otros.\n",
    "\n",
    "Asegúrate de entender bien lo que hace cada uno y cual es su *patrón de código*.\n",
    "\n",
    "Son los *power rangers* del código.\n",
    "\n",
    "![](https://1.bp.blogspot.com/-iMV0UxYE0pg/ToLmjLvOeDI/AAAAAAAADUQ/3FmGo2VUD9E/s1600/Power_Rangers_Background_Vvallpaper.Net.jpg)"
   ]
  },
  {
   "attachments": {},
   "cell_type": "markdown",
   "metadata": {},
   "source": [
    "\n",
    "> A partir de ahora, cuando tengas que diseñar un afunción, piensa si es un caso especial de alguno de ellos, *o una combinación de varios* de ellos."
   ]
  },
  {
   "attachments": {},
   "cell_type": "markdown",
   "metadata": {},
   "source": [
    "La *combinación de estos cuatro* nos permite resolver muchísimos problemas de forma clara y eficiente. Representan un ejemplo de *que cada perro se lama su cipote*: cada uno de ellos tiene una responsabilidad clara y delimitada."
   ]
  },
  {
   "attachments": {},
   "cell_type": "markdown",
   "metadata": {},
   "source": [
    "Son la *base del procesamiento de datos en gran escala (big data)* y también la creación y *gestión de interfaces de usuario complejas*, principalmente en aplicaciones móviles.ss"
   ]
  },
  {
   "attachments": {},
   "cell_type": "markdown",
   "metadata": {},
   "source": [
    "## Algoritmo Universal para Diseñar Funciones 3.0\n",
    "\n",
    "1. Di en voz alta o escribe lo siguiente:\n",
    "   1. ¿Qué devuelve esta función? *¿Un número, una cadena, una lista, un booleano?*\n",
    "   2. ¿Qué recibe esta función? *¿Uno o más parámetros? ¿De qué tipo?*\n",
    "   3. ¿Hay casos especiales? ¿Qué se hace en ese caso?\n",
    "   4. ¿Es un caso de alguno delos 4 Power Rangers?\n",
    "   5. ¿Es una combinación de algunos de ellos?\n",
    "2. Escribe la *firma de la función* (su primera linea, del def a los dos puntos) y su documentación.\n",
    "3. En el cuerpo de la función, pon en comentarios, todos los pasos que crees que harán falta.\n",
    "4. Cuando estés seguro de entender lo que vas a hacer, empieza a sustituir (a añadir) a cada comentario por la linea de código Python correspondiente.\n"
   ]
  }
 ],
 "metadata": {
  "language_info": {
   "name": "python"
  },
  "orig_nbformat": 4
 },
 "nbformat": 4,
 "nbformat_minor": 2
}
