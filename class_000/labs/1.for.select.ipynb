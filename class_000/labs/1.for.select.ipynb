{
 "cells": [
  {
   "attachments": {},
   "cell_type": "markdown",
   "metadata": {},
   "source": [
    "# Iteración sobre secuencias mediante `for` 2\n",
    "\n",
    "----------------------\n"
   ]
  },
  {
   "attachments": {},
   "cell_type": "markdown",
   "metadata": {},
   "source": [
    "## (0) \n",
    "\n",
    "Describe lo que hace esta función. Intenta ejecutar el código en tu mente, sin tener que usar Python. El ordenador eres tú.\n",
    "\n",
    "1. ¿Para qué sirve?\n",
    "2. ¿Qué nombre le darías a la función?\n",
    "3. ¿Qué nombre le darias a la variable `something`?\n",
    "   \n",
    "\n",
    "```python\n",
    "def mistery(elements):\n",
    "    something = []\n",
    "    for element in elements:\n",
    "        if type(element) == list:\n",
    "            something.append(element)\n",
    "    return something\n",
    "```\n"
   ]
  },
  {
   "attachments": {},
   "cell_type": "markdown",
   "metadata": {},
   "source": [
    "## (1)\n",
    "\n",
    "Crea la función `select_even` que recibe una lista de números y devuelve una lista con *sólo los números pares*, en el mismo orden.\n",
    "\n",
    "Es decir, si recibe la lista `[1,2,3,4, 5, 6]`, el valor correcto de retorno es `[2,4,6]`. No es correcto devolver `[4, 2, 6]`.\n",
    "\n",
    "* ¿Qué debe de devolver si no hay ningún numero par?\n",
    "* ¿Qué debe de devolver si recibe la lista vacía?\n",
    "\n"
   ]
  },
  {
   "attachments": {},
   "cell_type": "markdown",
   "metadata": {},
   "source": [
    "## (2) \n",
    "\n",
    "Crea la función `select_strings` que recibe una lista y devuelve otra lista sólo con las cadenas que hubiese en la lista de entrada, en el mismo orden."
   ]
  },
  {
   "attachments": {},
   "cell_type": "markdown",
   "metadata": {},
   "source": [
    "## (3)\n",
    "\n",
    "Crea la función `select_bigger` que recibe *2 parámetros*:\n",
    "\n",
    "1. Un número\n",
    "2. Una lista de números\n",
    "\n",
    "devuelve una lista con aquellos que son mayores que el parámetro numérico.\n",
    "\n",
    "* Recuerda preservar el orden\n",
    "* ¿Qué devolverías si recibes una lista vacía?\n",
    "\n"
   ]
  },
  {
   "attachments": {},
   "cell_type": "markdown",
   "metadata": {},
   "source": [
    "## (4)\n",
    "\n",
    "Crea la función `select_smaller` que recibe *2 parámetros*:\n",
    "\n",
    "1. Un número\n",
    "2. Una lista de números\n",
    "\n",
    "devuelve una lista con aquellos que son menores que el parámetro numérico.\n",
    "\n",
    "* Recuerda preservar el orden\n",
    "* ¿Qué devolverías si recibes una lista vacía?\n",
    "* ¿En qué se distingue de `select_bigger`?"
   ]
  },
  {
   "attachments": {},
   "cell_type": "markdown",
   "metadata": {},
   "source": [
    "## (5)\n",
    "\n",
    "Crea la función `select_mult_5`. Recibe una lista de números y devuelve una lista con aquellos que son múltiplos de 5."
   ]
  },
  {
   "attachments": {},
   "cell_type": "markdown",
   "metadata": {},
   "source": [
    "## (6) \n",
    "\n",
    "Crea la función `select_long_words`. Recibe dos parámetros:\n",
    "\n",
    "1. Un número\n",
    "2. Una lista de cadenas\n",
    "\n",
    "Devuelve la lista de las palabras cuya longitud sea igual o mayor que el número.\n",
    "\n",
    "* ¿Qué devolverías si el número es negativo o cero?\n",
    "* ¿Qué devolverías si recibes una lista vacía?\n",
    "\n",
    "\n"
   ]
  },
  {
   "attachments": {},
   "cell_type": "markdown",
   "metadata": {},
   "source": [
    "## (7)\n",
    "\n",
    "Crea la función `select_starts_letter`. Recibe dos parámetros:\n",
    "\n",
    "1. Una cadena de longitud 1 (un caracter)\n",
    "2. Una lista de cadenas\n",
    "\n",
    "Devuelve la lista de aquellas cadenas que empiezan por el carcter que has recibido. Respeta el orden.\n",
    "\n",
    "* La primera cadena ha de ser un sólo caracter. Si no es así, la función no debería de continuar.\n",
    "* Una forma de comprobar que un parámetro cumple una cierta condición es con la palabra clave `assert`\n",
    "\n",
    "#### Uso de `assert`\n",
    "\n",
    "`assert` se aplica a una *expresión booleana* y si ésta devuelve `False`, se produce un error y se pára la evaluación del programa.\n",
    "\n",
    "`assert 3 < 4`  OK \n",
    "`assert 4 < 3`  ERROR\n",
    "\n",
    "OJO, `assert` no es una función (por eso no lleva paréntesis a la hora de aplicarse).\n",
    "\n",
    "`assert` se utiliza a veces para comprobar que un parámetro cumple con ciertos requisitos. Más adelante veremso formas algo mejores de hacer esto.\n",
    "\n",
    "* Usa `assert` para asegurarte que la función sólo sigue adelante cuando la cadena de entrada tiene la longitud correcta\n",
    "* ¿`select_starts_letter` es total o parcial?"
   ]
  },
  {
   "attachments": {},
   "cell_type": "markdown",
   "metadata": {},
   "source": [
    "## (8)\n",
    "\n",
    "Crea la función la función `select_contains`. Recibe dos parámetros:\n",
    "\n",
    "1. Una cadena de cualquier longitud\n",
    "2. Una lista de cadenas\n",
    "\n",
    "Devuelve una lista de aquellas cadenas que contienen la recibida como parámetro, en cualquier posición (principio, em medio, final, no importa)\n",
    "\n",
    "**DIVIDE & VENCERAS**\n",
    "\n",
    "Tienes un subproblema: averiguar si una cadena contiene a otra. Resuelve eso primero.\n",
    "\n",
    "Teniendo en cuenta que la cadena A sólo puede ser una subcadena de la cadena B, si `len(A) <= len(B)`, ¿cómo usarías tú eso para evitar que  `select_contains` haga operaciones innecesarias?\n",
    "\n"
   ]
  },
  {
   "attachments": {},
   "cell_type": "markdown",
   "metadata": {},
   "source": [
    "## (9)\n",
    "\n",
    "Crea la función `select_starts`. Recibe dos parámetros:\n",
    "\n",
    "1. Una cadena\n",
    "2. Una lista de cadenas\n",
    "\n",
    "Devuelve una lista con aquellas cadenas que *empiezan* por la cadena que has recibido como parámetro.\n",
    "\n",
    "¿Qué devolverías cunado recibes una lista vacía?\n",
    "\n",
    "¿`select_starts` es total o parcial?"
   ]
  },
  {
   "attachments": {},
   "cell_type": "markdown",
   "metadata": {},
   "source": [
    "## (10)\n",
    "\n",
    "1. Compara `select_starts` con `select_starts_letter`\n",
    "2. ¿Crees que una se podría implementar a partir de la otra?\n",
    "\n",
    "Pista: DRY"
   ]
  },
  {
   "attachments": {},
   "cell_type": "markdown",
   "metadata": {},
   "source": [
    "## (11)\n",
    "\n",
    "1. ¿En qué se parecen todas estas funciones?\n",
    "2. ¿Qué tiene cada una de particular?\n",
    "3. ¿Identificas algún patrón?"
   ]
  },
  {
   "attachments": {},
   "cell_type": "markdown",
   "metadata": {},
   "source": [
    "------------------"
   ]
  },
  {
   "attachments": {},
   "cell_type": "markdown",
   "metadata": {},
   "source": [
    "## Repaso y Conclusiones\n",
    "\n",
    "\n",
    "**NO LEAS ESTO ANTES DE HACER LOS EJERCICIOS**\n",
    "\n",
    "Describe con tus palabras aquello que has visto de común que tienen todas estas funciones.\n",
    "\n",
    "**NO SIGAS ANTES DE HACER ESO**\n",
    "\n",
    "\n",
    "**Una pista:**\n",
    "\n",
    " En 1908 Melitta Bentz, una ama de casa alemana registró una de las primeras patentes de una mujer por un invento de gran éxito comercial: [Un filtro de papel para café](https://vintagenewsdaily.com/in-1908-the-coffee-filter-and-filter-paper-were-founded-by-a-german-housewife/)\n",
    "\n",
    " ![](https://1.bp.blogspot.com/-Ula2vyH-4No/Xu5MPy-7k3I/AAAAAAAD0pU/FOlba_pqBV40aXP5K4Z4B7sXj_dv0LAsgCLcBGAsYHQ/s1600/kaffee-filter.jpg)"
   ]
  },
  {
   "attachments": {},
   "cell_type": "markdown",
   "metadata": {},
   "source": [
    "## Selectores\n",
    "\n",
    "Todas estas funciones reciben una lista y devuelven otra lista. La lista de salida es una *versión filtrada* de la de entrada.\n",
    "\n",
    "Todas ellas *seleccionan* (mediante un predicado o comparación) aquellos elementos que pasan el test.\n",
    "\n",
    "Todas ellas van *construyendo una nueva lista* con aquellos elementos que van pasando el test.\n",
    "\n",
    "Para ello, se usa una variable que empieza con la lista vacía y  a ella se van añadiendo aquellos elementos que pasan el test.\n",
    "\n",
    "Cuando llegas al final de la lista, todos los elementos seleccionados estarán en la variable.\n",
    "\n",
    "El patrón general de un **selector** es:\n",
    "\n",
    "```python\n",
    "def select(elements):\n",
    "    selected = []\n",
    "    for element in elements:\n",
    "        if <predicate>(element):\n",
    "            selected.append(element)\n",
    "    return selected\n",
    "```\n",
    "\n",
    "\n",
    "\n"
   ]
  },
  {
   "attachments": {},
   "cell_type": "markdown",
   "metadata": {},
   "source": [
    "### Esqueleto común y partes específicas\n",
    "\n",
    "Más arriba hemvos sito el esqueleto común a todo selector. Lo que es específico de cada uno está entre <>:\n",
    "\n",
    "* el predicado de selección\n",
    "\n",
    "A veces nos pasan parte de ese predicado como un parámetro: un valor contra el que se compara de alguna  manera todos los elementos de la lista.\n",
    "\n",
    "Todas estas funciones se parecen demasiado.\n",
    "\n",
    "> DRY: Do not repeat yourself\n",
    "\n",
    "Estamos cometiendo un grave pecado contra el principio DRY y deberíamos buscar una solución.\n",
    "\n",
    "¿Qué solución se te ocurre a tí?\n",
    "\n",
    "Más adelante resolveremos esto."
   ]
  },
  {
   "attachments": {},
   "cell_type": "markdown",
   "metadata": {},
   "source": [
    "### ¿Reversible?\n",
    "\n",
    "1. En tu opinión, ¿los selectores suelen ser funciones *reversibles*?\n",
    "2. Si tuviesemos muchos casos de input (listas) y output (valor comprimido), ¿crees que algunos selectores serían *irreversibles estimables*?\n",
    "\n",
    "Recuerda que descubrir una (posible) función *irreversible estimable*, a partir de muchos datos es una tarea que se resuelve con IA, en concreto Deep Learning. Los que vayan para Big Data & Machine Learning lo verán mucho.\n"
   ]
  },
  {
   "attachments": {},
   "cell_type": "markdown",
   "metadata": {},
   "source": [
    "### Destrucción\n",
    "\n",
    "Ninguna de estas funciones altera o destruye sus parámetros. Por ejemplo, la lista de entrada queda tal cual después de llamar a la función.\n",
    "\n",
    "> Las funciones que alteran sus parámetros se llaman destructivas.\n",
    "> Son más peligrosas que una piraña en un bidé\n",
    "\n",
    "*Nunca implementes funciones destructivas* a no ser que sea absolutamente indispensable. Si lo haces, documéntalo muy bien.\n",
    "\n"
   ]
  }
 ],
 "metadata": {
  "language_info": {
   "name": "python"
  },
  "orig_nbformat": 4
 },
 "nbformat": 4,
 "nbformat_minor": 2
}
