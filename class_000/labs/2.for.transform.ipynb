{
 "cells": [
  {
   "attachments": {},
   "cell_type": "markdown",
   "metadata": {},
   "source": [
    "# Iteración sobre secuencias mediante `for` 3\n",
    "\n",
    "----------------------"
   ]
  },
  {
   "attachments": {},
   "cell_type": "markdown",
   "metadata": {},
   "source": [
    "## (0)\n",
    "\n",
    "```python\n",
    "def mistery(elements):\n",
    "    qq = []\n",
    "    for element in elements:\n",
    "        qq.append(element + 42)\n",
    "    return qq\n",
    "```\n",
    "\n",
    "1. ¿Qué hace esa función? No lo evalúes en Python, evalúalo en tu cabeza.\n",
    "2. ¿Qué caraterísticas tiene la salida y qué tiene que ver con la entrada?\n",
    "3. ¿Cómo la llamarías? ¿Y a la variable `qq`?"
   ]
  },
  {
   "attachments": {},
   "cell_type": "markdown",
   "metadata": {},
   "source": [
    "## (1)\n",
    "\n",
    "Construye una función llamada `make_lengths` que recibe una lista de cadenas y devuelve: una *lista de números* , de la *misma longitud* de la lista de entrada. Cada uno de esos números es la longitud de cada una de las cadenas de entrada.\n",
    "\n",
    "Por ejemplo:\n",
    "\n",
    "`[\"hey\", \"hola\", \"mundo\"]` --> `[3, 4, 5]`\n",
    "`[]` --> `[]`\n",
    "\n"
   ]
  },
  {
   "attachments": {},
   "cell_type": "markdown",
   "metadata": {},
   "source": [
    "## (2)\n",
    "\n",
    "Considerando que ya tenemos la función `sum_all`, ¿qué hace esta función y cómo la llamarías?:\n",
    "\n",
    "```python\n",
    "def mistery(words):\n",
    "    return sum_all(make_lengths(words))\n",
    "```\n",
    "\n"
   ]
  },
  {
   "attachments": {},
   "cell_type": "markdown",
   "metadata": {},
   "source": [
    "## (3) \n",
    "\n",
    "Crea la función `make_inverses` que recibe una lista de números, y devuelve otra lista de igual longitud con los inversos de cada uno de los números de entrada. Respeta el orden.\n",
    "\n"
   ]
  },
  {
   "attachments": {},
   "cell_type": "markdown",
   "metadata": {},
   "source": [
    "## (4)\n",
    "\n",
    "Crea una función llamada `elevate` que recibe dos parámetros:\n",
    "\n",
    "* una lista de números \n",
    "* un número llamado exponent\n",
    "\n",
    "Devuelve una nueva lista, con el resultado de elevar cada uno de los elementos originales a exponent. Respeta el orden.\n"
   ]
  },
  {
   "attachments": {},
   "cell_type": "markdown",
   "metadata": {},
   "source": [
    "## (5) \n",
    "\n",
    "Crea la función `to_strings` que recibe una lista de números y devuelve una nueva lista que contiene esos números convertidos en cadenas: 3 --> \"3\".\n",
    "\n",
    "Para la conversión de `int` o `float` a `str` se usa el tipo de destino (en este caso `str`) y se le llama como si fuese una función. Por ejemplo: `str(8)`.\n",
    "\n",
    "\n",
    "\n"
   ]
  },
  {
   "attachments": {},
   "cell_type": "markdown",
   "metadata": {},
   "source": [
    "## (6)\n",
    "\n",
    "Crea la función `to_floats` que recibe una lista de números y devuelve una nueva lista que contiene esos números convertidos en números decimales (`float`).\n",
    "\n",
    "Por ejemplo:\n",
    "\n",
    "`[1.01, 8, 42]` --> `[1.01, 8.0, 42.0]`\n",
    "\n",
    "Recuerda que el tipo de destino es `float`."
   ]
  },
  {
   "attachments": {},
   "cell_type": "markdown",
   "metadata": {},
   "source": [
    "## (7)\n",
    "\n",
    "Crea la función `round_list` que recibe una lista de números (enteros o decimales) y devuelve una lista de decimales redondeados a dos posiciones.\n",
    "\n",
    "`[1.01, 8, 42.009]` --> `[1.01, 8.00, 42.01]`\n",
    "\n",
    "1. Averigua cómo funciona `round` de Python\n",
    "2. Aprovecha la función `to_floats`"
   ]
  },
  {
   "attachments": {},
   "cell_type": "markdown",
   "metadata": {},
   "source": [
    "## (8)\n",
    "\n",
    "Necesitas una función que recib euna lista de números y los redondea a varias  posiciones decimales (1, 2, 4, etc).\n",
    "\n",
    "Modifica `round_list` para que pueda hacer eso."
   ]
  },
  {
   "attachments": {},
   "cell_type": "markdown",
   "metadata": {},
   "source": [
    "## (9)\n",
    "\n",
    "Lo más probable es que al enterarte de que parte de la función `round_list` tendrá que variar de una llamada a otra (el número de posiciones decimales) hayas sacado eso a un parámetro. \n",
    "\n",
    "¡Enhorabuena!\n",
    "\n",
    "Sin embargo, ahora tienes un problema. Antes la función se llamaba así:\n",
    "\n",
    "`round_list([2,45.9, 432.896])` con un solo parámetro\n",
    "\n",
    "Ahora tiene dos, y tu código ya no compila. Lo que es peor, tu función es parte de un módulo de python que es usado por millones de programadores. No sólo tú, sino todos ellos van a tener que cambiar su código.\n",
    "\n",
    "Para evitar eso, vamos a usar una cosa llamada *parámetros por defecto*.\n",
    "\n",
    "\n",
    "### Parámetros por defecto\n",
    "\n",
    "Hasta ahora, todos los parámetros de nuestras funciones reciben su valor cunado la llamas. Sin embargo, también les puedes dar un valor por defecto.\n",
    "\n",
    "Por ejemplo, tenemos una función llamada `greet` (saluda) que recibe un nombre y devuelve una cadena con un saludo para ese nombre:\n",
    "\n",
    "```python\n",
    "def greet(name):\n",
    "    return 'Hello \" + name + \"!\"\n",
    "```\n",
    "\n",
    "Ahora necesitamos poder especificar el saludo para que se pueda usar en varios idiomas. \n",
    "\n",
    "*Sacamos algo que está metido con calzador en el cuerpo de la función y lo convertimos en un parámetro.*\n",
    "\n",
    "> Este es el procedimiento estandar para hacer que neustro software sea más flexible\n",
    "\n",
    "```python\n",
    "def greet(name, greeting):\n",
    "    return greeting + name + \"!\"\n",
    "```\n",
    "\n",
    "Ahora ya podemos [saludar en Klingon](https://www.youtube.com/watch?v=auqS6FR_RDE) o en Japonés:\n",
    "\n",
    "```python\n",
    "greet(\"Manolo\", \"nuqneH\")\n",
    "greet(\"Lucas\", \"Konnichiwa\")\n",
    "```\n",
    "\n",
    "Es más flexible, pero también algo más coñazo, porque resulta que en la inmensa mayoría de los casos, vas a saludar en Klingon. \n",
    "\n",
    "Sería bueno que se pudiese llamar a la función con un sólo parámetro para el caso más común (Klingon, of course) y con dos en las excepciones (Valyrio, Dothraki, etc)\n",
    "\n",
    "Para ello le daremos al parámetro `greeting` el valor por defecto común: *nuqneH*\n",
    "\n",
    "```python\n",
    "def greet(name, greeting = \"nuqneH\"):\n",
    "    return greeting + \" \" + name + \"!\"\n",
    "```\n",
    "\n",
    "Cuando vamos a usar el valor por defecto, no tenemos que mencionar el segundo parámetro:\n",
    "\n",
    "```Python\n",
    "greet('Worf')\n",
    "```\n",
    "\n",
    "Para los casos específicos, pasamos el valor correcto de la siguiente manera:\n",
    "\n",
    "```Python\n",
    "greet('Worf', greeting= \"Konnichiwa\") # Japonés\n",
    "greet('Worf', greeting= \"Athchomar chomakea\") # Dothraki\n",
    "```\n",
    "\n",
    "1. Comprueba que lo entiendes, que sabes quién es Worf, los Klingon y los Dothraki.\n",
    "2. Aplica esto para que se pueda pasar el número de posiciones a `round_list` pero que el código existente no cambie cuando el número de posiciones es 1."
   ]
  },
  {
   "attachments": {},
   "cell_type": "markdown",
   "metadata": {},
   "source": [
    "## (10)\n",
    "\n",
    "\n",
    "Crea la función `update_salaries` que recibe una lista de nóminas y crea una nueva lista con las nóminas aplicando los siguientes cambios:\n",
    "\n",
    "* nómina < 900 se incrementa en un 30%\n",
    "* 900 <= nómina < 1500, se incrementa en un 12%\n",
    "* 1500 <= nómina < 6000, se queda tal cual\n",
    "* nómina > 6000, se incrementa en un 100% (ventajas de ser alto cargo)\n",
    "\n",
    "\n"
   ]
  },
  {
   "attachments": {},
   "cell_type": "markdown",
   "metadata": {},
   "source": [
    "## (11)\n",
    "\n",
    "Si al resultado de `update_salaries` le aplicas un `sum_all` ¿qué te sale?"
   ]
  },
  {
   "attachments": {},
   "cell_type": "markdown",
   "metadata": {},
   "source": [
    "## (12)\n",
    "\n",
    "Crea la función `double_if_neg` que recibe una lista de números y devuelve una nueva lista de números con el siguiente cambio: si un número es negativo, se le multiplica por dos."
   ]
  },
  {
   "attachments": {},
   "cell_type": "markdown",
   "metadata": {},
   "source": [
    "## (13)\n",
    "\n",
    "Crea la función `to_lists` que recibe una lista y devuelve otra con cada uno de los elementos de la de entrada convertido en una lista. Es decir, devolverá una lista de listas."
   ]
  },
  {
   "attachments": {},
   "cell_type": "markdown",
   "metadata": {},
   "source": [
    "## (14)\n",
    "\n",
    "Crea la función `explode`. Recibe una cadena y la convierte en una lista de caracteres.\n",
    "\n",
    "Por ejemplo:\n",
    "\n",
    "`\"hola\" --> [\"h\", \"o\", \"l\", \"a\"]`\n",
    "`\"\" --> []`\n",
    "\n",
    "No vamos a trabajar sobre listas, sino sobre cadenas. No pasa nada, las cadenas son secuencias y se pueden manejar igual. Lo único que cambia es:\n",
    "\n",
    "* Vas a iterar por los caracteres de la cadena\n",
    "* ¿Cual es el valor inicial del acumulador que vas a usar? \n",
    "\n",
    "1. La función `explode` es reversible?\n",
    "2. ¿Te acuerdas de `implode`?\n",
    "3. ¿Qué pasa si evalúas `implode(explode(\"hola\"))`?"
   ]
  },
  {
   "attachments": {},
   "cell_type": "markdown",
   "metadata": {},
   "source": [
    "## (15) \n",
    "\n",
    "La *Lengua de la P* es un juego de niños común en Brasil en el que se alteran las palabras convirtiéndolas en una especie de trabalenguas.\n",
    "\n",
    "Si una letra es una vocal, se le transforma en una sílaba con la p y las dos vocales:\n",
    "\n",
    "* a -> apa\n",
    "* e -> epe\n",
    "* i -> ipi\n",
    "* o -> opo\n",
    "* u -> upu\n",
    "\n",
    "Aplicando esto, las siguientes palabras se convertirían así:\n",
    "\n",
    "* Basico -> Bapasipicopo\n",
    "* Raro -> Raparopo\n",
    "* Alamo -> Apalapamopo\n",
    "\n",
    "Crea la función `to_p_sentence` que recibe una frase (una cadena) y la convierte a la *Lengua de la P*.\n",
    "\n",
    "**PISTAS**\n",
    "\n",
    "1. DIVIDE & VENCERÁS: lo más sencillo sería convertir un caracter a la lengua de la p. Para ello, si es una vocal, aplicas las normas de arriba, y si es cualquier otra cosa, se deja tal cual.\n",
    "2. Cuando tengas eso resuelto, intenta aplicarlo a una frase."
   ]
  },
  {
   "attachments": {},
   "cell_type": "markdown",
   "metadata": {},
   "source": [
    "## (16)\n",
    "\n",
    "1. ¿La función `to_p_sentence` es reversible?\n",
    "2. ¿Te parece que sería una buena opción para encriptar textos secretos? "
   ]
  },
  {
   "attachments": {},
   "cell_type": "markdown",
   "metadata": {},
   "source": [
    "## (17)\n",
    "\n",
    "Parece que la transformación que aplica `to_p_sentence` es un poco predecible y cualquiera que reciba un texto encriptado de esa manera podría transformarlo de vuelta.\n",
    "\n",
    "Vamos a intentar mejorarlo, haciendo que no se aplique la transformación a todas las vocales, sino sólo a aquellas que estén en una posición par de la cadena:\n",
    "\n",
    "|0|1|2|3|4|5|\n",
    "-|-|-|-|-|-|\n",
    "|a|t|r|a|p|a|\n",
    "|apa|t|r|a|p|a|\n",
    "\n",
    "atrapa --> apatrapa\n",
    "\n",
    "Modifica la función `to_p_sentence` para que haga esto.\n",
    "\n",
    "\n",
    "**PISTA**\n",
    "\n",
    "Nos encontramos con una situación un poco destinta a la habitual. El bucle `for` de Python nos va dando el elemento de la secuencia (lista o cadena) sin que nos tengamos que preocupar por la posición en la que se encuentra.\n",
    "\n",
    "La buena vida se acabó, ahora tenemos que llevar cuenta del índice:\n",
    "\n",
    "* crear una variable para ir guardándolo\n",
    "* darle un valor inicial\n",
    "* ir actualizando ese valor a cada vuelta que da el bucle\n",
    "\n",
    "```Python\n",
    "index = ??\n",
    "for element in elements:\n",
    "    # haz algo con el element\n",
    "    # Actualiza el índice\n",
    "    index = ???\n",
    "```\n",
    "\n",
    "Intenta rellenar ese patrón y actualiza la función.\n",
    "\n",
    "\n"
   ]
  },
  {
   "attachments": {},
   "cell_type": "markdown",
   "metadata": {},
   "source": [
    "## (18)\n",
    "\n",
    "Crea la función `foo` que recibe una lista de números y devuelve una nueva aplicando las siguientes reglas:\n",
    "\n",
    "* si el índice es par, el valor se multiplica por 2\n",
    "* si el índice es divisible por 3, el valor se divide por 4\n",
    "* sino, el valor se eleva al cuadrado.\n",
    "\n"
   ]
  },
  {
   "attachments": {},
   "cell_type": "markdown",
   "metadata": {},
   "source": [
    "## (19)\n",
    "\n",
    "Crea la función `fizzbuzz` que recibe una lista de números y devuelve otra lista, de la misma longitud, aplicando la siguiente transformación a cada uno de los elementos originales:\n",
    "\n",
    "* Si el elemento es *divisible por 3*, se le reemplaza por la cadena `Fizz`.\n",
    "* Si el elemento es *divisible por 5*, se le reemplaza por la cadena `Buzz`\n",
    "* Si el elemento es divisible *tanto por 3 como por 5*, se le reemplaza por la cadena `Fizz Buzz`.\n",
    "* Sino, se deja tal como está\n",
    "\n",
    "`[1,2,3,4,5,6,7,8,9,10,11,12,13,14,15,16,17,18,19,20]` se debería de convertir en `[1, 2, 'Fizz', 4, 'Buzz', 'Fizz', 7, 8, 'Fizz', 'Buzz', 11, 'Fizz', 13, 14, 'Fizz Buzz', 16, 17, 'Fizz', 19, 'Buzz']`"
   ]
  },
  {
   "attachments": {},
   "cell_type": "markdown",
   "metadata": {},
   "source": [
    "## (20)\n",
    "\n",
    "¿Lo has conseguido? ¡Enhorabuena! Acabas de superar una [pregunta clásica de entrevista de trabajo](https://blog.codinghorror.com/why-cant-programmers-program/).\n",
    "\n",
    "Sal al rellano de la escalera y pega el [grito de Tarzán](https://www.youtube.com/watch?v=MwHWbsvgQUE) para que se entere todo el vecindario. Parece que esto marcha.\n"
   ]
  },
  {
   "attachments": {},
   "cell_type": "markdown",
   "metadata": {},
   "source": [
    "## (21)\n",
    "\n",
    "Ahora crea la función `tarzan`. Recibe una lista de números y devuelve otra lista, de la misma longitud, aplicando la siguiente transformación a cada uno de los elementos originales:\n",
    "\n",
    "* Si **el índice** del elemento es *divisible por 3*, se le reemplaza por la cadena `ooo`.\n",
    "* Si **el índice** del elemento es *divisible por 5*, se le reemplaza por la cadena `uuu`\n",
    "* Si **el índice** del elemento es divisible *tanto por 3 como por 5*, se le reemplaza por la cadena `aaa`.\n",
    "* Sino, se deja el elemento tal como está"
   ]
  },
  {
   "attachments": {},
   "cell_type": "markdown",
   "metadata": {},
   "source": [
    "## (22)\n",
    "\n",
    "1. ¿En qué se parecen todas estas funciones?\n",
    "2. ¿Qué tiene cada una de particular?\n",
    "3. ¿Identificas algún patrón?"
   ]
  },
  {
   "attachments": {},
   "cell_type": "markdown",
   "metadata": {},
   "source": [
    "----------------------"
   ]
  },
  {
   "attachments": {},
   "cell_type": "markdown",
   "metadata": {},
   "source": [
    "## Repaso y Conclusiones\n",
    "\n",
    "\n",
    "**NO LEAS ESTO ANTES DE HACER LOS EJERCICIOS**\n",
    "\n",
    "Describe con tus palabras aquello que has visto de común que tienen todas estas funciones.\n",
    "\n",
    "**NO SIGAS ANTES DE HACER ESO**\n"
   ]
  },
  {
   "attachments": {},
   "cell_type": "markdown",
   "metadata": {},
   "source": [
    "## Transformadores\n",
    "\n",
    "Todas estas funciones reciben una secuencia y devuelven otra secuencia de la misma longitud. La secuencia de salida tiene los elementos de la primera transformados de alguna forma, a veces cambiando el tipo, otras veces no.\n",
    "\n",
    "Todas ellas *transforman* a todos y cada uno de los elementos.\n",
    "\n",
    "Todas ellas van *construyendo una nueva secuencia* con los elementos transformados. \n",
    "\n",
    "Para ello, se usa una variable que empieza con el elemento nulo que corresponde (`[]`para listas y `\"\"` para cadenas) y  a ella se van añadiendo los elementos transformados.\n",
    "\n",
    "Cuando llegas al final de la secuencia, la nueva secuencia transformada está en la variable, list apara salir del horno.\n",
    "\n",
    "El patrón general de un **transformador** es:\n",
    "\n",
    "```python\n",
    "# para listas\n",
    "def transfrom(elements):\n",
    "    transformed = [] \n",
    "    for element in elements:\n",
    "        transformed.append(<transformation>(element))\n",
    "    return transformed\n",
    "```\n",
    "\n",
    "```python\n",
    "# para cadenas\n",
    "def transfrom(elements):\n",
    "    transformed = \"\"\n",
    "    for element in elements:\n",
    "        transformed = transformed + <transformation>(element)\n",
    "    return transformed\n",
    "```\n"
   ]
  },
  {
   "attachments": {},
   "cell_type": "markdown",
   "metadata": {},
   "source": [
    "### Esqueleto común y partes específicas\n",
    "\n",
    "Más arriba hemvos sito el esqueleto común a todo transformador. Lo que es específico de cada uno está entre <>:\n",
    "\n",
    "* la transformación que se aplica a cada elemento\n",
    "\n",
    "\n",
    "Todas estas funciones se parecen demasiado.\n",
    "\n",
    "> DRY: Do not repeat yourself\n",
    "\n",
    "Estamos cometiendo un grave pecado contra el principio DRY y deberíamos buscar una solución.\n",
    "\n",
    "¿Qué solución se te ocurre a tí?\n",
    "\n",
    "Más adelante resolveremos esto."
   ]
  },
  {
   "attachments": {},
   "cell_type": "markdown",
   "metadata": {},
   "source": [
    "### ¿Reversible?\n",
    "\n",
    "Todo depende de la operación de transformación. Si logramos dar con una buena, podríamos tener un **transformador irreversible**. En criptografía esto es esencial, y hay mucha investigación para encontrar transformadores irreversibles.\n",
    "\n",
    "Las funciones criptográficas más comunes, como [AES](https://en.wikipedia.org/wiki/Advanced_Encryption_Standard), son transformadores que actúan sobre *secuencias de bits* (ceros y unos).\n",
    "\n",
    "Dichas funciones son muy complicadas y de bajo nivel, y se salen por completo del alcance de este curso, pero la idea general y ala tienes.\n",
    "\n",
    "\n"
   ]
  },
  {
   "attachments": {},
   "cell_type": "markdown",
   "metadata": {},
   "source": [
    "### Destrucción\n",
    "\n",
    "Ninguna de estas funciones altera o destruye sus parámetros. Por ejemplo, la lista de entrada queda tal cual después de llamar a la función.\n",
    "\n",
    "> Las funciones que alteran sus parámetros se llaman destructivas.\n",
    "> Son más peligrosas que una piraña en un bidé\n",
    "\n",
    "*Nunca implementes funciones destructivas* a no ser que sea absolutamente indispensable. Si lo haces, documéntalo muy bien.\n",
    "\n"
   ]
  }
 ],
 "metadata": {
  "language_info": {
   "name": "python"
  },
  "orig_nbformat": 4
 },
 "nbformat": 4,
 "nbformat_minor": 2
}
