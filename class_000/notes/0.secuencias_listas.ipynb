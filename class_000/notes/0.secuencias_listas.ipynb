{
 "cells": [
  {
   "cell_type": "markdown",
   "metadata": {},
   "source": [
    "# Secuencias\n",
    "\n",
    "La secuencia es la estructura de datos más sencilla que existe. \n",
    "\n",
    "> Una estructura de datos es una forma de organizarlos para que un algoritmo complejo se convierta en trivial\n",
    "\n",
    "Ponemos los datos uno detrás del otro y con eso hacemos que el *visitar* a cada uno de ellos, sin olvidarse de ninguno y en un cierto orden, sea algo trivial.\n",
    "\n",
    "Por eso en el supermercado, piden que forme suna fila para pagar: así es trivial atender a todos los clientes, en un cierto orden (el que haya lelgado primero en este caso) y sin olvidarse de ninguno.\n",
    "\n",
    "Por eso no solemos tener los libros así:\n",
    "\n",
    "![](http://germantownlibrarywi.org/wp-content/uploads/2017/09/Messy-book-fun-Isabelle_1-768x512.jpg)\n",
    "\n",
    "sino en filas, uno detrás del otro. ¿Donde será más fácil encontrar uno?\n",
    "\n",
    "![](https://i.pinimg.com/originals/a4/af/0a/a4af0a9d73ddd092e766e46fe654d0e0.jpg)\n",
    "\n"
   ]
  },
  {
   "cell_type": "markdown",
   "metadata": {},
   "source": [
    "## Secuencias en Python\n",
    "\n",
    "Una *secuencia* es cualquier estructura de datos que nos permite tenerlos uno detrás de otro.La más sencilla es la **lista** (hay otras).\n",
    "\n",
    "* Las secuencias tienen una longitud (`len`)\n",
    "* Las secuencias se pueden recorrer\n",
    "* En la secuencias se puede buscar un elemento"
   ]
  },
  {
   "cell_type": "markdown",
   "metadata": {},
   "source": [
    "\n",
    "### Listas\n",
    "\n",
    "Las listas son un tipo de Secuencia.\n",
    "\n",
    "Las listas en Python se representan como una secuencia de datos separados por comas y entre corchetes:\n",
    "\n",
    "* `[1, 8, 93]`\n",
    "* `[True]`\n",
    "* `[[5,6], [\"hola\", \"mundo\"]]`\n",
    "* `[]`\n",
    "* `[True, 45, 'hola']`\n",
    "\n",
    "Las listas pueden ser de cualquier cosa, incluso otras listas o estar vacías.\n",
    "\n",
    "Cada lista es un valor de Python: se evalúan a sí mismos.\n",
    "\n"
   ]
  },
  {
   "cell_type": "markdown",
   "metadata": {},
   "source": [
    "#### El tipo lista\n",
    "\n",
    "Las listas son un tipo de Python:\n",
    "\n",
    "* Tienen infinitas instancias\n",
    "* Tienen operaciones en común: \n",
    "  * tienen longitud (`len`)\n",
    "  * se pueden recorrer\n",
    "  * se pueden buscar\n",
    "  * se puede seleccionar un elemento\n",
    "  \n",
    "\n",
    "Prueba a evaluar esto:\n",
    "\n",
    "```python\n",
    "type([3, \"hol\"])\n",
    "```\n"
   ]
  },
  {
   "cell_type": "markdown",
   "metadata": {},
   "source": [
    "\n",
    "### Ejercício\n",
    "\n",
    "* ¿Las cadenas son listas?\n",
    "* ¿Las cadenas son secuencias?\n",
    "\n",
    "Evalúa lo siguiente:\n",
    "\n",
    "* `l1 = [[5,6], [\"hola\", \"mundo\"]]`\n",
    "* `type(l1)`\n",
    "* `len(l1)`\n",
    "* `len([])`"
   ]
  },
  {
   "cell_type": "markdown",
   "metadata": {},
   "source": [
    "### Operaciones básicas sobre una secuencia\n",
    "\n",
    "Habíamos dicho que eran 4:\n",
    "\n",
    "* obtener su longitud\n",
    "* obtener un elemento\n",
    "* buscar en ellas\n",
    "* recorrerlas\n",
    "\n"
   ]
  },
  {
   "cell_type": "markdown",
   "metadata": {},
   "source": [
    "\n",
    "#### Longitud\n",
    "\n",
    "Se obtiene con la función `len` de Python"
   ]
  },
  {
   "cell_type": "code",
   "execution_count": null,
   "metadata": {},
   "outputs": [],
   "source": [
    "l0 = len([[], [45, [56]]])\n",
    "l1 = len(\"hola mundo\")"
   ]
  },
  {
   "cell_type": "markdown",
   "metadata": {},
   "source": [
    "#### Obtener un elemento\n",
    "\n",
    "Se usa el operador `[]`, sabiendo que los **índices empiezan en 0** y llegan hasta su **longitud - 1**.\n",
    "\n",
    "\n",
    "La cadena \"hola\" tiene longitud 4, su primer índice es el 0 y el último es el **3**.\n",
    "\n",
    "|h|o|l|a|\n",
    "|-|-|-|-|\n",
    "|0|1|2|3|\n",
    "\n",
    "Si intentas acceder más allá del último índices, te da un error.\n"
   ]
  },
  {
   "cell_type": "code",
   "execution_count": null,
   "metadata": {},
   "outputs": [],
   "source": [
    "\"hola\"[0]\n"
   ]
  },
  {
   "cell_type": "markdown",
   "metadata": {},
   "source": [
    "#### Buscar en una secuencia\n",
    "\n",
    "Para buscar en una secuencia, se utiliza el operador `in` que nos devuelve un booleano.\n",
    "\n",
    "```python\n",
    "vowels = [\"a\", \"e\", \"i\", \"o\", \"u\"]\n",
    "\"a\" in vowels\n",
    "\"w\" in vowels\n",
    "```\n"
   ]
  },
  {
   "cell_type": "markdown",
   "metadata": {},
   "source": [
    "#### Recorrer una secuencia\n",
    "\n",
    "Es muy común tener que recorrer una secuencia, pasando por todos los elementos. Hay varias formas de hacerlo y lo veremos más adelante. "
   ]
  }
 ],
 "metadata": {
  "kernelspec": {
   "display_name": "Python 3 (ipykernel)",
   "language": "python",
   "name": "python3"
  },
  "language_info": {
   "codemirror_mode": {
    "name": "ipython",
    "version": 3
   },
   "file_extension": ".py",
   "mimetype": "text/x-python",
   "name": "python",
   "nbconvert_exporter": "python",
   "pygments_lexer": "ipython3",
   "version": "3.11.3"
  }
 },
 "nbformat": 4,
 "nbformat_minor": 2
}
