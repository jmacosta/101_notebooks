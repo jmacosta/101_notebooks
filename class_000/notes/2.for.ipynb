{
 "cells": [
  {
   "cell_type": "markdown",
   "metadata": {},
   "source": [
    "# Los bucles `for`\n",
    "\n",
    "Los bucles `for` sobre una secuencia, son una de la sformas más sencillas de iterar en Python. Recordemos la información que tenemos que proporcionar para poder iterar:\n",
    "\n",
    "1. Donde empiezo\n",
    "2. Donde termino\n",
    "3. Como paso de un caso a otro\n",
    "4. Qué hago en cada paso\n",
    "\n",
    "Con el bucle for sobre una secuencia, practicamente sólo te tienes que ocupar de (4).\n",
    "\n",
    "### Sintaxis\n",
    "\n",
    "```\n",
    "for <var> in <secuence>:\n",
    "    # ámbito local donde es válida la asignación <var>\n",
    "    # en esa variable tienes el elmento de turno\n",
    "    # haz lo que corresponda en él\n",
    "```\n",
    "\n",
    "Veamos un ejemplo concreto:\n",
    "\n",
    "Vamos a imprimir en pantalla (mediante la función `print` de Python) cada uno de los elementos de una lista:\n",
    "\n",
    "\n"
   ]
  },
  {
   "cell_type": "code",
   "execution_count": null,
   "metadata": {},
   "outputs": [],
   "source": [
    "for element in [\"Hola\", \"Mundo\", \"Cruel\"]:\n",
    "    print(element)\n",
    "    "
   ]
  },
  {
   "cell_type": "markdown",
   "metadata": {},
   "source": [
    "#### Salida de un bucle\n",
    "\n",
    "Puedes salir de un for *antes de haber recorrido toda la secuencia*. Para eso se usa la palabra clave `break`\n"
   ]
  },
  {
   "cell_type": "code",
   "execution_count": 1,
   "metadata": {},
   "outputs": [
    {
     "name": "stdout",
     "output_type": "stream",
     "text": [
      "Hola\n",
      "Mundo\n"
     ]
    }
   ],
   "source": [
    "for element in [\"Hola\", \"Mundo\", \"Cruel\"]:\n",
    "    print(element)\n",
    "    if (element == \"Mundo\"):\n",
    "        break"
   ]
  }
 ],
 "metadata": {
  "kernelspec": {
   "display_name": "Python 3 (ipykernel)",
   "language": "python",
   "name": "python3"
  },
  "language_info": {
   "codemirror_mode": {
    "name": "ipython",
    "version": 3
   },
   "file_extension": ".py",
   "mimetype": "text/x-python",
   "name": "python",
   "nbconvert_exporter": "python",
   "pygments_lexer": "ipython3",
   "version": "3.11.3"
  }
 },
 "nbformat": 4,
 "nbformat_minor": 2
}
