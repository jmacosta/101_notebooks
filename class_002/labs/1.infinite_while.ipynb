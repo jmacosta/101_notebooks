{
 "cells": [
  {
   "attachments": {},
   "cell_type": "markdown",
   "metadata": {},
   "source": [
    "# Que te folle un pez\n",
    "\n",
    "------------------\n",
    "\n",
    "![](https://4.bp.blogspot.com/-0QBq2I7gK58/UeuMfr0FA0I/AAAAAAAATNo/s7wK0kaOFRo/s1600/shortraker+rockfish+Sebastes+borealis+alaska+canada+world+record+biggest+fish++world+ever+caught+big+huge+fishes+records+largest+monster+fishing+giant+size+images+pictures+IGFA+lb+pound+ocean+sea+saltwater.png)\n",
    "\n",
    "Pues eso"
   ]
  },
  {
   "attachments": {},
   "cell_type": "markdown",
   "metadata": {},
   "source": [
    "### Érase una vez un pez. ¿Quieres que te lo cuente otra vez?\n",
    "\n",
    "Cuando era niño, los adultos tenían la curiosa afición de atormentar a los niños con juegos idiotas como el siguiente:\n",
    "\n",
    "1. Le dices al niño: *Érase una vez un pez. ¿Quieres que te lo cuente otra vez?*\n",
    "2. Si el niño contesta *no*, le dices: *No te he dicho que no. He dicho: érase una vez un pez. ¿Quieres que te lo cuente otra vez?*\n",
    "3. El bucle persiste hasta que el niño contesta: *Erase una vez un pez*\n",
    "\n",
    "Usando esa descripción, la plantilla de bucle potencialmente infinito y la función `input` crea la función `pez()` que atormenta al usuario hasta que contesta \"Erase una vez un pez\"."
   ]
  },
  {
   "attachments": {},
   "cell_type": "markdown",
   "metadata": {},
   "source": [
    "### (1)\n",
    "\n",
    "Nuestra función tiene un fallo que puede llevar a la locura al usuario. Cuando comparas dos cadenas, la comparación depende de la caja. Es decir, \"Erase una vez un pez\" es distinto de \"ERASE UNA VEZ uN pEZ\". Si el usuario se equivoca en un detalle mínimo,no podrá salir del bucle.\n",
    "\n",
    "Eso es pasarse, así que antes de comparar nuestro patrón con lo que el usuario haya pasado, **normalizaremos** ambas cadenas.\n",
    "\n",
    "#### Normalización\n",
    "\n",
    "La normalización de datos es un proceso que se utiliza para cambiar los valores en un conjunto de datos a una escala común, sin distorsionar las diferencias en los rangos de valores o perder información.\n",
    "\n",
    "En el caso de las cadenas de texto, normalizar implica a menudo convertirlas a un formato estándar. Por ejemplo, podrías querer convertir todas las letras a minúsculas, eliminar espacios en blanco adicionales, eliminar puntuación, convertir acentos a caracteres ASCII estándar, etc.\n",
    "\n",
    "Aquí tienes un ejemplo de normalización de texto en Python:"
   ]
  },
  {
   "cell_type": "code",
   "execution_count": null,
   "metadata": {},
   "outputs": [],
   "source": [
    "def normalize_text(text):\n",
    "    text = text.lower()  # convertir a minúsculas\n",
    "    text = text.strip()  # eliminar espacios en blanco al inicio y al final\n",
    "    return text\n",
    "\n",
    "s = \"  Hola Mundo!  \"\n",
    "s = normalize_text(s)\n",
    "print(s)  # imprime: \"hola mundo!\""
   ]
  },
  {
   "attachments": {},
   "cell_type": "markdown",
   "metadata": {},
   "source": [
    "Usa `normalize_text` para asegurarte que una diferencia de espacios al principio y al final, o mayúsculas y minúsculas no afecten a la comparación."
   ]
  },
  {
   "attachments": {},
   "cell_type": "markdown",
   "metadata": {},
   "source": [
    "#### (2)\n",
    "\n",
    "Si el usuario acentúa la e de Érase y tú no, tal vez no salga del bucle. Amplía la normalización para que elimine caracteres acentuados, siguiendo el ejemplo más abajo:\n",
    "\n",
    "\n",
    "Puedes eliminar acentos de caracteres en una cadena sin ninguna biblioteca externa utilizando el módulo incorporado unicodedata. Aquí tienes un ejemplo:"
   ]
  },
  {
   "cell_type": "code",
   "execution_count": null,
   "metadata": {},
   "outputs": [],
   "source": [
    "import unicodedata\n",
    "\n",
    "def eliminar_acentos(cadena):\n",
    "    forma_nfkd = unicodedata.normalize('NFKD', cadena)\n",
    "    solo_ascii = forma_nfkd.encode('ASCII', 'ignore')\n",
    "    return solo_ascii.decode()\n",
    "\n",
    "s = \"Mëtàl Hëàd\"\n",
    "s = eliminar_acentos(s)\n",
    "print(s)  # imprime: \"Metal Head\""
   ]
  },
  {
   "attachments": {},
   "cell_type": "markdown",
   "metadata": {},
   "source": [
    "En este código:\n",
    "\n",
    "* La función `normalize` convierte la cadena a la forma 'NFKD', que es una forma que separa los caracteres en sus caracteres base y sus acentos.\n",
    "* La función `encode` luego codifica la cadena en formato ASCII, ignorando cualquier carácter que no pueda ser representado en ASCII (lo cual incluye los acentos).\n",
    "* La función `decode` se utiliza para convertir el objeto de bytes de vuelta a una cadena."
   ]
  },
  {
   "attachments": {},
   "cell_type": "markdown",
   "metadata": {},
   "source": [
    "#### (3)\n",
    "\n",
    "Modifica la función `pez` para que reciba un parámetro que sea el texto que tiene que escribir el usuario para que el bucle pare. Por defecto será `érase una vez un pez`. ¡No olvides normalizar dicha cadena!"
   ]
  },
  {
   "attachments": {},
   "cell_type": "markdown",
   "metadata": {},
   "source": [
    "#### (4)\n",
    "\n",
    "Otro *juego* irritante parecido es *El cuento de la buena pipa*:\n",
    "\n",
    "– ¿Quieres que te cuente el cuento de la buena pipa?\n",
    "– Siiiiiiii – contesta el niño alegremente\n",
    "– No, no te he dicho «siiiiii», te he dicho «¿Quieres que te cuente el cuento de la buena pipa?»\n",
    "– Mmmm, pues no – contesta el niño mirando al cuentista con desconfianza\n",
    "– No, no te he dicho «Mmmm, pues no», te he dicho «¿Quieres que te cuente el cuento de la buena pipa?\n",
    "– Grrrrrrrrrrrrrr – niño se da por vencido\n",
    "– No, no te he dicho «Grrrrrrrrrrrrr» …\n",
    "\n",
    "Vamos a crear la función `pipa` que implementa esa forma de tortura infantil. No pararemos hasta que el usuario conteste: ¿Quieres que te cuente el cuento de la buena pipa?\n",
    "\n",
    "Como en este caso aparece puntuación, vamos a ampliar la función de *normalización* para que además de quitar espacios en blanco, y pasar a minúsculas y eliminar caracteres acentuados, que también elimine los signos de puntuación.\n",
    "\n",
    "Primero, implementa la función `remove_punctuation`.\n",
    "\n"
   ]
  },
  {
   "attachments": {},
   "cell_type": "markdown",
   "metadata": {},
   "source": [
    "##### (4.1)\n",
    "\n",
    "Rellena lo que falta en la función `remove_puntuation` y úsala en tu función de normalización:\n",
    "\n",
    "```python\n",
    "def remove_puntuation(string):\n",
    "    index = 0\n",
    "    clean = ???\n",
    "    while index < len(string):\n",
    "        current = string[index]\n",
    "        if current not in \".;,:¡¿?!\":\n",
    "            clean = clean + ???\n",
    "    return ???\n",
    "```\n"
   ]
  },
  {
   "attachments": {},
   "cell_type": "markdown",
   "metadata": {},
   "source": [
    "##### (4.2)\n",
    "\n",
    "Una vez tengas lista tu función de normalización, que también llama a `remove_puntuation` y has comprobado que funciona, implementa la función `pipa`.\n",
    "\n"
   ]
  },
  {
   "attachments": {},
   "cell_type": "markdown",
   "metadata": {},
   "source": [
    "##### (5)\n",
    "\n",
    "Compara las funciones `pipa` y `pez`. Se parecen demasiado. Lo único que las distingue es:\n",
    "\n",
    "* Lo que le preguntamos al usuario la primera vez. Llamémoslo *prompt*. Por ejemplo: *Érase una vez un pez. ¿Quieres que te lo cuente otra vez?*\n",
    "* La respuesta que esperamos del usuario. Por ejemplo: *Érase una vez un pez*\n",
    "* La repsuesta que le damos al usuario cuando no acierta. Está compuesta de dos partes que se combinan. \n",
    "  * El prefijo.Por ejemplo: *No te he dicho*\n",
    "  * El sufijo. Por ejemplo: *Te he dicho: Érase una vez un pez. ¿Quieres que te lo cuente otra vez?*\n",
    "\n",
    "Crea la función `tormento(prompt, aswer, prefix, suffix)` que sirve para atormentar al usuario con un bucle casi sin fin, pero personalizando sus texto. Por ejemplo, el equivalente a la función `pez`, sería:\n",
    "\n",
    "`tormento(\"Érase una vez un pez. ¿Quieres que te lo cuente otra vez?\", \"No te he dicho\", \"Te he dicho: Érase una vez un pez. ¿Quieres que te lo cuente otra vez?\")`\n",
    "\n",
    "No olvides normalizar la respuesta del usuario."
   ]
  },
  {
   "attachments": {},
   "cell_type": "markdown",
   "metadata": {},
   "source": [
    "##### (6)\n",
    "\n",
    "Reescribe `pez` y `pipa` para que sean sólo una llamada a `tormento`."
   ]
  },
  {
   "attachments": {},
   "cell_type": "markdown",
   "metadata": {},
   "source": [
    "##### (7)\n",
    "\n",
    "Antes de irte, haz el siguiente experimento.\n",
    "\n",
    "1. Abre el terminal\n",
    "2. Lanza el intérprete de Python (`python` o `ipython`, cualquiera de los dos vale)\n",
    "   \n",
    "Ocurre lo siguiente:\n",
    "\n",
    "1. Python muestra un texto para indicar que espera que escribas algo. Por ejemplo `>>>`. A ese texto, se le llama el *prompt*.\n",
    "2. Si escribes algo de código, python lleva a cabo las siguientes tareas:\n",
    "   1. Lo evalua\n",
    "   2. Imprime el resultado, tanto si tu código era correcto como si había un error\n",
    "3. Vuelve a mostrar el *prompt* y se queda a la espera.\n",
    "4. Seguirá haciendo eso eternamente hasta que escribas `quit()`\n",
    "\n",
    "¿Te resulta familiar?\n",
    "\n",
    "Sin darte cuenta, has creado un *REPL* (Read Eval Print Loop), que es un tipo de *Bucle de Eventos* (Event Loop, que se dice en Latín).\n",
    "\n",
    "En la próxima lección, veremos qué es eso y cual es su importancia. Mucho más de lo que crees, te adelanto."
   ]
  }
 ],
 "metadata": {
  "language_info": {
   "name": "python"
  },
  "orig_nbformat": 4
 },
 "nbformat": 4,
 "nbformat_minor": 2
}
