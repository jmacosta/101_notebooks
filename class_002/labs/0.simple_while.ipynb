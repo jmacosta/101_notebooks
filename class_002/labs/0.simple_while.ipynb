{
 "cells": [
  {
   "attachments": {},
   "cell_type": "markdown",
   "metadata": {},
   "source": [
    "# Bucles While sencillos\n",
    "\n",
    "--------------------"
   ]
  },
  {
   "attachments": {},
   "cell_type": "markdown",
   "metadata": {},
   "source": [
    "## (0)\n",
    "\n",
    "1. ¿Qué hace la siguiente función?\n",
    "2. Rellena la información que falta para que funcione\n",
    "3. Identifica los 4 componentes de la iteración\n",
    "\n",
    "```python\n",
    "def mistery(elements):\n",
    "    sum = 0\n",
    "    i = 0\n",
    "    while i < len(???):\n",
    "        sum = sum + elements[???]\n",
    "        i = i + 1\n",
    "    return ???\n",
    "\n",
    "```"
   ]
  },
  {
   "attachments": {},
   "cell_type": "markdown",
   "metadata": {},
   "source": [
    "## (1)\n",
    "\n",
    "Crea la función `sum_even` que recibe una lista de números y devuelve la suma de los números pares.\n",
    "\n",
    "Recuerda los 4 elementos de la iteración."
   ]
  },
  {
   "attachments": {},
   "cell_type": "markdown",
   "metadata": {},
   "source": [
    "## (2)\n",
    "\n",
    "Crea la función `concat_vowels` que recibe una lista de cadenas y devuelve la concatenación de todas aquellas cadenas que empiezan por una vocal.\n",
    "\n",
    "Pist: DIVIDE & VENCERÁS. Resuelve primero el problema del predicado que indica si una cadena empieza por una vocal."
   ]
  },
  {
   "attachments": {},
   "cell_type": "markdown",
   "metadata": {},
   "source": [
    "## (3)\n",
    "\n",
    "Crea la función `less_than(numbers, n)` que recibe una lista de números y un número n. Devuelve la lista de aquellos números que son menores o iguales a n.\n",
    "\n",
    "1. ¿Qué tipo de función es (compresor, selector o transformador)?\n",
    "1. ¿Qué debería de devolver cuando recibe una lista vacía?\n",
    "2. Si te ayuda, impleméntala primero con `for` e identifica claramente los 4 elementos de la iteración."
   ]
  },
  {
   "attachments": {},
   "cell_type": "markdown",
   "metadata": {},
   "source": [
    "## (4)\n",
    "\n",
    "Crea la función `add(numbers, n)` que recibe una lista de números y devuelve una nueva lista con los elementos originales + n.\n",
    "\n",
    "Por ejemplo:\n",
    "\n",
    "`add([1,2,3,4,5], 2) --> [3, 4, 5,7]`"
   ]
  },
  {
   "attachments": {},
   "cell_type": "markdown",
   "metadata": {},
   "source": [
    "## (5)\n",
    "\n",
    "Crea la función `make_list(start, end, step)` que recibe 3 números y devuelve una lista que se genera de la siguiente manera:\n",
    "\n",
    "1. Se empieza en `start`\n",
    "2. Cada elemento es el anterior + `step`\n",
    "3. Se para cuando se alcanza `end`\n",
    "4. Si `end` es 0 o negativo, se devuelve la lista vacía\n",
    "5. Si `end` es menor que `start`, se devuelve la lista vacía\n",
    "\n",
    "Por ejemplo: \n",
    "\n",
    "`make_list[1, 10, 2] --> [1, 3, 5, 7, 9]`\n",
    "\n",
    "`make_list[1, 10, 0] --> []`\n",
    "\n",
    "`make_list[10, 10, 2] --> [10]`\n",
    "\n",
    "`make_list[10, 4, 3] --> []`\n",
    "\n",
    "**Pistas:**\n",
    "\n",
    "1. Identifica los 4 elementos de la iteración\n",
    "2. Valida primero los parámetros y si son erroneos (casos 4 y 5) devuelve la lista vacía.\n",
    "3. Declara tus variable snada más empezar y un sólo return al final de la función."
   ]
  },
  {
   "attachments": {},
   "cell_type": "markdown",
   "metadata": {},
   "source": [
    "## (6)\n",
    "\n",
    "1. ¿Qué hace esta función?\n",
    "2. Tiene un error en uno de los 4 elementos de la iteración. ¿Cual es? Corrígelo\n",
    "3. ¿Qué tipo de función es?\n",
    "   \n",
    "\n"
   ]
  },
  {
   "cell_type": "code",
   "execution_count": 1,
   "metadata": {},
   "outputs": [],
   "source": [
    "def mistery(strings):\n",
    "    index = 0     \n",
    "    found = False \n",
    "\n",
    "    while not found:\n",
    "        current = strings[index]\n",
    "        if current[0] == 'a':\n",
    "            found = True\n",
    "        index = index + 1\n",
    "    \n",
    "    return found"
   ]
  },
  {
   "attachments": {},
   "cell_type": "markdown",
   "metadata": {},
   "source": [
    "Pistas:\n",
    "\n",
    "1. Prueba con `mistery(['bbb', 'uyt', 'abadá'])`\n",
    "2. Prueba con `mistery(['qwerty', 'lkut', 'camugerê'])`\n",
    "3. Siempre que compruebes un *predicado* recuerda probar los casos posibles (True y False)"
   ]
  },
  {
   "attachments": {},
   "cell_type": "markdown",
   "metadata": {},
   "source": [
    "## (7)\n",
    "\n",
    "1. ¿Qué hace esta función?\n",
    "2. Rellena lo que falta\n",
    "\n",
    "```python\n",
    "def foo(haystack, needle):\n",
    "    index = ???\n",
    "    found = ???\n",
    "    while (not found or index < len(haystack):\n",
    "        found = (haystack[index] == needle)\n",
    "         index = index + 1\n",
    "    return ???\n",
    "```\n",
    "\n"
   ]
  },
  {
   "attachments": {},
   "cell_type": "markdown",
   "metadata": {},
   "source": [
    "## (8)\n",
    "\n",
    "La siguiente función es un predicado que devuelve `True`si dentro de la lista `haystack` (pajar) encuentra al menos un elemento igual a `needle` (aguja).\n"
   ]
  },
  {
   "cell_type": "code",
   "execution_count": 4,
   "metadata": {},
   "outputs": [],
   "source": [
    "def find_one(haystack, needle):\n",
    "    index = 0\n",
    "    found = False\n",
    "    while index < len(haystack):\n",
    "        if haystack[index] == needle:\n",
    "            found = True\n",
    "            break\n",
    "        index = index + 1\n",
    "    return found\n"
   ]
  },
  {
   "attachments": {},
   "cell_type": "markdown",
   "metadata": {},
   "source": [
    "1. ¿Hace lo mismo que la función `foo`?\n",
    "2. ¿En qué se distingue la implementación de una y otra?\n",
    "3. ¿Cual prefieres?"
   ]
  },
  {
   "attachments": {},
   "cell_type": "markdown",
   "metadata": {},
   "source": [
    "## (9)\n",
    "\n",
    "La siguiente función, que recibe una lista y devuelve `True` si alguno de sus elementos es cadena, contiene 2 errores. Identifícalos y corrígelos.\n"
   ]
  },
  {
   "cell_type": "code",
   "execution_count": null,
   "metadata": {},
   "outputs": [],
   "source": [
    "def has_string(elements):\n",
    "    found = False\n",
    "    while not found and index < len(elements):\n",
    "        if type(elements[index]) == str:\n",
    "            found = True\n",
    "        \n",
    "        index = index + 1\n",
    "    return found\n",
    "            "
   ]
  },
  {
   "attachments": {},
   "cell_type": "markdown",
   "metadata": {},
   "source": [
    "## 10\n",
    "\n",
    "Crea la función `has_list` que recibe una lista y devuelve `True` sólo si alguno de sus elementos es también una lista "
   ]
  },
  {
   "attachments": {},
   "cell_type": "markdown",
   "metadata": {},
   "source": [
    "## 11\n",
    "\n",
    "La función `reverse(elements)` recibe una lista y devuevle una nueva lista invertida.\n",
    "\n",
    "* `reverse([1,2,3]) --> [3,2,1]`\n",
    "* `reverse([]) --> []`\n",
    "\n",
    "1. Identifica los 4 elementos de la iteración\n",
    "2. Rellena lo que falta\n",
    "3. ¿Qué tipo de función es?\n",
    "4. ¿Es parcial o total?\n",
    "5. ¿Es reversible?\n",
    "\n",
    "\n",
    "```Python\n",
    "def reverse(elements):\n",
    "    index = len(elements) ?? 1\n",
    "    reversed = []\n",
    "    while index ?? 0:\n",
    "        reversed.append(elements[index])\n",
    "        index = index ?? 1\n",
    "    return reversed\n",
    "```\n",
    "\n"
   ]
  },
  {
   "attachments": {},
   "cell_type": "markdown",
   "metadata": {},
   "source": [
    "## 12\n",
    "\n",
    "Crea la función `reverse_str` que recibe una cadena y devuelve otra invertida. \n",
    "\n",
    "1. ¿En qué se parece a la función `reverse`?\n",
    "2. ¿En qué se distinguen?\n",
    "3. ¿Qué tipo de función es?"
   ]
  },
  {
   "attachments": {},
   "cell_type": "markdown",
   "metadata": {},
   "source": [
    "## 12.1\n",
    "\n",
    "Crea el predicado `is_palindrome` que recibe una cadena y devuelve `True` si es un palíndromo (se lee igual en un sentido que en otro).\n",
    "\n",
    "* `is_palindrome(\"hola\") --> False`\n",
    "* `is_palindrome(\"\") --> True`\n",
    "* `is_palindrome(\"abba\") --> True`\n",
    "\n",
    "Pista: Mira a ver si puedes reaprovehcar alguna función que ya tengas"
   ]
  },
  {
   "attachments": {},
   "cell_type": "markdown",
   "metadata": {},
   "source": [
    "## 12.2\n",
    "\n",
    "Crea la función `capicua(n)` que recibe un **numero** y devuelve `True` si es capicúa.\n",
    "\n",
    "Pista: Aplica Transforma y Vencerás. Ya sabes cómo determinar si una cadena es palíndroma. ¿No habrá alguna forma sencilla de convertir un número en una cadena y aplicar la función que ya tenemos?"
   ]
  },
  {
   "attachments": {},
   "cell_type": "markdown",
   "metadata": {},
   "source": [
    "## 13\n",
    "\n",
    "Tienes que crear una función llamada `find_streak(haystack, needle, streak)` que encuentra una *racha* (streak) de cierto elemento (needle o aguja) en una lista (el pajar o haystack):\n",
    "\n",
    "* `find_streak([1,2,3,2,2, 2], 2, 3)` : ¿hay tres 2 seguidos? `True`\n",
    "* `find_streak([1,2,3,1,2, 3], 3, 2)` : ¿Hay dos 3 seguidos? `False`\n",
    "* `find_streak([], \"a\", 8)` : ¿Hay 8 `a` seguidas? `False`\n",
    "\n",
    "¿Cómo lo haces?\n",
    "\n",
    "**Pistas**\n",
    "\n",
    "NO lo haces, porque es demasiado complicado. Yo tampoco tengo ni idea, pero tengo a mano los *Pilares de la Ciberkinesis*. El primero dice **DIVIDE & VENCERÁS** y lo vamos a aplicar.\n",
    "\n",
    "Si encontrar a n instancias seguidas de la aguja en el pajar es *demasié pal body*, ¿cual sería una versión simplificada del problema, que podamos aplicar antes?\n",
    "\n",
    "**Encontrar n instancias de la aguja EN CUALQUIER POSICIÓN del pajar.**\n",
    "\n",
    "Aun me parece mucha cosa, así reducimos aun más el problema, hasta llegar a algo que resulte factible. Por ejemplo,\n",
    "\n",
    "**Encontrar UNA instancia de la aguja en el pajar**\n",
    "\n",
    "Esto ya me parece más llevadero, de hecho ¡es la función `find_one` que hemos visto más arriba!\n"
   ]
  },
  {
   "attachments": {},
   "cell_type": "markdown",
   "metadata": {},
   "source": []
  },
  {
   "attachments": {},
   "cell_type": "markdown",
   "metadata": {},
   "source": [
    "#### Plan de acción\n",
    "\n",
    "1. Resolver `find_one`\n",
    "2. Resolver `find_n`\n",
    "3. Resolver `find_streak`\n",
    "\n",
    "\n",
    "\n"
   ]
  },
  {
   "attachments": {},
   "cell_type": "markdown",
   "metadata": {},
   "source": [
    "#### 13.1\n",
    "\n",
    "Implementa tú la función `find_one`, usando un `while`, a tu manera y asegúrate de entenderla.\n",
    "\n"
   ]
  },
  {
   "attachments": {},
   "cell_type": "markdown",
   "metadata": {},
   "source": [
    "#### 13.2\n",
    "\n",
    "Ahora vamos a por `find_n(haystack, needle, n)`. Debes de encontrar `n` instancias de `needle` dentro de `haystack`, en la posición que sea.\n",
    "\n",
    "**Pistas**\n",
    "\n",
    "Además de un booleano para saber si has encontrado o no la aguja, vas a necesitar un contador para saber *cuantas* agujas has encontrado.\n"
   ]
  },
  {
   "attachments": {},
   "cell_type": "markdown",
   "metadata": {},
   "source": [
    "#### 13.3\n",
    "\n",
    "Compara `find_n(haystack, needle, n)` con `find_one(haystack, needle)`. \n",
    "\n",
    "1. ¿En qué se parecen?\n",
    "2. ¿Podrías re-escribir `find_one` en función de `find_n`? **DRY**: Do Not Repeat Yourself\n",
    "3. Hazlo\n",
    "\n"
   ]
  },
  {
   "attachments": {},
   "cell_type": "markdown",
   "metadata": {},
   "source": [
    "#### 13.4\n",
    "\n",
    "Ahora ya podemos dar el salto final y meterle mano al problema inicial: encontrar n instancias *seguidas* de la aguja dentro del pajar.\n",
    "\n",
    "**Pistas**\n",
    "\n",
    "1. La única diferencia entre `find_n` y `find_streak` es que en la segunda, hay una condición más: que estén seguidas.\n",
    "2. Necesitarás una nueva variable, en este caso un booleano para indicar si estás o no en racha (las agujas están seguidas).\n",
    "3. Cuando te encuentres con un elemento del pajar,\n",
    "   1. Si es igual a la aguja, activas el booleano de racha e incrementas el contador de instancias\n",
    "   2. Si el contador pasa a ser igual o mayor que `n` has terminado\n",
    "   3. Si no es igual a la aguja, desactiva el booleano de racha y pon a cero el contador"
   ]
  }
 ],
 "metadata": {
  "kernelspec": {
   "display_name": "Python 3",
   "language": "python",
   "name": "python3"
  },
  "language_info": {
   "codemirror_mode": {
    "name": "ipython",
    "version": 3
   },
   "file_extension": ".py",
   "mimetype": "text/x-python",
   "name": "python",
   "nbconvert_exporter": "python",
   "pygments_lexer": "ipython3",
   "version": "3.11.3"
  },
  "orig_nbformat": 4
 },
 "nbformat": 4,
 "nbformat_minor": 2
}
