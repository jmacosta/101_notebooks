{
 "cells": [
  {
   "attachments": {},
   "cell_type": "markdown",
   "metadata": {},
   "source": [
    "# Bucles Infinitos con While\n",
    "\n",
    "------------------\n",
    "\n",
    "![](stairs.jpg)\n",
    "\n"
   ]
  },
  {
   "attachments": {},
   "cell_type": "markdown",
   "metadata": {},
   "source": [
    "### Condición de interrupción externa\n",
    "\n",
    "Hemos visto que el bucle `while` es otra forma de implementar una iteración. Algo más laboriosa que un `for` para los casos más comunes, así que prodríamos pensar ¿para qué hace falta?\n",
    "\n",
    "Hay casos en los que es mucho más sencillo un `while` que un `for` y es algo más común de lo que puedas pensar: cuando la condición de finalización *viene de fuera de nuestro programa*.\n",
    "\n",
    "Por ejemplo, cuando es el usario quien nos dice cuando parar."
   ]
  },
  {
   "attachments": {},
   "cell_type": "markdown",
   "metadata": {},
   "source": [
    "#### La función `input`\n",
    "\n",
    "Se trata de una función de Python que te permite imprimir un texto en pantalla e capturar un texto escrito por el usuario. Veamos un ejemplo:"
   ]
  },
  {
   "cell_type": "code",
   "execution_count": 1,
   "metadata": {},
   "outputs": [],
   "source": [
    "name = input(\"¿Cómo te llamas?:\")"
   ]
  },
  {
   "attachments": {},
   "cell_type": "markdown",
   "metadata": {},
   "source": [
    "Después de escribir algo y darle a la tecla *intro*, lo que hayas escrito estará en la variable `name`."
   ]
  },
  {
   "attachments": {},
   "cell_type": "markdown",
   "metadata": {},
   "source": [
    "### Bucles infinitos\n",
    "\n",
    "Una forma común de crear un bucle potencialmente infinito es la siguiente:\n",
    "\n",
    "```Python\n",
    "while True: # esto siempre será cierto, \n",
    "            # así que como no haya un break en \n",
    "            # algún lado, vas dado\n",
    "    if <expresion booleana>: # si es True, hacemos \n",
    "                             # un break, sino, seguimos\n",
    "        break\n",
    "\n",
    "```"
   ]
  },
  {
   "attachments": {},
   "cell_type": "markdown",
   "metadata": {},
   "source": [
    "al lab"
   ]
  }
 ],
 "metadata": {
  "kernelspec": {
   "display_name": "Python 3",
   "language": "python",
   "name": "python3"
  },
  "language_info": {
   "codemirror_mode": {
    "name": "ipython",
    "version": 3
   },
   "file_extension": ".py",
   "mimetype": "text/x-python",
   "name": "python",
   "nbconvert_exporter": "python",
   "pygments_lexer": "ipython3",
   "version": "3.11.3"
  },
  "orig_nbformat": 4
 },
 "nbformat": 4,
 "nbformat_minor": 2
}
