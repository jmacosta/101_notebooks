{
 "cells": [
  {
   "attachments": {},
   "cell_type": "markdown",
   "metadata": {},
   "source": [
    "# Bucles While\n",
    "\n",
    "--------------------------"
   ]
  },
  {
   "attachments": {},
   "cell_type": "markdown",
   "metadata": {},
   "source": [
    "Para poder iterar, hay 4 cosas que debemos de saber y hacer:\n",
    "\n",
    "1. Donde empezar\n",
    "2. Donde terminar\n",
    "3. Cómo pasar de un caso a otro\n",
    "4. Qué hacer en cada caso\n",
    "\n",
    "Por ejemplo, si queremos sumar los números pares del 2 al 100, tendríamos que hacer:\n",
    "\n",
    "1. Empiezo en el 2\n",
    "2. Termino cuando mi índice sea mayor que 100\n",
    "3. Salto de dos en dos (son los pares)\n",
    "4. Cada vez que me encuentro con uno, lo sumo a los anteriores\n",
    "\n",
    "\n",
    "El bucle `for` y la función `range` de Python nos ahorran los 3 primeros en la mayoría de los casos.\n",
    "\n",
    "Sin embargo, no siempre hay suerte. Hay casos  para los que un `for` no sirve, normalmente porque nos falla el segundo factor: *donde terminar*.\n",
    "\n",
    "A veces el *donde terminar* no es obvio, no es el final de una secuencia, y a veces ni siquiera viene de dentro de nuestro programa.\n",
    "\n"
   ]
  },
  {
   "attachments": {},
   "cell_type": "markdown",
   "metadata": {},
   "source": [
    "                 \n",
    "## Estructura de un bucle `while`\n",
    "\n",
    "\n",
    "```python\n",
    "while <expresión booleana>:\n",
    "    # código que se ejecuta mientras la expresión\n",
    "    # booleana sea True. \n",
    "    # Cuando deje de serlo, se sale del bucle\n",
    "```\n",
    "\n",
    "\n"
   ]
  },
  {
   "attachments": {},
   "cell_type": "markdown",
   "metadata": {},
   "source": [
    "### Ejemplo\n",
    "\n",
    "Veamos un ejemplo que sabríamos implementar en `for`.\n",
    "\n",
    "Crear una función que recibe una lista y devuelve `True` si se encuentra al menos un número par.\n"
   ]
  },
  {
   "attachments": {},
   "cell_type": "markdown",
   "metadata": {},
   "source": [
    "\n",
    "\n",
    "Versión con `for`\n",
    "\n",
    "\n"
   ]
  },
  {
   "cell_type": "code",
   "execution_count": null,
   "metadata": {},
   "outputs": [],
   "source": [
    "def find_even_number(numbers):\n",
    "    \"\"\"\n",
    "    Recibe una lista de números y devuelve `True`\n",
    "    si contiene al menos un número par.\n",
    "    \"\"\"\n",
    "    found = False\n",
    "    for number in numbers:\n",
    "        if number % 2 == 0:\n",
    "            # encontramos un par. Podemos parar\n",
    "            found = True\n",
    "            break\n",
    "    return found\n"
   ]
  },
  {
   "attachments": {},
   "cell_type": "markdown",
   "metadata": {},
   "source": [
    "Prueba esa función, comprueba que hace lo que dice e identifica los siguiente 4 elementos:\n",
    "\n",
    "1. Donde empieza\n",
    "2. Donde termina\n",
    "3. Cómo se pasa de un caso a otro\n",
    "4. Qué se hace en cada paso"
   ]
  },
  {
   "attachments": {},
   "cell_type": "markdown",
   "metadata": {},
   "source": [
    "Veamos ahora la versión `while`:\n",
    "\n"
   ]
  },
  {
   "cell_type": "code",
   "execution_count": null,
   "metadata": {},
   "outputs": [],
   "source": [
    "def find_even_number_w(numbers):\n",
    "    \"\"\"\n",
    "    Recibe una lista de números y devuelve `True`\n",
    "    si contiene al menos un número par.\n",
    "    \"\"\"\n",
    "    index = 0     # donde empiezo (1)\n",
    "    found = False # dónde termino: cunado sea True (2)\n",
    "\n",
    "    while not found:# (2) mientras no lo haya encontrado, sigo buscando\n",
    "        # compruebo si es par (lo que hago en cada paso) (4)\n",
    "        if numbers[index] % 2 == 0:\n",
    "            # Lo encontré\n",
    "            found = True\n",
    "        # Actualizo el índice (paso de un caso a otro) (3)\n",
    "        index = index + 1\n",
    "    \n",
    "    return found\n"
   ]
  },
  {
   "attachments": {},
   "cell_type": "markdown",
   "metadata": {},
   "source": [
    "Repasa el código, identifica los 4 elementos y asegúrate de que funcion atal y como dice."
   ]
  },
  {
   "attachments": {},
   "cell_type": "markdown",
   "metadata": {},
   "source": [
    "al lab de while"
   ]
  }
 ],
 "metadata": {
  "language_info": {
   "name": "python"
  },
  "orig_nbformat": 4
 },
 "nbformat": 4,
 "nbformat_minor": 2
}
