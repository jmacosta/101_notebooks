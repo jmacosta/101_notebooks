{
 "cells": [
  {
   "attachments": {},
   "cell_type": "markdown",
   "metadata": {},
   "source": [
    "# Dicts\n",
    "\n",
    "-------------------\n"
   ]
  },
  {
   "attachments": {},
   "cell_type": "markdown",
   "metadata": {},
   "source": [
    "#### (0) Contar palabras\n",
    "\n",
    "En los ejercicios de `set`s creamos una `set` con las palabras más comunes (exceptuando las *stopwords*) en los diálogos de Samuel L Jackson.\n",
    "\n",
    "Crea la función `most_common_words(text:str)->dict[str:int]` que devuelve un diccionario, donde cada una de las palabras está asociada al número de ocurrencias.\n",
    "\n",
    "> Has creado una asociación entre la palabra y sus ocurrencias en un texto.\n",
    "\n"
   ]
  },
  {
   "attachments": {},
   "cell_type": "markdown",
   "metadata": {},
   "source": [
    "#### (1) Gestor de Contactos\n",
    "\n",
    "Tienes que crear un gestor de contactos, que asocie nombre de una persona, con su número de télefono.\n",
    "\n",
    "El nombre será una cadena y el teléfono también (¿por qué no un número?).\n",
    "\n",
    "Crea las siguientes funciones:\n",
    "\n",
    "1. `make_contacts`: no recibe ningún parámetro y devuelv eun diccionario vacío, donde iremos guardando los contactos.\n",
    "2. `add_contact`: recibe un nombre, un teléfono y un dict de contactos. Si el dict no contiene ya a ese nombre, lo añade con su teléfono como valor y devuelve el dict actualizado. \n",
    "3. Si el nombre que le pasas a `add_contact` ya existe, lanza una excepción `Exception` (no se puede añadir lo que ya está).\n",
    "4. Crea la función `update_contact` que recibe nombre, teléfono y dict de contactos. Si el nombre ya existe, le actualiza el teléfono. Si no existe, lanza una `Exception` puesto que no se puede actualizar lo que no existe."
   ]
  },
  {
   "attachments": {},
   "cell_type": "markdown",
   "metadata": {},
   "source": [
    "#### (2) Gestor de Contactos\n",
    "\n",
    "Modifica el sistema, para que no se lancen excepciones:\n",
    "* si se intenta añadir y ya existe, se actualiza\n",
    "* si se intenta actualizar y no existe, se añade\n",
    "\n",
    "1. ¿Cómo modificarías tu código para que implique el menor números de cambios?\n",
    "2. ¿Cual de los dos sistemas te parece mejor?"
   ]
  },
  {
   "attachments": {},
   "cell_type": "markdown",
   "metadata": {},
   "source": [
    "#### (3) Gestor de Contactos\n",
    "\n",
    "Ahora resulta que uno de los usuarios tiene más de un teléfono. ¿Cómo lo resuelves?\n",
    "\n",
    "Recuerda que ahora cada usuario puede tener uno o más números de teléfono y estos no pueden estar repetidos.\n",
    "\n"
   ]
  },
  {
   "attachments": {},
   "cell_type": "markdown",
   "metadata": {},
   "source": [
    "#### (4) Gestor de Contactos\n",
    "\n",
    "Crea la función `find_contact` que recibe un nombre y el dict de contactos. Si el usuario existe, devuelve `True` y sino, `False`.\n",
    "\n"
   ]
  },
  {
   "attachments": {},
   "cell_type": "markdown",
   "metadata": {},
   "source": [
    "#### (5) Gestor de Contactos\n",
    "\n",
    "Crea la función `display_user` que recibe un nombre y el dict de contatcos. Si el usuario existe, imprime su información en pantalla.\n",
    "\n",
    "1. ¿Qué devuelve esa función?"
   ]
  }
 ],
 "metadata": {
  "language_info": {
   "name": "python"
  },
  "orig_nbformat": 4
 },
 "nbformat": 4,
 "nbformat_minor": 2
}
