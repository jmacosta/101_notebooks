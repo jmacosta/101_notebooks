{
 "cells": [
  {
   "attachments": {},
   "cell_type": "markdown",
   "metadata": {},
   "source": [
    "# Diccionarios\n",
    "\n",
    "\n",
    "--------------------"
   ]
  },
  {
   "attachments": {},
   "cell_type": "markdown",
   "metadata": {},
   "source": [
    "Un *diccionario* (también llamado *map* en algunos lenguajes) es un conjunto en el cual cada elemento es una pareja de otros dos elementos.\n",
    "\n",
    "A uno de esos elementos se le llama *clave* y al otro, *valor*.\n",
    "\n",
    "Podríamos pensar que un *diccionario* es un conjunto de *claves* y que cada una lleva asociada una \"mochila\", otro elemento que va pegado a la clave. A esa mochila, la llamamos valor.\n",
    "\n"
   ]
  },
  {
   "attachments": {},
   "cell_type": "markdown",
   "metadata": {},
   "source": [
    "##### Propiedades de la clave\n",
    "\n",
    "1. Puede ser cualquier tipo de Python que puede ser un elemento de un `set`.\n",
    "2. No hay orden.\n",
    "\n",
    "##### Propiedades del valor\n",
    "\n",
    "1. Es el valor asociado a la clave (la mochila)\n",
    "2. Puede ser cualquier tipo de Python\n",
    "3. Pueden ser cosas complejas (listas, etc) sin causar problemas."
   ]
  },
  {
   "attachments": {},
   "cell_type": "markdown",
   "metadata": {},
   "source": [
    "##### Creación\n",
    "\n",
    "Se usa una sintaxis parecida a la de los `set` (con llaves) y se pone la clave y valor separados por dos puntos:\n"
   ]
  },
  {
   "cell_type": "code",
   "execution_count": 2,
   "metadata": {},
   "outputs": [],
   "source": [
    "usuario = { \n",
    "    'nombre' : 'Alfredo', \n",
    "    'apellido': 'Lambda',\n",
    "    'edad' : 52,\n",
    "    'país' : 'España'\n",
    "}"
   ]
  },
  {
   "attachments": {},
   "cell_type": "markdown",
   "metadata": {},
   "source": [
    "Para crearlo vacío, no basta con escribir dos llaves vacías (`k = {}`) ya que Python no sabría si es un `set` o un `dict`). Hay que usar el *nombre del tipo como una función* (llamado **constructor** del tipo):\n",
    "\n",
    "```Python\n",
    "d = dict()\n",
    "\n",
    "print(type(d))\n",
    "```\n"
   ]
  },
  {
   "attachments": {},
   "cell_type": "markdown",
   "metadata": {},
   "source": [
    "##### Acceso\n",
    "\n",
    "Si a una lista (o una cadena, es decir a cualquier secuencia) se *accede por **posición***, a un Diccionario se *accede siempre por **clave***.\n",
    "\n",
    "Se utiliza la misma sintáxis que para las secuencias (las llaves) pero pasando la clave en vez de la posición.\n",
    "\n",
    "**¡OJO!** La clave puede ser un número, pero no indica la posición dentro del diccionario. Eso último no existe.\n",
    "\n"
   ]
  },
  {
   "cell_type": "code",
   "execution_count": null,
   "metadata": {},
   "outputs": [],
   "source": [
    "# Accedemos al valor asociado con la clave 'apellido'\n",
    "apellido = usuario['apellido']\n",
    "\n",
    "# Modificamos el valor asociado con la clave 'edad'\n",
    "usuario['edad'] = 61\n"
   ]
  },
  {
   "attachments": {},
   "cell_type": "markdown",
   "metadata": {},
   "source": [
    "###### Añadir vs Modificar\n",
    "\n",
    "La sintaxis para añadir o modificar algo pre-existente es la misma:\n",
    "\n"
   ]
  },
  {
   "cell_type": "code",
   "execution_count": 7,
   "metadata": {},
   "outputs": [],
   "source": [
    "# Añadir una clave/valor nueva\n",
    "usuario['ciudad'] = 'Madrid'\n",
    "\n",
    "# Modificar\n",
    "usuario['ciudad'] = 'Villablino'\n"
   ]
  },
  {
   "attachments": {},
   "cell_type": "markdown",
   "metadata": {},
   "source": [
    "##### Iteración\n",
    "\n",
    "Los diccionarios también se pueden iterar, al igual que los `set`s y las secuencias (listas y cadenas). También se utiliza un `for`.\n",
    "\n",
    "La diferencia está en que podemos iterar por:\n",
    "\n",
    "* las claves (lo normal)\n",
    "* los valores\n",
    "* las claves **y** los valores\n",
    "\n"
   ]
  },
  {
   "cell_type": "code",
   "execution_count": 5,
   "metadata": {},
   "outputs": [
    {
     "name": "stdout",
     "output_type": "stream",
     "text": [
      "nombre\n",
      "apellido\n",
      "edad\n",
      "país\n",
      "Alfredo\n",
      "Lambda\n",
      "52\n",
      "España\n",
      "nombre:\tAlfredo\n",
      "apellido:\tLambda\n",
      "edad:\t52\n",
      "país:\tEspaña\n"
     ]
    }
   ],
   "source": [
    "# iterar por claves\n",
    "for key in usuario:\n",
    "    print(key)\n",
    "\n",
    "# iterar por valores\n",
    "for value in usuario.values():\n",
    "    print(value)\n",
    "\n",
    "# iterar por claves Y valores\n",
    "for key, value in usuario.items():\n",
    "    print(f'{key}:\\t{value}')\n"
   ]
  },
  {
   "attachments": {},
   "cell_type": "markdown",
   "metadata": {},
   "source": [
    "##### Información de Tipo\n",
    "\n",
    "La sintaxis es similar a la de los `sets`:\n",
    "\n",
    "```Python\n",
    "d: dict[str:int]\n",
    "```"
   ]
  },
  {
   "attachments": {},
   "cell_type": "markdown",
   "metadata": {},
   "source": [
    "##### Uso\n",
    "\n",
    "El uso más común de los `dict`s es el de **crear asociaciones entre dos valores**. Como esto suena un poco abstracto, lo veremso en los ejercicios.\n",
    "\n",
    "> Si entiendes las listas, los sets y los dicts, ya sabes el 95% de todas las estructuras de datos que necesitarás en toda tu carrera profesional.\n",
    "\n",
    "Te faltan las *pilas* y las *colas* (dos tipos de listas), pero básicamente, ¡ya lo tienes!\n",
    "\n"
   ]
  },
  {
   "attachments": {},
   "cell_type": "markdown",
   "metadata": {},
   "source": [
    "##### JSON\n",
    "\n",
    "Los diccionarios son una estructura de datos universal: todos los lenguajes los tienen,a veces con otro nombre.\n",
    "\n",
    "En concreto, [Javascript](https://www.json.org/json-es.html) tiene el mismo concpeto con el mismo nombre y prácticamente la misma sintaxis.\n",
    "\n",
    "La sintaxis de diccionario de Javascript se ha convertido en un estandar universal de intercambio de datos llamado [JSON](https://www.json.org/json-es.html).\n",
    "\n",
    "JSON fue inventado por *Douglas Crockford*, uno de los Dioses de la programación moderna.\n",
    "\n",
    "![](douglas-crockford-keepcoding.png)\n",
    "\n",
    "*Haciendo el ridículo un poco e invitando a Doulgas Crockford a chocolate con churros*\n",
    "\n",
    "Todos vosotros usareis JSON, muy especialmente los de Web y Apps.\n",
    "\n",
    "A los de Web, recomiendo enormemento la lectura del libro [\"Javascript, The Good Parts\"](https://www.amazon.es/JavaScript-Parts-Working-Shallow-Grain/dp/0596517742/ref=sr_1_1?__mk_es_ES=%C3%85M%C3%85%C5%BD%C3%95%C3%91&crid=3F8PL9E85G2CA&keywords=javascript+the+good+parts&qid=1686064750&sprefix=javascript+the+good+parts%2Caps%2C101&sr=8-1) de Douglas.\n",
    "\n",
    "![](crockford-madrid.JPG)\n",
    "\n",
    "Comprando camisetas frikis con Douglas en \"Sr Miyagi\", en la Plaza Mayor."
   ]
  }
 ],
 "metadata": {
  "kernelspec": {
   "display_name": "Python 3",
   "language": "python",
   "name": "python3"
  },
  "language_info": {
   "codemirror_mode": {
    "name": "ipython",
    "version": 3
   },
   "file_extension": ".py",
   "mimetype": "text/x-python",
   "name": "python",
   "nbconvert_exporter": "python",
   "pygments_lexer": "ipython3",
   "version": "3.11.3"
  },
  "orig_nbformat": 4
 },
 "nbformat": 4,
 "nbformat_minor": 2
}
