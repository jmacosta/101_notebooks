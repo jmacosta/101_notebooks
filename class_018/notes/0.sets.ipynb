{
 "cells": [
  {
   "attachments": {},
   "cell_type": "markdown",
   "metadata": {},
   "source": [
    "# Sets\n",
    "\n",
    "-----------------"
   ]
  },
  {
   "attachments": {},
   "cell_type": "markdown",
   "metadata": {},
   "source": [
    "Los sets (conjuntos) son la implementación directa de un *arbol binario* en Python.\n",
    "\n",
    "\n",
    "Al igual que las listas, permiten almacenar a otros valores, es decir, son un tipo de **Colección**.\n",
    "\n",
    "Una **Colección** es cualquier tipo que permite almacenar varias instancias, como por ejemplo la *lista*.\n",
    "\n",
    "El **Set** sin embargo, tiene una serie de particularides:\n",
    "\n",
    "* No permite elementos duplicados.\n",
    "* No preserva el orden.\n",
    "* Buscar en ellos es súmamente rápido (es un árbol)\n",
    "\n"
   ]
  },
  {
   "attachments": {},
   "cell_type": "markdown",
   "metadata": {},
   "source": [
    "### El Tipo `set`\n",
    "\n",
    "El tipo `set`:\n",
    "\n",
    "1. tiene infinitas instancias (al igual que la lista): todos aquellos sets que puedas inventar.\n",
    "2. puede contener cualquier valor de Python.\n",
    "3. tiene una serie de operaciones comunes, que son similares a las de un [conjunto](https://www.youtube.com/watch?v=KmcRMlv9_T4) en matemáticas.\n",
    "\n"
   ]
  },
  {
   "attachments": {},
   "cell_type": "markdown",
   "metadata": {},
   "source": [
    "##### Creación\n",
    "\n",
    "Basta con poner los elementos entre llaves. Con esto, Python sabe que se trata de un `set` y no una lista:\n"
   ]
  },
  {
   "cell_type": "code",
   "execution_count": null,
   "metadata": {},
   "outputs": [],
   "source": [
    "\n",
    "soy_un_conjunto = {1, 2, 3, 4, 5}\n",
    "print(type(soy_un_conjunto))\n",
    "\n",
    "soy_una_lista = [1, 2, 3, 4, 5]\n",
    "print(type(soy_una_lista))\n"
   ]
  },
  {
   "attachments": {},
   "cell_type": "markdown",
   "metadata": {},
   "source": [
    "##### Propiedades de los Elementos\n",
    "\n",
    "1. Pueden ser casi cualquier tipo de Python, pero procura que sean sencillos (mejor no uses listas o funciones).\n",
    "2. El elemento no puede ser otro `set`\n",
    "3. No puede haber elementos repetidos.\n",
    "4. No hay orden dentro del `set`."
   ]
  },
  {
   "attachments": {},
   "cell_type": "markdown",
   "metadata": {},
   "source": [
    "##### Operaciones"
   ]
  },
  {
   "cell_type": "code",
   "execution_count": null,
   "metadata": {},
   "outputs": [],
   "source": [
    "nums = {1,2,3,4,5,6,7,8,9}\n",
    "\n",
    "# Añadir un elemento que no estaba presente\n",
    "nums.add(78)\n",
    "print(nums)\n",
    "\n",
    "# Eliminar un elemento que estaba presente\n",
    "nums.remove(78)\n",
    "\n",
    "# Añadir algo que ya estaba, no hace nada\n",
    "nums.add(1)\n",
    "\n",
    "# La operación más importante: saber si algo está en el Set\n",
    "# con el operador `in`\n",
    "has_four = 4 in nums\n",
    "\n",
    "# Aunque la sintáxis es la misma para la listas, en el caso del\n",
    "# set, por ser un árbol, la operación es infinitamente\n",
    "# más rápida\n"
   ]
  },
  {
   "attachments": {},
   "cell_type": "markdown",
   "metadata": {},
   "source": [
    "##### Iteración\n",
    "\n",
    "Todas las *colecciones* se pueden iterar y con la misma sintaxis: un bucle `for`.\n",
    "\n",
    "Sin embargo, en el caso de `set` no se garantiza el orden que\n",
    "vayan saliendo los elementos.\n",
    "\n",
    "> Un `set` no tiene noción de orden\n",
    "\n"
   ]
  },
  {
   "cell_type": "code",
   "execution_count": null,
   "metadata": {},
   "outputs": [],
   "source": [
    "for element in nums:\n",
    "    print(element)"
   ]
  },
  {
   "attachments": {},
   "cell_type": "markdown",
   "metadata": {},
   "source": [
    "##### Acceso\n",
    "\n",
    "En el caso de las listas, podíamos *acceder a los elementos por posición*:\n",
    "\n",
    "```Python\n",
    "l = [1,2,3,4]\n",
    "l[0]\n",
    "```\n",
    "\n",
    "En el caso del `set` esto no es posible, dado que no existe el concepto de *posición* en un set. O está dentro o no lo está.\n"
   ]
  },
  {
   "attachments": {},
   "cell_type": "markdown",
   "metadata": {},
   "source": [
    "##### Conversión entre lista y set y vice versa\n",
    "\n",
    "Para convertir entre listas y sets, usámos la sintaxis de siempre: el nombre del tipo de destino, usado como una función.\n",
    "\n"
   ]
  },
  {
   "cell_type": "code",
   "execution_count": null,
   "metadata": {},
   "outputs": [],
   "source": [
    "l = [1,2,2,2,3,4,5,,3,4,5] # una lista\n",
    "s = set(l) # un set basado en l *sin los elementos duplicados*\n",
    "ll = list(s) # una lista con lso elementos de s"
   ]
  },
  {
   "attachments": {},
   "cell_type": "markdown",
   "metadata": {},
   "source": [
    "##### Información de Tipo\n",
    "\n",
    "La sintaxis es la misma de las listas:\n",
    "\n",
    "```Python\n",
    "k: set[int|float]\n",
    "```\n"
   ]
  },
  {
   "attachments": {},
   "cell_type": "markdown",
   "metadata": {},
   "source": [
    "##### Uso\n",
    "\n",
    "El `set`se usa cuando lo que quieres saber es si algo es parte o no de un conjunto de cosas.\n",
    "\n",
    "Es mucho más útil de lo que parece y es muy común usarlos en *selectores*."
   ]
  },
  {
   "attachments": {},
   "cell_type": "markdown",
   "metadata": {},
   "source": [
    "##### Otras operaciones\n",
    "\n",
    "Los `set` tienen otras operaciones, derivadas de la spropiedades de un conjunto matemático. Son menso usadas, pero a veces son muy útiles:\n"
   ]
  },
  {
   "attachments": {},
   "cell_type": "markdown",
   "metadata": {},
   "source": [
    "\n",
    "`intersection()`: devuelve el `set` con los elementos comunes en dos conjuntos."
   ]
  },
  {
   "cell_type": "code",
   "execution_count": null,
   "metadata": {},
   "outputs": [],
   "source": [
    "s1 = {\"Manolo\", \"Juan\", \"Paco\", \"Toni\"}\n",
    "s2 = {\"Paca\", \"Ximena\", \"Maripuri\", \"Toni\"}\n",
    "s3 = s1.intersection(s2) # ¿qué elementos son comunes a ambos?"
   ]
  },
  {
   "attachments": {},
   "cell_type": "markdown",
   "metadata": {},
   "source": [
    "`union()` devuelve el set con todos los elementos que haya en dos (excepto los repetidos)"
   ]
  },
  {
   "cell_type": "code",
   "execution_count": null,
   "metadata": {},
   "outputs": [],
   "source": [
    "s4 = s1.union(s2)"
   ]
  },
  {
   "attachments": {},
   "cell_type": "markdown",
   "metadata": {},
   "source": [
    "`difference()` es lo opuesto de la `intersección`: devuelve aquellos elementos que no son comunes a dos conjuntos."
   ]
  },
  {
   "attachments": {},
   "cell_type": "markdown",
   "metadata": {},
   "source": [
    "Hay más, pero son menos usadas. Puedes mirarlas en la documentación de Python"
   ]
  }
 ],
 "metadata": {
  "language_info": {
   "name": "python"
  },
  "orig_nbformat": 4
 },
 "nbformat": 4,
 "nbformat_minor": 2
}
