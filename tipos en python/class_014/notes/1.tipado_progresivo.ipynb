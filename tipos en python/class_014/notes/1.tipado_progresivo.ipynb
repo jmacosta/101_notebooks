{
 "cells": [
  {
   "attachments": {},
   "cell_type": "markdown",
   "metadata": {},
   "source": [
    "# 🛎️ Tipado Progresivo\n",
    "\n",
    "--------------------------"
   ]
  },
  {
   "attachments": {},
   "cell_type": "markdown",
   "metadata": {},
   "source": [
    "Lo ideal es un intermedio entre la relajación total del Python tradicional y la rigidez absoluta de Swift y otros lenguajes similares.\n",
    "\n",
    "Las últimas versiones de Python permiten precisamente eso:\n",
    "\n",
    "* Empieza sin preocuparte demasiado del tipado\n",
    "* Diseña tu sistema y comprueba que funciona\n",
    "* Una vez entiendes más o menos todo, empieza a *apretar las tuercas* especificando los tipos de variables, parámetros y retornos de funciones.\n",
    "\n"
   ]
  },
  {
   "attachments": {},
   "cell_type": "markdown",
   "metadata": {},
   "source": [
    "### Indicaciones de tipado (*Type Hinting*)\n",
    "\n",
    "\n"
   ]
  },
  {
   "attachments": {},
   "cell_type": "markdown",
   "metadata": {},
   "source": [
    "##### Variables\n"
   ]
  },
  {
   "cell_type": "code",
   "execution_count": 3,
   "metadata": {},
   "outputs": [],
   "source": [
    "\n",
    "# No es estrictamente indispensable, ya que\n",
    "# al asignarle un entero, se puede *inferir*\n",
    "# que su tipo es `int`\n",
    "age: int = 42\n",
    "\n",
    "# No hay que inicializar una variable para \n",
    "# indicar su tipo. Eso sí, *no puedes usarla\n",
    "# hasta darle un valor*.\n",
    "k: int\n",
    "\n",
    "# Lo cual es muy útil cuando tienes un\n",
    "# `if` con varias ramas\n",
    "minor: bool\n",
    "if age < 18:\n",
    "    minor = True\n",
    "else:\n",
    "    minor = False\n",
    "    "
   ]
  },
  {
   "attachments": {},
   "cell_type": "markdown",
   "metadata": {},
   "source": [
    "##### Tipos Comunes\n"
   ]
  },
  {
   "cell_type": "code",
   "execution_count": 5,
   "metadata": {},
   "outputs": [],
   "source": [
    "# Algunos de los que ya conocemos.\n",
    "# Estas indicaciones de tipo fundamentalmente redundantes\n",
    "# ya que se pueden inferir a partir del valor\n",
    "x: int = 1\n",
    "x: float = 1.0\n",
    "x: bool = True\n",
    "x: str = \"test\"\n"
   ]
  },
  {
   "cell_type": "code",
   "execution_count": 4,
   "metadata": {},
   "outputs": [],
   "source": [
    "\n",
    "# Listas. Si sus elementos son de un tipo uniforme (todos `int`, \n",
    "# todos `str`), se indica el tipo entre corchetes\n",
    "x: list[int] = [1]\n",
    "\n",
    "# Si el tipo es dinámico, es decir, puede contener lo que quiere,\n",
    "# basta con no poner ninguna indicación de tipo\n",
    "x :list = [1, \"2\", []]\n",
    "\n",
    "\n"
   ]
  },
  {
   "attachments": {},
   "cell_type": "markdown",
   "metadata": {},
   "source": [
    "##### Combinaciones de Tipos\n",
    "\n",
    "A veces el tipo de una variable o del retorno de una función puede ser *uno u otro*. Por ejemplo, alguna función que hemos creado devolvía, *o bien una lista o bien `None`*.\n",
    "\n",
    "Esto también se puede expresar separando los dos tipos con una barra vertical: `list | None`.\n",
    "\n",
    "A esto se le llama **Tipos Algebraicos**, está muy de moda y lo vereis en otros lenguajes (Swift, Scala, Typescript).\n",
    "\n",
    "Tiene un nombre raro, pero no es más que una combinación de tipos, con una especie de `or`: un `int` O un `None` (por ejemplo)."
   ]
  },
  {
   "cell_type": "code",
   "execution_count": 6,
   "metadata": {},
   "outputs": [],
   "source": [
    "x: list[int | str] = [3, 5, \"test\", \"fun\"]  \n"
   ]
  },
  {
   "attachments": {},
   "cell_type": "markdown",
   "metadata": {},
   "source": [
    "##### Una combinación muy especial\n",
    "\n",
    "Un caso especial de combinación de dos tipos, es tan común que tiene un nombre especial.\n",
    "\n",
    "Cuando algo puede se run tipo (el que sea) o bien `None`, se le llama un *opcional*.\n",
    "\n",
    "Por ejemplo, una función que devuelve un `int` o un `None` (`int | None`), se dice que devuelve un *entero opcional*.\n",
    "\n",
    "Es también algo muy de moda y que vereis en otros lenguajes, como por ejemplo:\n",
    "\n",
    "* Swift\n",
    "* Kotlin\n",
    "* Scala\n",
    "* Typescript\n",
    "* otros muchos\n",
    "\n"
   ]
  },
  {
   "cell_type": "code",
   "execution_count": null,
   "metadata": {},
   "outputs": [],
   "source": [
    "\n",
    "x: int | None\n",
    "xx = 23\n",
    "\n",
    "# x puede ser cualquier cosa\n",
    "if xx > 2:\n",
    "    x = 55\n",
    "else:\n",
    "    x = None"
   ]
  },
  {
   "attachments": {},
   "cell_type": "markdown",
   "metadata": {},
   "source": [
    "##### Funciones\n",
    "\n",
    "Podemos indicar el tipo tanto de los parámetros como del valor de retorno.\n",
    "\n",
    "Supongamos la siguiente función que recibe una lista de enteros y devuelve su suma (un compresor):\n",
    "\n"
   ]
  },
  {
   "cell_type": "code",
   "execution_count": 7,
   "metadata": {},
   "outputs": [],
   "source": [
    "def add_all(numbers):\n",
    "    accum = 0\n",
    "    for number in numbers:\n",
    "        accum = accum + number\n",
    "    return accum"
   ]
  },
  {
   "attachments": {},
   "cell_type": "markdown",
   "metadata": {},
   "source": [
    "Si queremos añadir la indicación de tipado, lo haríamos de la siguiente forma:"
   ]
  },
  {
   "cell_type": "code",
   "execution_count": null,
   "metadata": {},
   "outputs": [],
   "source": [
    "def add_all(numbers: list[int]) -> int:\n",
    "    accum = 0 # no hay que idnicar el tipo de accum, es evidente\n",
    "    for number in numbers: # el tipo de number también se infiere\n",
    "        accum = accum + number\n",
    "    return accum"
   ]
  },
  {
   "attachments": {},
   "cell_type": "markdown",
   "metadata": {},
   "source": [
    "Recuerda, una función que no devuelve nada, en realidad devuelve `None`."
   ]
  },
  {
   "cell_type": "code",
   "execution_count": null,
   "metadata": {},
   "outputs": [],
   "source": [
    "def log_error(error: Exception) -> None:\n",
    "    \"\"\"\n",
    "    Recibe una excepción del tipo que sea y guarda toda la info\n",
    "    en sentry.io o lo que sea\n",
    "    \"\"\"\n",
    "    print('Unhandled Exception!')\n",
    "    print(error)"
   ]
  },
  {
   "attachments": {},
   "cell_type": "markdown",
   "metadata": {},
   "source": [
    "##### Crear tipos nuevos (*Alias Type*)\n",
    "\n",
    "A veces puede ser interesante crear nuevos tipos a partir de los básicos. Esto suele mejorar notablemente la legibilidad del código.\n",
    "\n",
    "Veamos el caso de una función que recibe una lista de enteros o floats\n",
    "y devuelve un entero o float. Por ejemplo el sumador de arriba, que queremos que funcione con los dos tipos más comunes de números de Python (`int` y `floats`).\n",
    "\n",
    "Podríamos escribirlo de la siguiente manera:"
   ]
  },
  {
   "cell_type": "code",
   "execution_count": 8,
   "metadata": {},
   "outputs": [],
   "source": [
    "def add_all(numbers: list[int | float]) -> int | float:\n",
    "    accum = 0 # no hay que idnicar el tipo de accum, es evidente\n",
    "    for number in numbers: # el tipo de number también se infiere\n",
    "        accum = accum + number\n",
    "    return accum"
   ]
  },
  {
   "attachments": {},
   "cell_type": "markdown",
   "metadata": {},
   "source": [
    "Es bastante rollo y sería conveniente poder crear un nuevo tipo que se refiera a `int | float`.\n",
    "\n",
    "Por suerte es muy fácil de hacer:\n"
   ]
  },
  {
   "cell_type": "code",
   "execution_count": 9,
   "metadata": {},
   "outputs": [],
   "source": [
    "num = int | float # num es un alias\n",
    "\n",
    "def add_all(numbers: list[num]) -> num:\n",
    "    accum = 0 # no hay que idnicar el tipo de accum, es evidente\n",
    "    for number in numbers: # el tipo de number también se infiere\n",
    "        accum = accum + number\n",
    "    return accum"
   ]
  },
  {
   "attachments": {},
   "cell_type": "markdown",
   "metadata": {},
   "source": [
    "Bastante más legible."
   ]
  },
  {
   "attachments": {},
   "cell_type": "markdown",
   "metadata": {},
   "source": [
    "##### Comprobar que los tipos son correctos\n",
    "\n",
    "En la mayoría de los lenguajes, esto lo hace el propio compilador o intérprete.\n",
    "\n",
    "En el caso de Python, lo hace una herramienta a parte, llamada **MyPy**.\n",
    "\n",
    "###### Uso de [mypy](https://mypy.readthedocs.io/en/latest/getting_started.html)\n",
    "\n",
    "Una vez que hayas instalado Python 3, puedes instalar mypy utilizando pip:\n",
    " `python3 -m pip install mypy`\n",
    "\n",
    "Puedes comprobar el tipado de un programa utilizando la herramienta `mypy`, que es básicamente un linter: verifica tu programa en busca de errores sin ejecutarlo realmente:\n",
    "\n",
    "`$ mypy program.py`"
   ]
  },
  {
   "attachments": {},
   "cell_type": "markdown",
   "metadata": {},
   "source": [
    "-------------------"
   ]
  },
  {
   "attachments": {},
   "cell_type": "markdown",
   "metadata": {},
   "source": [
    "### Resumen\n",
    "\n",
    "1. Escribe tu software sin preocuparte demasiado de las indicacioens de tipado.\n",
    "2. Asegúrate de que funciona y que lo entiendes (para eso usaremos tests en el futuro).\n",
    "3. Aprieta las tuercas del tipado hasta donde tu creas que es conveniente. **Empieza siempre por las funciones**."
   ]
  },
  {
   "attachments": {},
   "cell_type": "markdown",
   "metadata": {},
   "source": [
    "A partir de ahora usaremos simpre indicaciones de tipo en las funciones. Para practicar, añade esa información a tu juego de *Piedra, Papel, Tijera*."
   ]
  },
  {
   "attachments": {},
   "cell_type": "markdown",
   "metadata": {},
   "source": [
    "### Para saber más\n",
    "\n",
    "Mírate la documentación de [MyPy](https://mypy.readthedocs.io/en/latest/getting_started.html).\n"
   ]
  }
 ],
 "metadata": {
  "kernelspec": {
   "display_name": "Python 3",
   "language": "python",
   "name": "python3"
  },
  "language_info": {
   "codemirror_mode": {
    "name": "ipython",
    "version": 3
   },
   "file_extension": ".py",
   "mimetype": "text/x-python",
   "name": "python",
   "nbconvert_exporter": "python",
   "pygments_lexer": "ipython3",
   "version": "3.11.3"
  },
  "orig_nbformat": 4
 },
 "nbformat": 4,
 "nbformat_minor": 2
}
