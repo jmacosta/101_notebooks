{
 "cells": [
  {
   "attachments": {},
   "cell_type": "markdown",
   "metadata": {},
   "source": [
    "# Charlando con los vecinos\n",
    "\n",
    "----------------------------"
   ]
  },
  {
   "attachments": {},
   "cell_type": "markdown",
   "metadata": {},
   "source": [
    "Con frecuencia voy a Portugal de vaciones, lo cual me ha permitido conocer más a nuestros vecinos de al lado. \n",
    "\n",
    "En muchas cosas somos muy parecidos, como era de esperar. Sin embargo, hay aspectos en los que somos radicalmente distintos. El darme cuenta de ello, y lo que es más importante, el aceptarlo, me costó más de una frustración. Veamos algunos ejemplos.\n",
    "\n",
    "Estaba en un taxi que me llevaba de Aveiro a Coimbra. Como el trayecto era un poco largo, decidí charlar con el conductor. Al pasar por un pueblo llamado Mealhada, le pregunté si era ahí donde se preparaba un famoso cochinillo asado (siempre pensando en lo mismo).\n",
    "\n",
    "- *No, me contesta.*\n",
    "- *¿Ah si? Pues yo había entendido que...*\n",
    "- *Para nada. En el pueblo están los **restaurantes**, y es **en los restaurantes** donde se prepara el cochinillo. (sic)*\n",
    "\n",
    "![](pikachu-surprised.jpg)\n",
    "\n",
    "Ni qué decir que no volví a abrir la boca en el resto del viaje.\n",
    "\n",
    "En otra ocasión, cometí el error de preguntarle al recepcionista del hotel en el que me alojaba *de dónde salía el tren para Madrid*. Sin apenas poder disimular su incredulidad, me contesta:\n",
    "\n",
    "- *Pues hombre, de la estación.*\n",
    "\n",
    "Tal cual.\n",
    "\n",
    "En Portugal comen más temprano que en España, así que hay que tener cuidado para no llegar tarde a los restaurantes. Una vez que nos habíamos retrasado, mi mujer decidió llamar al restaurante para cerciorarse de que llegaríamos a tiempo. Su insensatez se vió premiada con el siguiente diálogo:\n",
    "\n",
    "- *Buenas, sólo quería confirmar que estaban Uds abiertos.*\n",
    "\n",
    "Visiblemente sorprendido, su interlocutor le contesta:\n",
    "\n",
    "- *Por supuesto señora, si no estuviésemos abiertos, ¡no podría estar hablando con usted!*\n",
    "\n",
    "- *Ya veo... Es tan sólo que estamos un poco lejos y quería asegurarme de que llegamos a tiempo.*\n",
    "\n",
    "- *Ya le entiendo. Lamentablemente no podré ayudarla en eso, puesto que yo no sé dónde está usted.*\n",
    "\n",
    "![](https://thumbs.gfycat.com/SilentPoliteKodiakbear-max-1mb.gif)\n",
    "\n",
    "\n",
    "\n"
   ]
  },
  {
   "attachments": {},
   "cell_type": "markdown",
   "metadata": {},
   "source": [
    "Desde el momento en que cruzas la frontera, es vital tener un cuidado extremo antes de abrir la boca para hablar. Tus frases tienen que ser elaboradas con *extrema precisión y lógica*, porque ninguna vaguedad será perdonada.\n",
    "\n",
    "Algo así como crear código."
   ]
  },
  {
   "attachments": {},
   "cell_type": "markdown",
   "metadata": {},
   "source": [
    "### Python no es Portugués\n",
    "\n",
    "En Python, se nos permiten ciertas vaguedades a la hora de expresarnos. Por ejemplo está función:\n",
    "\n",
    "```Python\n",
    "def add(a,b):\n",
    "    return a + b\n",
    "```\n",
    "\n",
    "No hemos especificado en ningún momento si lo que recibe y devuelve son números, aunque todo parece indicarlo.\n",
    "\n",
    "Python no entra en corto circuito y simplemente acepta que estás sumando *cosas*.\n",
    "\n",
    "Es fácil y rápido crear el código, aunque luego te expones a errores en tiempoo de ejecución, como si llamas a la función de la siguiente manera: `add([3, 4], \"hola\")`.\n",
    "\n",
    "Esto no es un fallo de Python, es una decisión de diseño. Python te facilita el empezar de forma rápida y presupone que sabes lo que estás haciendo. Si luego usas mal tus funciones, pues asunto tuyo: ya eres mayorcito y Python no es tu niñera.\n",
    "\n",
    "> Los lenguajes como Python se llaman Lenguajes de Tipado Dinámico\n",
    "\n",
    "**Ejemplos de Lenguajes de tipado dinámico**\n",
    "\n",
    "* Python\n",
    "* Ruby\n",
    "* Javascript\n",
    "* Objective-C\n"
   ]
  },
  {
   "attachments": {},
   "cell_type": "markdown",
   "metadata": {},
   "source": [
    "### Los lenguajes niñera\n",
    "\n",
    "No todos los lenguajes tienen esa filosofía. Otros de hecho tienen exactamente la opuesta: parten del principio que no tienes idea de lo que haces y que hay que protegerte de tí mismo. Son una especie de [Señorita Rottenmeier](https://es.wikipedia.org/wiki/Se%C3%B1orita_Rottenmeier) Lisboeta.\n",
    "\n",
    "![](https://www.elocuent.com/wp-content/uploads/2013/06/rotenmeier.jpg)\n",
    "\n",
    "De personalidad seca e intransigente, exigen que todos los detalles hayan sido especificados hasta la saciedad no dejando ninguna duda, por irrelevante que sea, si aclarar.\n",
    "\n",
    "Un buen ejemplo de esta personalidad (algo cansina) es [Swift](https://www.swift.org/).\n",
    "\n",
    "La función de arriba quedaría así en Swift:\n",
    "\n",
    "```Swift\n",
    "func suma(num1: Int, num2: Int) -> Int {\n",
    "    return num1 + num2\n",
    "}\n",
    "```\n",
    "\n",
    "Al código se le añade información extra de tipado: los dos parámetros son de tipo entero y el resultado también ha de serlo.\n",
    "\n",
    "\n",
    "> Los lenguajes como Swift se llaman Lenguajes de Tipado Estático\n",
    "\n",
    "**Ejemplos de Lenguajes de Tipado Estático**\n",
    "\n",
    "* Swift\n",
    "* Kotlin\n",
    "* Scala\n",
    "* Typescript\n"
   ]
  },
  {
   "attachments": {},
   "cell_type": "markdown",
   "metadata": {},
   "source": [
    "### ¿Cual es mejor?\n",
    "\n",
    "Asegún y adepende. Cada uno tiene sus ventajas.\n",
    "\n",
    "* El *tipado estático* hace que ciertos bugs no lleguen al tiempo de ejecución, pero hacen que el proceso de crear el software sea más cansio y aburrido. El compilador constantemente te está llamando la atención sobre cualquier posible incoherencia.\n",
    "* El *tipado dinámico* te da más libertad y hace el proceso de crear el software más rápido, sin tener que detenerse todo el rato con pequeños detalles. Con esa libertad extra, puedes hacer grandes virguerías, pero también grandes cagadas.\n",
    "\n",
    "Hace unos años la moda era el tipado dinámico y los que no lo usaban eran unos pringados. Ahora es todo lo contrario, y si no usas tipado estático, eres un inútil.\n",
    "\n",
    "> (...)“toda virtud es un termino medio entre dos extremos, cada uno de los cuales es un vicio.”\n",
    "> Aristóteles\n",
    "\n",
    "¿Lo mejor? Dejarse de fanatismos idiotas y tirar por el [Camino Medio](https://es.wikipedia.org/wiki/Camino_medio), aprovechando las ventajas de cada uno.\n",
    "\n",
    "Y en Python, se puede."
   ]
  },
  {
   "attachments": {},
   "cell_type": "markdown",
   "metadata": {},
   "source": []
  }
 ],
 "metadata": {
  "language_info": {
   "name": "python"
  },
  "orig_nbformat": 4
 },
 "nbformat": 4,
 "nbformat_minor": 2
}
