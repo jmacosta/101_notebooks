{
 "cells": [
  {
   "attachments": {},
   "cell_type": "markdown",
   "metadata": {},
   "source": [
    "# Ejerciciso de Secuencias Implícitas\n",
    "\n",
    "------------------"
   ]
  },
  {
   "attachments": {},
   "cell_type": "markdown",
   "metadata": {},
   "source": [
    "## (0)\n",
    "\n",
    "Crea una función `sum_all` que recibe 3 parámetros:\n",
    "* Un valor de inicio\n",
    "* Un valor final\n",
    "* Un valor de paso\n",
    "\n",
    "y devuelve la suma de todos los valores de inicio a fin  tomados de paso en paso.\n",
    "\n",
    "Es decir,\n",
    "\n",
    "`sum_all(1, 10, 2)` sumaría 1,3,5,7 y 9.\n",
    "\n",
    "Recuerda usar `range`"
   ]
  },
  {
   "attachments": {},
   "cell_type": "markdown",
   "metadata": {},
   "source": [
    "## (1)\n",
    "\n",
    "Crea la función `factorial(n)` que recibe un número y devuelve su factorial.\n",
    "\n",
    "Recuerda que el factorial (representado con un !) de un número n es la multiplicación de todos los números enteros de 1 hasta n:\n",
    "\n",
    "$$4! = 4 * 3 * 2 * 1$$\n",
    "\n",
    "sabiendo que $1! = 1$ y $0! = 1$\n",
    "\n",
    "Hazlo usando `range` yendo de 1 hasta `n`."
   ]
  },
  {
   "attachments": {},
   "cell_type": "markdown",
   "metadata": {},
   "source": [
    "## (2) \n",
    "\n",
    "1. ¿`factorial` es parcial o total?\n",
    "2. ¿Qué pasa si la llaman con un número negativo?\n",
    "\n",
    "Haz que `factorial` sea total, usando siempre el valor absoluto de n, en vez el valor que recibas. De esa forma `factorial(n) == factorial(-n)`.\n",
    "\n",
    "¡Piensa siempre en los casos especiales!"
   ]
  },
  {
   "attachments": {},
   "cell_type": "markdown",
   "metadata": {},
   "source": [
    "## (3)\n",
    "\n",
    "Ahora calcúlalo al revés, yendo de n hasta 1. Recuerda el tercer parámetro de la función `range`"
   ]
  },
  {
   "attachments": {},
   "cell_type": "markdown",
   "metadata": {},
   "source": [
    "## (4)\n",
    "\n",
    "Crea el predicado `is_prime(n)` que devuelve `True` si `n` es un número primo.Hazlo probando todas los posibles divisores de 2 hasta `n // 2`.\n",
    "\n",
    "Cuando la tengas, comprueba con los siguientes números primos:\n",
    "\n",
    "* 5\n",
    "* 17\n",
    "* 29\n",
    "* 2161\n",
    "* 7919\n",
    "\n",
    "Cuando compruebes el funcionamiento de un predicado, *no pruebes sólo un caso, prueba el otro también*. Es decir, comprueba si detecta correctamente números compuestos, como el 1000, 2, 98 ó 21124.\n",
    "\n"
   ]
  },
  {
   "attachments": {},
   "cell_type": "markdown",
   "metadata": {},
   "source": [
    "## (5)\n",
    "\n",
    "Si tu función furula como es debido, compárala con ésta:\n",
    "\n",
    "```python\n",
    "def is_prime_2(n):\n",
    "        is_prime = True\n",
    "        for number in range(2, n // 2):\n",
    "            is_prime = (number % 2 == 0)\n",
    "            if not is_prime:\n",
    "                break\n",
    "        return is_prime\n",
    "```\n",
    "\n",
    "1. `is_prime_2` ¿está bien o mal?\n",
    "2. En caso de estar mal, ¿qué está mal y cómo la arreglarías?\n",
    "\n"
   ]
  },
  {
   "attachments": {},
   "cell_type": "markdown",
   "metadata": {},
   "source": [
    "## (6)\n",
    "\n",
    "¿Qué pasa si tu función es llamada con los siguientes números?\n",
    "\n",
    "* 1\n",
    "* 0\n",
    "* números negativos\n",
    "\n",
    "1. ¿Es una función parcial o total?\n",
    "2. Ya que estamos, ¿es reversible?"
   ]
  },
  {
   "attachments": {},
   "cell_type": "markdown",
   "metadata": {},
   "source": [
    "## (6)\n",
    "\n",
    "Crea la función `rev` que recibe una secuencia (lista o cadena) y la devuelve invertida:\n",
    "\n",
    "`rev([1,2,3,4]) == [4,3,2,1]`\n",
    "`rev[\"Hola\"] == \"aloH\"`\n",
    "\n",
    "Pista: Se trata de un trasnformador y puedes unar `range` con el tercer parámetro para iterar por los índices hacia atrás.\n"
   ]
  },
  {
   "attachments": {},
   "cell_type": "markdown",
   "metadata": {},
   "source": [
    "## (7)\n",
    "\n",
    "Un *eprim* (*prime* al revés) es un primo que al invertir sus dígitos, también te da otro primo. Por ejemplo, 13:\n",
    "\n",
    "13, 31 son ambos primos\n",
    "\n",
    "Crea el predicado `eprim(n)`  que recibe un número y devuelve si es un *eprim*.\n",
    "\n",
    "Pistas:\n",
    "\n",
    "1. Divide y vencerás: ya tienes una función que decide si un número es primo o no y otra que invierte secuencias.\n",
    "2. Para convertir un tipo a otro, se usa el tipo de destino como una función. Por ejemplo, para convertir un número en una cadena, se haría `str(986)`. Para convertir una cadena en un número se haría `int(\"98\")`.\n",
    "\n"
   ]
  },
  {
   "attachments": {},
   "cell_type": "markdown",
   "metadata": {},
   "source": [
    "## (8) \n",
    "\n",
    "¿A quién coño le importa si un número es primo o no?\n",
    "\n",
    "Los números primos muy grandes (pero que muy grandes) son de gran importancia en criptografía. \n",
    "\n"
   ]
  }
 ],
 "metadata": {
  "language_info": {
   "name": "python"
  },
  "orig_nbformat": 4
 },
 "nbformat": 4,
 "nbformat_minor": 2
}
