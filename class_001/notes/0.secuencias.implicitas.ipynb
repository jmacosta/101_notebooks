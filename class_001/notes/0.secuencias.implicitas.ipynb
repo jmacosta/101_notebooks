{
 "cells": [
  {
   "attachments": {},
   "cell_type": "markdown",
   "metadata": {},
   "source": [
    "# Secuencias Implícitas\n",
    "\n",
    "\n",
    "## Iterar por Secuencias \n",
    "\n",
    "En el anterior capítulo, hemos visto cómo iterar sobre listas o cadenas pre-existentes. Ambos son casos de **secuencias**: una forma de organizar los datos de tal forma que están uno detrás del otro, y *podemos acceder* a cada uno de ellos *por su índice*.\n",
    "\n",
    "Para poder recorrer una **secuencia**, tenemos que hacer lo siguiente:\n",
    "\n",
    "\n",
    "|índice|0|1|2|3|4|5|\n",
    "|--|--|--|--|--|--|--|\n",
    "|dato|'¡'|'H'|'o'|'l'|'a'|'!'\n",
    "\n",
    "\n",
    "1. **¿Cual es el índice inicial?**: 0\n",
    "1. **¿Cual es el final?**: 5 Va de 0 a 5, longitud total 6.\n",
    "1. **¿Paso de uno a otro?**: Lo habitual es que sea `actual + 1` a no ser que quiera ir de dos en dos o más.\n",
    "1. **¿Qué hago con cada uno?** \n",
    "\n",
    "> Lo habitual es ir desde el primero hasta el último, de uno en uno, haciendo algo con cada dato.\n",
    "\n",
    "El principal riesgo en estos casos es cometer un **error por uno**, e iterar hasta fuera del rango admitido (6 ó más). La consecuencia es grave, ya que se nos cae la aplicación y hacemso el ridículo ante el usuario.\n",
    "\n"
   ]
  },
  {
   "attachments": {},
   "cell_type": "markdown",
   "metadata": {},
   "source": [
    "### La Expresión `for` de Python\n",
    "\n",
    "Python nos simplifica enormemente esta tarea en el caso habitual (desde el principio hasta el final, de uno en uno) y sólo nos tenemos que preocupar por lo último: qué hacer con cada dato:\n",
    "\n",
    "```python\n",
    "for each in '¡Hola!':\n",
    "    # haz algo con la variable `each`\n",
    "    # que contiene el character actual\n",
    "```\n",
    "\n",
    "\n"
   ]
  },
  {
   "attachments": {},
   "cell_type": "markdown",
   "metadata": {},
   "source": [
    "## Secuencias Explícitas y Secuencias Implícitas\n",
    "\n",
    "\n",
    "Cuando tenemos una lista o una cadena, tenemos una *secuencia explícita*, una estructura de dtaos que podemos guardar en una variable, manipularl o devolver en una función.\n",
    "\n",
    "No siempre se da esta circunstancia. \n",
    "\n"
   ]
  },
  {
   "attachments": {},
   "cell_type": "markdown",
   "metadata": {},
   "source": [
    "\n",
    "#### Números Primos\n",
    "\n",
    "Por ejemplo, supongamos que queremos crear el *predicado* `is_prime`, que recibe un número e indica si es primo o no. Recuerda que un número primo es aquel que sólo es divisible por 1 y por él mismo. \n",
    "\n",
    "Por ejemplo:\n",
    "\n",
    "* 2 es primo, puesto que sólo es divisible por 1 y 2\n",
    "* 3 es primo por que sólo es divisible por 1 y 3\n",
    "* 11 es primo proque sólo es divisible por 11 y 1.\n",
    "* 21 *no es primo* puesto que es divisible por 1, 3 y 21\n",
    "\n",
    "Para números pequeños, podemos hacerlo de cabeza, buscando divisores, pero con números mayores hay que tirar de ordenador.\n",
    "\n",
    "Por ejemplo,\n",
    "\n",
    "* ¿Es `231` un número primo?\n",
    "* ¿Es `982.451.653` un número primo?\n"
   ]
  },
  {
   "attachments": {},
   "cell_type": "markdown",
   "metadata": {},
   "source": [
    "\n",
    "##### Test de división\n",
    "\n",
    "Un posible algoritmo para dicho *predicado* sería: intentar dividir dicho número por todos los posibles divisores, desde el `2` (¿por qué no desde `1`?) hasta la mitad (es decir, hasta `231 // 2` ó `982.451.653 // 2`. ¿Por qué no hace falta ir más allá de la mitad?). Si encuentras alguno cuya división entera deja un resto de `0`, es que **no es primo**.\n",
    "\n",
    "¡OJO! \n",
    "\n",
    "* `//` es el operador de *división entera* en Python.\n",
    "* `%` es el operador de *resto de división entera* en Python\n",
    "\n",
    "```Python\n",
    "7 // 2 # se evalúa a 3 (caben tres doses)\n",
    "7 % 2  # se evalúa a 1 (sobra 1)\n",
    "```\n",
    "\n",
    "Es un algoritmo por fuerza bruta, de búsqueda exhaustiva. Seguramente los hay mejores (los hay, uno de ellos conocido desde la Antigëdad), pero *para empezar está bien*.\n",
    "\n",
    "> Cuando buscamos soluciones, también aplicamos DIVIDE & VENCERÁS: empieza por la solución más simple.\n",
    "\n",
    "Si el número que queremos testar es `n`, tendríamos que iterar por la lista de números que va de `2` hasta `n % 2`.\n",
    "\n",
    "> ¿Tiene sentido crear una lista, potencialmente enorme, sólo para eso? **NO**\n",
    "\n",
    "Tenemos que iterar por una secuencia de números, saltando de uno a otro, pero hace falta crear la lista de enteros en sí. En esos caso es cuando tenemos una *secuencia implícta*.\n",
    "\n"
   ]
  },
  {
   "attachments": {},
   "cell_type": "markdown",
   "metadata": {},
   "source": [
    "#### `for` implícito\n",
    "\n",
    "En la mayoría de los lenguajes, esto se haría con un `for` con esta pinta (el ejemplo está en C, pero sería similar en Java, Swift, Kotlin y muchos más)\n",
    "\n",
    "![](for_c.png)\n"
   ]
  },
  {
   "attachments": {},
   "cell_type": "markdown",
   "metadata": {},
   "source": [
    "La sintaxis de C es un poco distinta a la de Python:\n",
    "\n",
    "* los ámbitos se crean entre llaves ({}) y el indentado es opcional.\n",
    "* todas lineas tienen que terminar con un `;`\n",
    "\n",
    "Sin emabrgo, la clave está en la linea del for:\n",
    "\n",
    "\n",
    "```C\n",
    "for(int i=2; i <= (982451653 / 2); i++){\n",
    "  // qué hacer en cada caso\n",
    "  }\n",
    "```\n",
    "\n",
    "1. `int i=2` Se crea una variable entera con un valor inicial de 2. **Aquí es donde empezamos**\n",
    "2. `i <= (982451653 / 2)`  Se comprueba que el valor no sea mayor o igual a la mitad del número qe testamos. **Aquí es donde determinamos si hemso terminaod o si toca seguir**.\n",
    "3. `i++` Incrementamos en 1 el valor de la variable. **Aquí es donde tenemos que actulizar el valor para poder seguir***.\n",
    "\n",
    "Antes, cuando teníamos una *secuencia explícita* sobre la que iterar, sólo nos teníamos que preocupar por el *qué hacer en cada paso*, ahora tenemos que hacernos cargo de las otras 3 cosas esenciales para iterar.\n"
   ]
  },
  {
   "attachments": {},
   "cell_type": "markdown",
   "metadata": {},
   "source": [
    "\n",
    "### ¡`range` al rescate!\n",
    "\n",
    "\n",
    "Iterar por una secuencia *implícita* es más *eficiente*, pero más *laborioso*. Pues bien, Python nos permite tener lo mejor de los dos mundos: \n",
    "\n",
    "* la eficiencia de una sececuencia implícta\n",
    "* la comodidad y seguridad de una secuencia explícita\n",
    "\n",
    "\n",
    "Para ello tenemos la función `range()`:\n",
    "\n",
    "La función `range()` puede tomar de uno a tres argumentos:\n",
    "\n",
    "1. `range(n)`: Genera una secuencia de números desde 0 hasta n-1. Por ejemplo, range(5) generará la secuencia [0, 1, 2, 3, 4].\n",
    "1. `range(start, stop)`: Genera una secuencia de números desde el número de inicio (start) hasta el número final (stop) - 1. Por ejemplo, range(2, 5) generará la secuencia [2, 3, 4].\n",
    "1. `range(start, stop, step)`: Genera una secuencia de números desde el número de inicio (start) hasta el número final (stop) - 1, incrementando los números por el valor del paso (step). Por ejemplo, range(2, 9, 2) generará la secuencia [2, 4, 6, 8].\n",
    "\n",
    "\n"
   ]
  },
  {
   "attachments": {},
   "cell_type": "markdown",
   "metadata": {},
   "source": [
    "### La pereza como virtud máxima del **buen** programador\n",
    "\n",
    "![](https://vmp-www.imgix.net/images/3f1e520ee2e31b4e6c6e5ba477d793df.original.jpg?auto=format&w=650&h=433.33&fit=crop&bri=-10)\n",
    "\n",
    "¿Donde está la diferencia entre hacer `[1,2,3,4]`y `range(5)`?\n",
    "\n",
    "La **gran diferencia** no está en **qué** se hace (es lo mismo) sino en **cómo** se hace.\n",
    "\n",
    "> `range` NO genera la secuencia de un golpe. La genera de forma perezosa\n",
    "\n",
    "\n",
    "`range`  nunca genera la secuencia completa, sino que genera un nuevo tipo llamado `range`(rango). Dicho rango sólo genera los elementos cuando se lo pides:\n",
    "\n",
    "* pides el siguiente, te devuelve `1` y no hace nada más.\n",
    "* pides el siguiente, te devuelve `2` y se vuelve a tumbar a la bartola\n",
    "* así sucesivamente, hasta que ya no hay más elementos que producir\n",
    "\n",
    "De esta forma, se logra lo siguiente:\n",
    "\n",
    "* no hacemos un montón de trabajo de un golpe\n",
    "* evitamos hacer trabajo que tal vez nunca haga falta\n",
    "\n",
    "Por ejemplo, si resulta que `1982451655` **no es primo**, basta con ir del 2 hasta el 5 (es divisible por cinco) en vez de generar una lista monstruosa que al final no se usaría para nada.\n",
    "\n",
    "> Es un acaso de **evaluación perezosa**"
   ]
  },
  {
   "attachments": {},
   "cell_type": "markdown",
   "metadata": {},
   "source": [
    "### range y for\n",
    "\n",
    "La función `range` devuelve una instancia de un nuevo tipo llamado también `range`.\n",
    "\n",
    "Dicho tipo se *comporta como una secuencia* pero de una manera diferente, generando los datos de uno en uno y sólo cuando hace falta: de manera perezosa.\n",
    "\n",
    "Al *comportarse como una secuencia*, se integra perfectamente con el `for` de Python:\n",
    "\n",
    "\n",
    "```Python\n",
    "for element in range(88999765):\n",
    "    # haz lo que sea con el elemento\n",
    "```\n",
    "\n",
    "Como usuario del lenguage Python, tú no tienes que preocuparte de los detalles de cómo se genera a secuencia, sólo de **qué** se tiene que hacer con cada uno de sus elementos: *Que cada perro se lama su cipote*.\n",
    "\n",
    "\n"
   ]
  },
  {
   "attachments": {},
   "cell_type": "markdown",
   "metadata": {},
   "source": [
    "### Resumen de Evaluación Perezosa\n",
    "\n",
    "Por lo general en Python, y casi todos los lenguajes, la estrategia de evaluación es *ansiosa* (Eager Evaluation): lo opuesto de la *evaluación perezosa* (lazy evaluation).\n",
    "\n",
    "Por ejemplo, en la mayoría de los lenguajes, antes de llamar a una función se evalúan sus parámetros.\n",
    "\n",
    "Hay lenguajes que no actúan de esta forma, pero son minoritarios (por ejemplo [Haskell](https://www.haskell.org/)), ya que el uso exclusivo de la evaluación perezosa hace más dificil a veces entender el código.\n",
    "\n",
    "Sin embargo, a veces el poner un toque de pereza, puede ser algo muy bueno, ya que permite cosas que antes no eran posibles o al menos eran muy difíciles.\n"
   ]
  },
  {
   "attachments": {},
   "cell_type": "markdown",
   "metadata": {},
   "source": [
    "\n",
    "#### Secuencias Infinitas\n",
    "\n",
    "Un ejemplo sería crear un tipo similar a `range`, una secuencia perezosa, poder para representar secuencias potencialmente infinitas.\n",
    "\n",
    "Por ejemplo, un juego de Ajedrez.\n",
    "\n",
    "![](https://i0.wp.com/culturedvultures.com/wp-content/uploads/2020/11/The-Queens-Gambit.jpg?fit=1200%2C787&ssl=1)\n",
    "\n",
    "\n",
    "Una forma de que un programa juegue al Ajedrez, y de hecho es uno de los algoritmos usados, sería el siguiente:\n",
    "\n",
    "1. El vil humano hace su patética jugada.\n",
    "2. Pedimos a *algo* en nuestro software, que representa *todas las posibles jugadas* a partir de ese estado, que nos dé la lista de las siguientes posibles jugadas mías.\n",
    "3. Analizamos esas posibles jugadas buscando la mejor.\n",
    "4. Elegimos una y esperamos a que el humano responda. Volvemos al punto (1).\n",
    "\n",
    "Cada jugada de tu adversario genera una nueva lista de posibles respuestas tuyas. Cada una de esas respuestas, genera a su vez una lista de respuesta del adversario, que a su vez.... Ya ves por donde va la cosa.\n",
    "\n",
    "Esto se puede representar por un árbol, donde cada nodo es una jugada y sus hijos son las posibles respuestas.\n",
    "\n",
    "No es que sea infinito, pero con un juego tan complejo como el Ajedrez, es grande de cojones. La mejor forma de gestionarlo es mediante una *secuencia perezosa* de jugadas.\n",
    "\n",
    "Esto es un caso típico de *Búsqueda*, donde se intenta encontrar, sino la mejor solución entre muchas, al menos una que pegue en el palo. \n",
    "\n",
    "Es sumamente común en IA, pero también en otros sectores.\n"
   ]
  },
  {
   "attachments": {},
   "cell_type": "markdown",
   "metadata": {},
   "source": [
    "¡Al labs de secuencias implíctas!"
   ]
  }
 ],
 "metadata": {
  "language_info": {
   "name": "python"
  },
  "orig_nbformat": 4
 },
 "nbformat": 4,
 "nbformat_minor": 2
}
