{
 "cells": [
  {
   "attachments": {},
   "cell_type": "markdown",
   "metadata": {},
   "source": [
    "# ¿Qué son las expresiones lambda en Python?\n",
    "\n",
    "-----\n",
    "\n"
   ]
  },
  {
   "attachments": {},
   "cell_type": "markdown",
   "metadata": {},
   "source": [
    "\n",
    "### Valores y nombres\n",
    "\n",
    "En Python, cuando creamos una variable, en el fondo lo que estamos haciendo es darle un nombre a un valor. Por ejemplo, al valor 42 le podemos dar el nombre answer.\n",
    "\n",
    "```Python\n",
    "answer = 42\n",
    "```\n",
    "\n",
    "Podemos hacer lo mismo con cualquier otro tipo de valor, no solo números: listas, cadenas, diccionarios, etc.\n",
    "\n",
    "Sabiendo esto, ¿qué significa la sintaxis habitual para definir una función?\n",
    "\n",
    "```Python\n",
    "def add_one(n):\n",
    "\treturn n + 1\n",
    "```\n",
    "\n",
    ">Estamos creando una función definida por el cuerpo de la función `(n + 1)` y le damos el nombre `add_one`. \n"
   ]
  },
  {
   "attachments": {},
   "cell_type": "markdown",
   "metadata": {},
   "source": [
    "\n",
    "Es decir, es lo mismo de antes, pero usando una **función como valor** (en vez de un número). Esto es perfectamente válido en Python, ya que las funciones también son valores (cosas a las que se les puede dar un nombre para reutilizarlas después).\n"
   ]
  },
  {
   "attachments": {},
   "cell_type": "markdown",
   "metadata": {},
   "source": [
    "\n",
    "#"
   ]
  },
  {
   "attachments": {},
   "cell_type": "markdown",
   "metadata": {},
   "source": [
    "#### Funciones Anónimas\n",
    "\n",
    "Al valor a pelo `(n + 1)` se le llama **función anónima**; por razones obvias, no tiene nombre (hasta que se lo demos). \n",
    "\n",
    "De la misma forma que resulta cómodo manejar valores sin un nombre, también lo es poder manejar funciones sin nombre. En Python, sobre todo cuando empiezas, no estás acostumbrado a ello y puede parecer raro, pero es exactamente lo mismo.\n",
    "\n",
    "```Python\n",
    "[1,2,3,4] \t# lista anónima\n",
    "54\t\t# número anónimo\n",
    "‘Hola’\t# cadena anónima\n",
    "```\n"
   ]
  },
  {
   "attachments": {},
   "cell_type": "markdown",
   "metadata": {},
   "source": [
    "#### Funciones Anónimas & Expresiones Lambda\n",
    "\n",
    "Las expresiones lambda son una forma de definir funciones sin nombre. La plantilla es la siguiente:\n",
    "\n",
    "```Python\n",
    "lambda <params>: <cuerpo de la función sin return>\n",
    "```\n",
    "\n",
    "Una limitación de las expresiones lambda en Python es que **solo pueden tener una línea**. Por lo tanto, solo pueden usarse para cosas muy sencillas. \n",
    "\n",
    "En otros lenguajes esa limitación no existe, es una manía de Python. Además, no hace falta la palabra clave return, se devolverá el valor de expresión en sí.\n",
    "\n",
    "Veamos un ejemplo, a ver si te das cuenta de algo interesante:\n",
    "\n",
    "```Python\n",
    "add_one = lambda n : n + 1\n",
    "```Python\n",
    "\n",
    "Si te fijas, esto es exactamente lo mismo que la anterior definición de `add_one`:\n",
    "\n",
    "1. Creamos una función que suma 1 a su único parámetro.\n",
    "1. Le damos un nombre.\n",
    "\n",
    "**Las dos declaraciones hacen lo mismo.**\n"
   ]
  },
  {
   "attachments": {},
   "cell_type": "markdown",
   "metadata": {},
   "source": [
    "##### ¿Para qué se usan las expresiones lambda?\n",
    "\n",
    "Pues para cosas muy sencillas que no se vayan a reutilizar mucho. \n",
    "\n",
    "Un ejemplo típico es para cuando usas una función que recibe entre sus parámetros a otra función. El parámetro suele ser una expresión lambda.\n",
    "\n",
    "```Python\n",
    "nums = [34, 4.2, 42, 12.5, 98, 4, 3, 87, 123.9]\n",
    "total = compress(nums, 0, lambda a, b: a + b)\n",
    "```\n",
    "\n"
   ]
  },
  {
   "attachments": {},
   "cell_type": "markdown",
   "metadata": {},
   "source": [
    "##### ¿Por qué lambda?\n",
    "\n",
    "Mira que es un nombre raro. ¿De dónde sale eso de lambda? ¿Algún perturbado de la historia antigua y de los espartanos?\n",
    "\n",
    "\n",
    "![](https://i.pinimg.com/originals/01/48/62/014862e95d624b1e155500d729a73e3d.jpg)\n",
    "\n",
    "*Los soldados espartanos llevaban todos un escudo con la letra lambda mayúscula (Λ) inscrito. Era por el nombre de su tierra (Esparta era solo la capital): Lacedemonia.*\n",
    "\n",
    "¿De dónde porras sacaron esto los informáticos? Además, es un nombre común para las funciones anónimas en cualquier lenguaje: Python, C++, Haskell, etc.\n",
    "\n",
    "Viene de una rama de las matemáticas llamada [cálculo lambda]https://es.wikipedia.org/wiki/C%C3%A1lculo_lambda), que fue creada por [Alonzo Church](https://es.wikipedia.org/wiki/Alonzo_Church) (sí, con z), uno de los **Grandes Dioses de la Computación** (la Trinidad serían Church, Von Neuman y Turing). \n",
    "\n",
    "1[](https://pr.princeton.edu/pwb/03/0505/m/7a.jpg)\n",
    "\n",
    "*Su Santidad impartiendo sabiduría funcional.*\n",
    "\n",
    "\n",
    "Se trata de la base matemática que subyace debajo de todos los lenguajes funcionales y es una especie de jiu-jitsu de las funciones matemáticas.\n"
   ]
  },
  {
   "attachments": {},
   "cell_type": "markdown",
   "metadata": {},
   "source": [
    "En su obra, Church utiliza una representación un poco distinta de las funciones. En el cole, usábamos algo así para representar una función:\n",
    "\n",
    "```\n",
    "f(x) = x + 1\n",
    "```\n",
    "\n",
    "Esta nomenclatura, la más común, la inventó Isaac Newton. Alonso Church usaba una diferente, con una lambda minúscula (λ):\n",
    "\n",
    "```\n",
    "λx. x + 1\n",
    "```\n",
    "\n",
    "De ahí viene lo de expresiones lambda. \n",
    "\n",
    "Ahora bien, ¿por qué Church eligió la letra griega lambda? Ni idea. \n",
    "\n",
    "¡Hasta ahí llego yo!  `¯\\_(ツ)_/¯`\n"
   ]
  },
  {
   "attachments": {},
   "cell_type": "markdown",
   "metadata": {},
   "source": []
  }
 ],
 "metadata": {
  "language_info": {
   "name": "python"
  },
  "orig_nbformat": 4
 },
 "nbformat": 4,
 "nbformat_minor": 2
}
