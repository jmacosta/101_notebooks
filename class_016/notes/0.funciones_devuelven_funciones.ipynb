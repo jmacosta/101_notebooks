{
 "cells": [
  {
   "attachments": {},
   "cell_type": "markdown",
   "metadata": {},
   "source": [
    "# Funciones que devuelven funciones\n",
    "\n",
    "----------------------------------"
   ]
  },
  {
   "attachments": {},
   "cell_type": "markdown",
   "metadata": {},
   "source": [
    "En anteriores lecciones hemos visto que las funciones también son un tipo de Python:"
   ]
  },
  {
   "cell_type": "code",
   "execution_count": 3,
   "metadata": {},
   "outputs": [
    {
     "data": {
      "text/plain": [
       "function"
      ]
     },
     "execution_count": 3,
     "metadata": {},
     "output_type": "execute_result"
    }
   ],
   "source": [
    "def foo(n):\n",
    "    return n\n",
    "\n",
    "type(foo)"
   ]
  },
  {
   "attachments": {},
   "cell_type": "markdown",
   "metadata": {},
   "source": [
    "##### Los Tipos tienen instancias\n",
    "\n",
    "Los *tipos* tienen un conjunto de *instancias* que puede ser finito o infinito (más o menos). \n",
    "\n",
    "Un ejemplo de tipo con infinitas instancias, sería `str`:  todas las cadenas que se te puedan ocurrir."
   ]
  },
  {
   "attachments": {},
   "cell_type": "markdown",
   "metadata": {},
   "source": [
    "Las *funciones* son un *tipo* con infinitas instancias también: todas las funciones que vienen en Python, y todas las que se te ocurran a ti."
   ]
  },
  {
   "attachments": {},
   "cell_type": "markdown",
   "metadata": {},
   "source": [
    "##### Los tipos tienen operaciones comunes\n",
    "\n",
    "Todos los *tipos* tienen algunas operaciones comunes que se pueden hacer con ellos.\n",
    "\n",
    "Por ejemplo, todos los `int` se pueden sumar.\n",
    "\n",
    "En el caso de las funciones, tenemos dos operaciones comunes:\n",
    "\n",
    "* llamar\n",
    "* componer\n",
    "\n"
   ]
  },
  {
   "attachments": {},
   "cell_type": "markdown",
   "metadata": {},
   "source": [
    "##### Las instancias de un tipo son un valor\n",
    "\n",
    "Un valor es algo que no puede ser simplificado más por parte del lenguaje. Algunso ejemplos son:\n",
    "\n",
    "* un entero o un decimal\n",
    "* una cadena\n",
    "* una lista\n",
    "* en general, toda instancia de un tipo es un valor\n",
    "\n",
    "> Si una función devuelve un valor y una función es en sí un valor,\n",
    "> ¿una función podría devolver otra función? **SI**\n",
    "\n"
   ]
  },
  {
   "attachments": {},
   "cell_type": "markdown",
   "metadata": {},
   "source": [
    "#### Funciones que devuelven funciones\n",
    "\n",
    "Supongamos que necesitas una función que le suma 1 a su parámetro. Podrías definirla dela siguiente manera:\n",
    "\n"
   ]
  },
  {
   "cell_type": "code",
   "execution_count": null,
   "metadata": {},
   "outputs": [],
   "source": [
    "def add1(n):\n",
    "    return n + 1"
   ]
  },
  {
   "attachments": {},
   "cell_type": "markdown",
   "metadata": {},
   "source": [
    "Pasado un tiempo, resulta que necesitas la función que suma 42 a su parámetro:"
   ]
  },
  {
   "cell_type": "code",
   "execution_count": null,
   "metadata": {},
   "outputs": [],
   "source": [
    "def add42(n):\n",
    "    return n + 42"
   ]
  },
  {
   "attachments": {},
   "cell_type": "markdown",
   "metadata": {},
   "source": [
    "Ahora resulta que necesitas la función que suma 39 a su parámetro. Esto empieza ya a ponerse pesado y los dioses del Principio DRY empiezan a cabrearse.\n",
    "\n",
    "Deberíamos de poder *automatizar* la creación de esas funciones tan parecidas entre sí.\n",
    "\n",
    "Ese *automatizar* significa: *crear una función, que recibe un parámetro (el número a sumar) y devuelve la función de suma*.\n",
    "\n",
    "Vamos a crear la función `add(m)` que recibe un parámetro `m` y devuelve *una función que acepta un parámetro y le suma `m`*.\n",
    "\n"
   ]
  },
  {
   "cell_type": "code",
   "execution_count": 4,
   "metadata": {},
   "outputs": [],
   "source": [
    "def add(m):\n",
    "    \"\"\"\n",
    "    Recibe un número (m) y devuelve la función que acepta un parámetro y le suma m.\n",
    "    \"\"\"\n",
    "    def _add(n):\n",
    "        \"\"\"\n",
    "        Función interna que sirve de patrón.\n",
    "        LO que vamos a devolver es una versión \n",
    "        especializada de ella\n",
    "        \"\"\"\n",
    "        return m + n\n",
    "    return _add"
   ]
  },
  {
   "attachments": {},
   "cell_type": "markdown",
   "metadata": {},
   "source": [
    "¿Qué devuelven las siguientes expresiones?\n",
    "\n",
    "1. `add`\n",
    "2. `add(1)`\n",
    "3. `add(1)(4)`\n",
    "4. `add(1)(-1)`"
   ]
  },
  {
   "attachments": {},
   "cell_type": "markdown",
   "metadata": {},
   "source": [
    "¿cual es la diferencia entre la función `add` de arriba y la siguiente:"
   ]
  },
  {
   "cell_type": "code",
   "execution_count": null,
   "metadata": {},
   "outputs": [],
   "source": [
    "def addd(m,n):\n",
    "    return m + n"
   ]
  },
  {
   "attachments": {},
   "cell_type": "markdown",
   "metadata": {},
   "source": [
    "#### Redefinir `add1` y `add42`\n",
    "\n",
    "Ahora que tenemos la función que crear sumadores, podemos redefinir `add1` y `add42` en base a `add`:"
   ]
  },
  {
   "cell_type": "code",
   "execution_count": 5,
   "metadata": {},
   "outputs": [
    {
     "name": "stdout",
     "output_type": "stream",
     "text": [
      "9\n",
      "84\n"
     ]
    }
   ],
   "source": [
    "add1 = add(1)\n",
    "add42 = add(42)\n",
    "\n",
    "\n",
    "# comprueba que funcionan correctamente\n",
    "print(add1(8))\n",
    "print(add42(42))"
   ]
  },
  {
   "attachments": {},
   "cell_type": "markdown",
   "metadata": {},
   "source": [
    "#### 🛎️ 🧢  ¿Qué pasa con `m`?\n",
    "\n",
    "`m` es el parámetro de la función `add` y la función interna `_add` lo *ve* porque está en el ámbito de la función `add`.\n",
    "\n",
    "1. Cuando se devuelve la función interna `_add` ésta *se lleva consigo una **copia** de m*. \n",
    "2. Cada versión de `_add` devuelta se lleva su propia copia, distinta de las demás.\n",
    "\n",
    "Cuando hacemos \n",
    "\n",
    "```Python\n",
    "add22 = add(22)\n",
    "add7 = add(7)\n",
    "```\n",
    "\n",
    "Tanto `add22` como `add7` tiene su propia versión de `m`, con valores de `22` y `7` respectivamente.\n",
    "\n",
    "> `_add` se lleva una copia del ámbito en el que es creada\n",
    "\n"
   ]
  },
  {
   "attachments": {},
   "cell_type": "markdown",
   "metadata": {},
   "source": [
    "\n",
    "#### 🛎️ 🧢  Clausura Léxica\n",
    "\n",
    "Cuando una función se lleva una copia del ámbito en el que ha sido creada, se dice que es una *clausura léxica*.  \n",
    "\n",
    "Todas las funciones de Python tienen ese superpoder y es común en la mayoría de los lenguajes modernos, como Swift, Kotlin, Javascript, Scala y otros muchos. Se trta de algo que resulta muy cómodo y potente.\n",
    "\n",
    "Lo usareis con frecuencia en Mobile y Web.\n"
   ]
  },
  {
   "attachments": {},
   "cell_type": "markdown",
   "metadata": {},
   "source": [
    "#### 🛎️ 🧢  Memoria entre llamada y llamada\n",
    "\n",
    "Una de las características de una función, es que su ámbito se crea cuando se le llama y se destruye cuando devuelve.\n",
    "\n",
    "Por ejemplo, lo siguiente función siempre devuelve `1`, no importa cuantas veces se le llame.\n"
   ]
  },
  {
   "cell_type": "code",
   "execution_count": null,
   "metadata": {},
   "outputs": [],
   "source": [
    "def inc():\n",
    "    counter = 0\n",
    "    counter = counter + 1\n",
    "    return counter"
   ]
  },
  {
   "attachments": {},
   "cell_type": "markdown",
   "metadata": {},
   "source": [
    "La razón es que `counter` siempre es recreado con valor cero cada vez que se llama a `inc()`.\n",
    "\n",
    "> La captura del entorno léxico, puede cambiar esto\n"
   ]
  },
  {
   "attachments": {},
   "cell_type": "markdown",
   "metadata": {},
   "source": [
    "Vamos a crear una nueva función que crea funciones similares a `inc`."
   ]
  },
  {
   "cell_type": "code",
   "execution_count": 10,
   "metadata": {},
   "outputs": [],
   "source": [
    "def inc_maker():\n",
    "    \"\"\"\n",
    "    Devuelve una función que va incrementando un contador\n",
    "    \"\"\"\n",
    "    counter = 0 # creamos un contador a cero\n",
    "    def _inc():\n",
    "        nonlocal counter        # 1\n",
    "        counter = counter + 1   # 2\n",
    "        return counter\n",
    "    return _inc"
   ]
  },
  {
   "attachments": {},
   "cell_type": "markdown",
   "metadata": {},
   "source": [
    "Aquí aparece algo nuevo (marcado con un 1) que tenemos que explicar.\n",
    "\n",
    "Cuando Python se encuentra con algo como:\n",
    "\n",
    "```Python\n",
    "name = \"Lucas\"\n",
    "```\n",
    "\n",
    "No está muy claro lo que debe de hacer:\n",
    "\n",
    "1. ¿Creo una nueva variable en el ámbito actual y le meto el valor \"Lucas\"?\n",
    "2. ¿Cambio el valor de una variable pre-existente (en el ámbito actual o alguno exterior) llamada `name`?\n",
    "\n",
    "La confusión viene del hecho de que Python *usa la misma sintaxis para las dos cosas*. La mayoría de los lenguajes con los\n",
    "que te vas a encontrar no padecen de esto, al tener sitaxis diferentes para cada caso.\n",
    "\n",
    "Cuando se encuentra con eso, lo que Python hace por defecto, sin pensar demasiado, es **crear una nueva variable** llamada `name`. Si había otra variable con ese nombre en un ámbito externo, le hará sombra y no la modificará.\n",
    "\n",
    "Por ejemplo, en este caso:\n",
    "\n",
    "```Python\n",
    "name = 'Guido' # creo una nueva variable\n",
    "def foo()->None:\n",
    "    name = 'Manolo' # creo otra variable local a éste ámbito\n",
    "    print(name)\n",
    "```\n",
    "\n",
    "Tras llamar a `foo`, la variable en el ámbito global sigue inalterada.\n",
    "\n",
    "##### `global`\n",
    "\n",
    "Ahora bien, supongamos que el código de `foo`fuese el siguiente:\n",
    "\n",
    "```Python\n",
    "name = 'Guido' # creo una nueva variable\n",
    "def foo()->None:\n",
    "    global name   # aviso que no quiero crear una nueva variable\n",
    "    name = 'Manolo' # sino que quiero alterar una global\n",
    "    print(name)\n",
    "```\n",
    "\n",
    "Al llamar a `foo`, se va a *cambiar la variable global*. \n",
    "**Nunca hagas esto**.\n",
    "\n",
    "\n",
    "##### `nonlocal`\n",
    "\n",
    "Si la variable pre-existente que queremos cambiar no es *global*, sino que está en un ámbito superior (sin llegar al global), hay otra palabra clave para indicar nuestro deseo de modificarla: `nonlocal`.\n",
    "\n",
    "Esto es lo que ocurre en esta función:\n",
    "\n",
    "```Python\n",
    "def inc_maker():\n",
    "    \"\"\"\n",
    "    Devuelve una función que va incrementando un contador\n",
    "    \"\"\"\n",
    "    counter = 0 # creamos una variable en este ámbito y le damos el valor 0\n",
    "    def _inc():\n",
    "        nonlocal counter        # Aviso que no quiero crea una nueva en este ámbito\n",
    "        counter = counter + 1   # sino cambiar la superior\n",
    "        return counter\n",
    "    return _inc\n",
    "```\n",
    "\n"
   ]
  },
  {
   "attachments": {},
   "cell_type": "markdown",
   "metadata": {},
   "source": [
    "#### Qué ocurre cuando `inc_maker` devuelve un `_inc`\n",
    "\n",
    "**Cada `inc` se lleva su propia copia de `counter`**.\n",
    "\n",
    "Por eso se dice que *las clausuras se llevan una copia de su entorno léxico*.\n",
    "\n",
    "![](clausuras_entorno_lexico.png)\n",
    "\n"
   ]
  },
  {
   "cell_type": "code",
   "execution_count": 13,
   "metadata": {},
   "outputs": [
    {
     "data": {
      "text/plain": [
       "1"
      ]
     },
     "execution_count": 13,
     "metadata": {},
     "output_type": "execute_result"
    }
   ],
   "source": [
    "c1 = inc_maker() # Un _inc con su propio counter\n",
    "c2 = inc_maker() # Otro _inc con un counter propio, distinto del anterior\n",
    "\n",
    "c1()    # su counter vale 1\n",
    "c1()    # su counter ahora vale 2\n",
    "c2()    # su counter vale 1"
   ]
  },
  {
   "attachments": {},
   "cell_type": "markdown",
   "metadata": {},
   "source": [
    "Mediante esta triquiñuela, las funciones `_inc` *tienen memoria* y su estado se preserva de una llamada a otra. Podemso saber cunatas veces han sido llamadas, por el valor de su varaible capturada.\n",
    "\n",
    "Esto es mucho más útil de lo que parece ahora mismo y lo usarás mucho en el futuro en lenguajes como Swift o Javascript."
   ]
  }
 ],
 "metadata": {
  "kernelspec": {
   "display_name": "Python 3",
   "language": "python",
   "name": "python3"
  },
  "language_info": {
   "codemirror_mode": {
    "name": "ipython",
    "version": 3
   },
   "file_extension": ".py",
   "mimetype": "text/x-python",
   "name": "python",
   "nbconvert_exporter": "python",
   "pygments_lexer": "ipython3",
   "version": "3.11.3"
  },
  "orig_nbformat": 4
 },
 "nbformat": 4,
 "nbformat_minor": 2
}
