{
 "cells": [
  {
   "attachments": {},
   "cell_type": "markdown",
   "metadata": {},
   "source": [
    "# Funciones como parámetros\n",
    "\n",
    "----------------\n",
    "\n"
   ]
  },
  {
   "attachments": {},
   "cell_type": "markdown",
   "metadata": {},
   "source": [
    "Ya hemos visto que las funciones son un tipo más, y pueden:\n",
    "\n",
    "* ser devueltas como resultado de otra función\n",
    "* ser aceptadas como parámetros de otra función\n",
    "\n",
    "Aquí nos vamos a centrar en la segunda parte. Esto es mucho más común que lo primero, y nos soluciona un problema que llevamod a ratros desde hace rato.\n"
   ]
  },
  {
   "attachments": {},
   "cell_type": "markdown",
   "metadata": {},
   "source": [
    "#### Patrón de código de los compresores\n",
    "\n",
    "Hace rato nos encontramos con un tipo de función a la que hemos llamado *compresor*: \n",
    "\n",
    "> Un compresor recibe a una secuencia de valores y los comprime a uno sólo, mediante una operación binari ay un valor inicial\n",
    "\n",
    "Por ejemplo, el siguiente *compresor* comprime una lista de números a uno sólo: la suma total:\n",
    "\n"
   ]
  },
  {
   "cell_type": "code",
   "execution_count": null,
   "metadata": {},
   "outputs": [],
   "source": [
    "def sum_all(numbers):\n",
    "    accum = 0\n",
    "    for number in numbers:\n",
    "        accum = accum + number\n",
    "    return accum"
   ]
  },
  {
   "attachments": {},
   "cell_type": "markdown",
   "metadata": {},
   "source": [
    "Todos los *compresores* siguen un mismo patrón de código. Lo único que cambia es lo que se pone entre corchetes angulares:\n",
    "\n",
    "```python\n",
    "\n",
    "def compress(elements):\n",
    "\n",
    "    # Acumulador con valor inicial\n",
    "    accum = <initial>\n",
    "\n",
    "    # iteramos\n",
    "    for element in elements:\n",
    "        # combinamos. La operación de combinación\n",
    "        # puede incluir un predicado que seleccione\n",
    "        # o no el valor actual para la combinación\n",
    "        accum = <combine>(element, accum)\n",
    "\n",
    "    # Tenemos en accum el valor comprimido\n",
    "    return accum\n",
    "```\n",
    "\n",
    "Esta repetición constante ofende a los Dioses de la Ciberkinesis y ahora por fin sabemos como resolverlo.\n",
    "\n",
    "Todos los compresores que hemos creado, se pueden resolver con una sola función `compress` que, además de la secuencia, recibe otros dos parámetros:\n",
    "\n",
    "1. El valor inicial\n",
    "2. La función de dos parámetros que va acumulando o combinando el valor actual con el del acumulador.\n",
    "   \n"
   ]
  },
  {
   "cell_type": "code",
   "execution_count": 1,
   "metadata": {},
   "outputs": [],
   "source": [
    "# Compresor Universal\n",
    "def compress(elements, initial_value, operation):\n",
    "    \"\"\"\n",
    "    Recibe una secuencia de elementos, un valor inicial y \n",
    "    una función que representa una operación de combinación\n",
    "    de dos elementos.\n",
    "    Devuelve un solo valor comprimido\n",
    "    \"\"\"\n",
    "    accum = initial_value\n",
    "    for element in elements:\n",
    "        accum = operation(accum, element)\n",
    "    return accum                                                                                                                                                                                                                                                                                                                                                                                                                                                                                                                                                                                                                                                                                                                                                                                                                                                                                                                                                                                                                                                                                                                                                                                                                                                                                                                                                                                                                                                                                                                                                                                                                                                                                                                                                                                                                                                                                                                                                                                                                                                                                                                                                                                                                                                                                                                                                                                                                                                                                                                                                                                                                                                                                                                                                                                                                                                                                                                                                                                                                                                                                                                                                                                                                                                                                                                                                                                                                                                                                                                                                                                                                                                                                                                                                                                                                                                                                                                                                                                                                                                                                                                                                                                                                                                                                                                                                                                                                                                                                                                                                                                                                                                                                                                                                                                                                                                                                                     "
   ]
  }
 ],
 "metadata": {
  "kernelspec": {
   "display_name": "Python 3",
   "language": "python",
   "name": "python3"
  },
  "language_info": {
   "codemirror_mode": {
    "name": "ipython",
    "version": 3
   },
   "file_extension": ".py",
   "mimetype": "text/x-python",
   "name": "python",
   "nbconvert_exporter": "python",
   "pygments_lexer": "ipython3",
   "version": "3.11.3"
  },
  "orig_nbformat": 4
 },
 "nbformat": 4,
 "nbformat_minor": 2
}
