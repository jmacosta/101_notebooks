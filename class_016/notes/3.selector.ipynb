{
 "cells": [
  {
   "attachments": {},
   "cell_type": "markdown",
   "metadata": {},
   "source": [
    "# Selector Universal\n",
    "\n",
    "-------------------------"
   ]
  },
  {
   "attachments": {},
   "cell_type": "markdown",
   "metadata": {},
   "source": [
    "\n",
    "Un *selector* e suna función que recibe una secuencia y devuelve parte de esa secuencia con sólo aquellos elementos que superan un cierto test. \n",
    "Dicho test está representado por un predicado.\n",
    "\n",
    "Si dicho predicado se recibe mediante un parámetro, tenemos un *selector universal*\n"
   ]
  },
  {
   "cell_type": "code",
   "execution_count": null,
   "metadata": {},
   "outputs": [],
   "source": [
    "# Selector Universal\n",
    "def select(elements: list, predicate)-> list:\n",
    "    \"\"\"\n",
    "    Recibe una lista y un predicado. Devuelve una nueva lista con aquellos elementos\n",
    "    que superan el test del predicado.\n",
    "    \"\"\"\n",
    "    selected = []\n",
    "    for element in elements:\n",
    "        if predicate(element):\n",
    "            selected.append(element)\n",
    "    return selected"
   ]
  },
  {
   "attachments": {},
   "cell_type": "markdown",
   "metadata": {},
   "source": []
  }
 ],
 "metadata": {
  "language_info": {
   "name": "python"
  },
  "orig_nbformat": 4
 },
 "nbformat": 4,
 "nbformat_minor": 2
}
