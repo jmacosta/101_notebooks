{
 "cells": [
  {
   "attachments": {},
   "cell_type": "markdown",
   "metadata": {},
   "source": [
    "# Transformador Universal\n",
    "\n",
    "----------------"
   ]
  },
  {
   "attachments": {},
   "cell_type": "markdown",
   "metadata": {},
   "source": [
    "Un *transformador* es cualquier función que recibe una lista, y devuelve otra lista, del mimso tamaño, con los elementos transformados de alguan manera.\n",
    "\n",
    "Un ejemplo, algo chorra, es la función `add_42`\n"
   ]
  },
  {
   "cell_type": "code",
   "execution_count": null,
   "metadata": {},
   "outputs": [],
   "source": [
    "def add_42(elements: list)->list:\n",
    "    new_list = []\n",
    "    for element in elements:\n",
    "        new_list.append(element + 42)\n",
    "    return new_list"
   ]
  },
  {
   "attachments": {},
   "cell_type": "markdown",
   "metadata": {},
   "source": [
    "Si la *operación de transformación* se recibe como una función por parámetro, podemos escribir el código de un *transformador universal*.\n",
    "La función debe de recibir un elemento de la lista y devolverlo transformado de alguna manera."
   ]
  },
  {
   "cell_type": "code",
   "execution_count": null,
   "metadata": {},
   "outputs": [],
   "source": [
    "# Transformador Universal\n",
    "def transform(elements:list, change_element) ->list :\n",
    "    new_list = []\n",
    "    for element in elements:\n",
    "        new_list.append(change_element(element))\n",
    "    return new_list\n"
   ]
  },
  {
   "attachments": {},
   "cell_type": "markdown",
   "metadata": {},
   "source": [
    "al lab de funciones de orden superior"
   ]
  }
 ],
 "metadata": {
  "language_info": {
   "name": "python"
  },
  "orig_nbformat": 4
 },
 "nbformat": 4,
 "nbformat_minor": 2
}
