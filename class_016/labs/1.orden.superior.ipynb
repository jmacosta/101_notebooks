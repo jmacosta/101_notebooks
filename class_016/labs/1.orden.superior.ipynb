{
 "cells": [
  {
   "attachments": {},
   "cell_type": "markdown",
   "metadata": {},
   "source": [
    "# Ejercicios de Funciones de Orden Superior\n",
    "\n",
    "----------------------"
   ]
  },
  {
   "attachments": {},
   "cell_type": "markdown",
   "metadata": {},
   "source": [
    "##### (0) Transformar\n",
    "\n",
    "Usando una expresión lambda, el transformador universal y la siguiente lista "
   ]
  },
  {
   "cell_type": "code",
   "execution_count": 3,
   "metadata": {},
   "outputs": [],
   "source": [
    "nums = [-1, -4, 1,2,3,4,5,6,7,8,9,-51, 36, 1832, 449]\n"
   ]
  },
  {
   "cell_type": "code",
   "execution_count": 1,
   "metadata": {},
   "outputs": [],
   "source": [
    "# Transformador Universal\n",
    "def transform(elements:list, change_element) ->list :\n",
    "    new_list = []\n",
    "    for element in elements:\n",
    "        new_list.append(change_element(element))\n",
    "    return new_list"
   ]
  },
  {
   "cell_type": "code",
   "execution_count": 7,
   "metadata": {},
   "outputs": [],
   "source": [
    "def select(elements: list, predicate)-> list:\n",
    "    \"\"\"\n",
    "    Recibe una lista y un predicado. Devuelve una nueva lista con aquellos elementos\n",
    "    que superan el test del predicado.\n",
    "    \"\"\"\n",
    "    selected = []\n",
    "    for element in elements:\n",
    "        if predicate(element):\n",
    "            selected.append(element)\n",
    "    return selected"
   ]
  },
  {
   "cell_type": "code",
   "execution_count": 8,
   "metadata": {},
   "outputs": [],
   "source": [
    "def compress(elements, initial_value, operation):\n",
    "    \"\"\"\n",
    "    Recibe una secuencia de elementos, un valor inicial y \n",
    "    una función que representa una operación de combinación\n",
    "    de dos elementos.\n",
    "    Devuelve un solo valor comprimido\n",
    "    \"\"\"\n",
    "    accum = initial_value\n",
    "    for element in elements:\n",
    "        accum = operation(accum, element)\n",
    "    return accum    "
   ]
  },
  {
   "cell_type": "code",
   "execution_count": 4,
   "metadata": {},
   "outputs": [
    {
     "data": {
      "text/plain": [
       "[1, 16, 1, 4, 9, 16, 25, 36, 49, 64, 81, 2601, 1296, 3356224, 201601]"
      ]
     },
     "execution_count": 4,
     "metadata": {},
     "output_type": "execute_result"
    }
   ],
   "source": [
    "transform(nums, lambda a: a**2)"
   ]
  },
  {
   "cell_type": "code",
   "execution_count": 5,
   "metadata": {},
   "outputs": [
    {
     "data": {
      "text/plain": [
       "[1, 4, 1, 2, 3, 4, 5, 6, 7, 8, 9, 51, 36, 1832, 449]"
      ]
     },
     "execution_count": 5,
     "metadata": {},
     "output_type": "execute_result"
    }
   ],
   "source": [
    "transform(nums, lambda a: abs(a))"
   ]
  },
  {
   "cell_type": "code",
   "execution_count": 6,
   "metadata": {},
   "outputs": [
    {
     "data": {
      "text/plain": [
       "[-1,\n",
       " -64,\n",
       " 1,\n",
       " 8,\n",
       " 27,\n",
       " 64,\n",
       " 125,\n",
       " 216,\n",
       " 343,\n",
       " 512,\n",
       " 729,\n",
       " -132651,\n",
       " 46656,\n",
       " 6148602368,\n",
       " 90518849]"
      ]
     },
     "execution_count": 6,
     "metadata": {},
     "output_type": "execute_result"
    }
   ],
   "source": [
    "transform(nums, lambda a: a**3)"
   ]
  },
  {
   "attachments": {},
   "cell_type": "markdown",
   "metadata": {},
   "source": [
    "1. Crea la lista con los cuadrados\n",
    "2. Crea la lista con los valores absolutos\n",
    "3. Crea la lista con los cubos"
   ]
  },
  {
   "attachments": {},
   "cell_type": "markdown",
   "metadata": {},
   "source": [
    "##### (1) Selección\n",
    "\n",
    "Usando la misma lista y el *selector universal*, crea:\n",
    "\n",
    "1. La lista de los números negativos\n",
    "2. La lista de los positivos\n",
    "3. La lista de los pares"
   ]
  },
  {
   "cell_type": "code",
   "execution_count": 9,
   "metadata": {},
   "outputs": [
    {
     "data": {
      "text/plain": [
       "[-1, -4, -51]"
      ]
     },
     "execution_count": 9,
     "metadata": {},
     "output_type": "execute_result"
    }
   ],
   "source": [
    "select(nums, lambda a: a<0)"
   ]
  },
  {
   "cell_type": "code",
   "execution_count": 10,
   "metadata": {},
   "outputs": [
    {
     "data": {
      "text/plain": [
       "[1, 2, 3, 4, 5, 6, 7, 8, 9, 36, 1832, 449]"
      ]
     },
     "execution_count": 10,
     "metadata": {},
     "output_type": "execute_result"
    }
   ],
   "source": [
    "select(nums, lambda a: a>0)"
   ]
  },
  {
   "cell_type": "code",
   "execution_count": 11,
   "metadata": {},
   "outputs": [
    {
     "data": {
      "text/plain": [
       "[-4, 2, 4, 6, 8, 36, 1832]"
      ]
     },
     "execution_count": 11,
     "metadata": {},
     "output_type": "execute_result"
    }
   ],
   "source": [
    "select(nums, lambda a: a%2==0)"
   ]
  },
  {
   "attachments": {},
   "cell_type": "markdown",
   "metadata": {},
   "source": [
    "##### (2) ¿Qué hace esta función?\n",
    "\n",
    "\n",
    "```Python\n",
    "def mistery(elements:list[int|float]) -> float:\n",
    "    tmp = transform(elements, lambda x : x + 2)\n",
    "    tmp = select(tmp, lambda x : (x % 2) == 0)\n",
    "    tmp = compress(tmp, 1, lambda accum, x : accum * x)\n",
    "    return tmp\n",
    "```\n",
    "\n"
   ]
  },
  {
   "attachments": {},
   "cell_type": "markdown",
   "metadata": {},
   "source": [
    "##### (3) Combinar Transformadores, Selectores y Compresores\n",
    "\n",
    "Usando las 3 funciones universales (Compresor, Transformador y Selector), aplicados uno detrás del otro, crea funciones que hacen lo siguiente:\n",
    "\n",
    "1. Recibe una lista de números y devuelve la suma de todos aquellos que sean múltiplos de 3.\n",
    "2. Recibe una lista de números y devuelve el producto de todos los menores que cero.\n",
    "3. Recibe una lista de cadenas, transforma cada una de ellas a mnúsculas y devuelve la concatenación de todas ellas, separadas por \";\". \n",
    "4. Averigua mediante chatGPT o lo que sea, lo que es un CSV."
   ]
  },
  {
   "cell_type": "code",
   "execution_count": 35,
   "metadata": {},
   "outputs": [
    {
     "data": {
      "text/plain": [
       "3"
      ]
     },
     "execution_count": 35,
     "metadata": {},
     "output_type": "execute_result"
    }
   ],
   "source": [
    "def sum_all_mult_3(elements):\n",
    "    \"\"\" \n",
    "    Recibe una lista de números y devuelve la suma de todos aquellos que sean múltiplos de 3.\n",
    "    \"\"\"\n",
    "    tmp = select(elements,lambda a: a%3==0)\n",
    "    tmp = (compress (tmp, 0, lambda accum ,a: accum +a))\n",
    "    return tmp\n",
    "\n",
    "sum_all_mult_3(nums)"
   ]
  },
  {
   "cell_type": "code",
   "execution_count": 37,
   "metadata": {},
   "outputs": [
    {
     "data": {
      "text/plain": [
       "-204"
      ]
     },
     "execution_count": 37,
     "metadata": {},
     "output_type": "execute_result"
    }
   ],
   "source": [
    "def product_all_negative(elements):\n",
    "    \"\"\" \n",
    "    Recibe una lista de números y devuelve el producto de todos los menores que cero.\n",
    "    \"\"\"\n",
    "    tmp = select(elements,lambda a: a<0)\n",
    "    tmp = (compress (tmp, 1, lambda accum ,a: accum *a))\n",
    "    return tmp\n",
    "\n",
    "product_all_negative(nums)"
   ]
  },
  {
   "cell_type": "code",
   "execution_count": 43,
   "metadata": {},
   "outputs": [
    {
     "data": {
      "text/plain": [
       "'hola;que;tal;'"
      ]
     },
     "execution_count": 43,
     "metadata": {},
     "output_type": "execute_result"
    }
   ],
   "source": [
    "def concat_and_lower_strings(elements):\n",
    "    \"\"\" \n",
    "    Recibe una lista de cadenas, transforma cada una de ellas a mnúsculas y devuelve la concatenación de todas ellas, separadas por \";\". \n",
    "    \"\"\"\n",
    "    tmp = transform(elements,lambda a: a.lower())\n",
    "    tmp = (compress (tmp, '', lambda accum ,a: accum +a+';'))\n",
    "    return tmp\n",
    "concat_and_lower_strings(['hola', 'que','tal'])"
   ]
  },
  {
   "attachments": {},
   "cell_type": "markdown",
   "metadata": {},
   "source": [
    "##### (4) Un pequeño problema...\n",
    "\n",
    "Veamos la siguiente función que recibe una lista de números:\n",
    "\n"
   ]
  },
  {
   "cell_type": "code",
   "execution_count": null,
   "metadata": {},
   "outputs": [],
   "source": [
    "def f(elements:list[int|float]) -> float:\n",
    "    tmp = transform(elements, lambda x : float(x))\n",
    "    tmp = select(tmp, lambda x : x < 1000)\n",
    "    tmp = compress(tmp, 0, lambda accum, x : (accum + x) / 2)\n",
    "    return tmp"
   ]
  },
  {
   "attachments": {},
   "cell_type": "markdown",
   "metadata": {},
   "source": [
    "Hace lo siguiente:\n",
    "\n",
    "1. Los transforma a `float` a todos\n",
    "2. Elimina aquellos que son mayores o iguales a 1000\n",
    "3. Calcula su promedio\n",
    "\n",
    "La implementación de dicha función representa varios *Pilares de la Ciberkinesis*:\n",
    "\n",
    "1. Divide y vencerás: el problema se rompre en 3 partes, cada una de ellas muy sencilla.\n",
    "2. Cada parte de la función hace una cosa y solo una cosa: Que cada perro se lama su cipote.\n",
    "\n",
    "Sin embargo, también tiene un problema serio: la eficiencia.\n",
    "\n",
    "A cada paso, la lista se vuelve a recorrer. En este caso, se recorre 3 veces. \n",
    "\n",
    "Si la lista tiene millones de números, eso será un problema grande.\n",
    "\n",
    "Podríamos resolverlo, haciendo todo en una sola operación y recorrer la lista una sola vez. Eso sí, perderíamos el buen diseño de la misma, y cuando la tengamos que modificar, dará más trabajo y será más fácil que aparezcan bugs.\n",
    "\n",
    "\n"
   ]
  }
 ],
 "metadata": {
  "kernelspec": {
   "display_name": "Python 3",
   "language": "python",
   "name": "python3"
  },
  "language_info": {
   "codemirror_mode": {
    "name": "ipython",
    "version": 3
   },
   "file_extension": ".py",
   "mimetype": "text/x-python",
   "name": "python",
   "nbconvert_exporter": "python",
   "pygments_lexer": "ipython3",
   "version": "3.10.10"
  },
  "orig_nbformat": 4
 },
 "nbformat": 4,
 "nbformat_minor": 2
}
